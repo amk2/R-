{
 "cells": [
  {
   "cell_type": "code",
   "execution_count": 10,
   "metadata": {},
   "outputs": [
    {
     "data": {
      "text/html": [
       "'/home/03390878700/Documentos/cursos/Curso R/Scripts'"
      ],
      "text/latex": [
       "'/home/03390878700/Documentos/cursos/Curso R/Scripts'"
      ],
      "text/markdown": [
       "'/home/03390878700/Documentos/cursos/Curso R/Scripts'"
      ],
      "text/plain": [
       "[1] \"/home/03390878700/Documentos/cursos/Curso R/Scripts\""
      ]
     },
     "metadata": {},
     "output_type": "display_data"
    }
   ],
   "source": [
    "getwd()"
   ]
  },
  {
   "cell_type": "code",
   "execution_count": 11,
   "metadata": {},
   "outputs": [],
   "source": [
    "dat.dir <- '/home/03390878700/Documentos/cursos/Curso R/Scripts/'\n",
    "wrk.dir <- '/home/03390878700/Documentos/cursos/Curso R/Scripts/'"
   ]
  },
  {
   "cell_type": "code",
   "execution_count": 12,
   "metadata": {},
   "outputs": [],
   "source": [
    "setwd(wrk.dir)"
   ]
  },
  {
   "cell_type": "code",
   "execution_count": 13,
   "metadata": {},
   "outputs": [
    {
     "data": {
      "text/html": [
       "'/home/03390878700/Documentos/cursos/Curso R/Scripts'"
      ],
      "text/latex": [
       "'/home/03390878700/Documentos/cursos/Curso R/Scripts'"
      ],
      "text/markdown": [
       "'/home/03390878700/Documentos/cursos/Curso R/Scripts'"
      ],
      "text/plain": [
       "[1] \"/home/03390878700/Documentos/cursos/Curso R/Scripts\""
      ]
     },
     "metadata": {},
     "output_type": "display_data"
    }
   ],
   "source": [
    "getwd()"
   ]
  },
  {
   "cell_type": "code",
   "execution_count": 14,
   "metadata": {},
   "outputs": [],
   "source": [
    "DAT <- read.table(paste(dat.dir, \"exemplocompraver.csv\", sep = \"\"), sep = \",\", header = TRUE)\n"
   ]
  },
  {
   "cell_type": "code",
   "execution_count": 15,
   "metadata": {},
   "outputs": [],
   "source": [
    "## changes class of date.  More later. Coloquei o campo ano. O exemplo anterior era Date\n",
    "class(DAT$ano_resultado_compra_s) <- \"POSIXct\"  \n",
    "\n"
   ]
  },
  {
   "cell_type": "code",
   "execution_count": 16,
   "metadata": {},
   "outputs": [],
   "source": [
    "write.table(DAT, \"test.csv\", sep = \",\")\n"
   ]
  },
  {
   "cell_type": "code",
   "execution_count": 17,
   "metadata": {},
   "outputs": [
    {
     "data": {
      "text/html": [
       "<ol class=list-inline>\n",
       "\t<li>10</li>\n",
       "\t<li>48</li>\n",
       "</ol>\n"
      ],
      "text/latex": [
       "\\begin{enumerate*}\n",
       "\\item 10\n",
       "\\item 48\n",
       "\\end{enumerate*}\n"
      ],
      "text/markdown": [
       "1. 10\n",
       "2. 48\n",
       "\n",
       "\n"
      ],
      "text/plain": [
       "[1] 10 48"
      ]
     },
     "metadata": {},
     "output_type": "display_data"
    }
   ],
   "source": [
    "dim(DAT)"
   ]
  },
  {
   "cell_type": "code",
   "execution_count": 18,
   "metadata": {},
   "outputs": [
    {
     "data": {
      "text/html": [
       "<table>\n",
       "<thead><tr><th scope=col>id</th><th scope=col>ano_resultado_compra_s</th><th scope=col>anomes_resultado_compra_s</th><th scope=col>co_orgao_siafi_s</th><th scope=col>no_orgao_siafi_s</th><th scope=col>co_unidade_gestora_s</th><th scope=col>no_unidade_gestora_s</th><th scope=col>uf_resp_compra_s</th><th scope=col>co_modal_compra_grupo_s</th><th scope=col>no_modal_compra_grupo_s</th><th scope=col>⋯</th><th scope=col>nu_economia_pregao_anual_td</th><th scope=col>nu_var_acumulada_anual_td</th><th scope=col>no_tipo_item_s</th><th scope=col>mes_resultado_compra_ti</th><th scope=col>qtd_ti</th><th scope=col>regra_corte_ti</th><th scope=col>vr_ipca_mensal_td</th><th scope=col>X_version_</th><th scope=col>score</th><th scope=col>vr_ipca_anual_td</th></tr></thead>\n",
       "<tbody>\n",
       "\t<tr><td>1.308e+33                                   </td><td>1969-12-31 21:33:33                         </td><td>201308                                      </td><td>52000                                       </td><td>MINISTERIO DEFESA                           </td><td>160055                                      </td><td>16 BATALHAO LOGISTICO- MEX/DF               </td><td>DF                                          </td><td>5                                           </td><td>Pregão                                      </td><td>⋯                                           </td><td> -10.433333                                 </td><td>0                                           </td><td>Material                                    </td><td>8                                           </td><td>1                                           </td><td>0                                           </td><td>1.045881                                    </td><td>1.497754e+18                                </td><td>1                                           </td><td>    NA                                      </td></tr>\n",
       "\t<tr><td>1.308e+33                                   </td><td>1969-12-31 21:33:33                         </td><td>201308                                      </td><td>22000                                       </td><td>MINIST. DA AGRICUL.,PECUARIA E ABASTECIMENTO</td><td>135017                                      </td><td>EMBRAPA/CNPGC                               </td><td>MS                                          </td><td>5                                           </td><td>Pregão                                      </td><td>⋯                                           </td><td>-300.801603                                 </td><td>0                                           </td><td>Material                                    </td><td>8                                           </td><td>1                                           </td><td>0                                           </td><td>1.113496                                    </td><td>1.497754e+18                                </td><td>1                                           </td><td>    NA                                      </td></tr>\n",
       "\t<tr><td>1.308e+33                                   </td><td>1969-12-31 21:33:33                         </td><td>201308                                      </td><td>15000                                       </td><td>JUSTICA DO TRABALHO                         </td><td> 80021                                      </td><td>TRIBUNAL REGIONAL DO TRABALHO DA 21A. REGIAO</td><td>RN                                          </td><td>5                                           </td><td>Pregão                                      </td><td>⋯                                           </td><td> -38.438182                                 </td><td>0                                           </td><td>Material                                    </td><td>8                                           </td><td>1                                           </td><td>0                                           </td><td>1.301947                                    </td><td>1.497754e+18                                </td><td>1                                           </td><td>    NA                                      </td></tr>\n",
       "\t<tr><td>1.308e+33                                   </td><td>1969-12-31 21:33:33                         </td><td>201308                                      </td><td>26000                                       </td><td>MINISTERIO DA EDUCACAO                      </td><td>154046                                      </td><td>FUNDACAO UNIVERSIDADE FEDERAL DE OURO PRETO </td><td>MG                                          </td><td>5                                           </td><td>Pregão                                      </td><td>⋯                                           </td><td>   6.735751                                 </td><td>0                                           </td><td>Material                                    </td><td>8                                           </td><td>1                                           </td><td>0                                           </td><td>1.470891                                    </td><td>1.497754e+18                                </td><td>1                                           </td><td>1.0569                                      </td></tr>\n",
       "\t<tr><td>1.308e+33                                   </td><td>1969-12-31 21:33:33                         </td><td>201308                                      </td><td>52000                                       </td><td>MINISTERIO DEFESA                           </td><td>160431                                      </td><td>4 REGIMENTO DE CAVALARIA BLINDADO/RS        </td><td>RS                                          </td><td>5                                           </td><td>Pregão                                      </td><td>⋯                                           </td><td> -67.142857                                 </td><td>0                                           </td><td>Material                                    </td><td>8                                           </td><td>1                                           </td><td>0                                           </td><td>1.188600                                    </td><td>1.497754e+18                                </td><td>1                                           </td><td>    NA                                      </td></tr>\n",
       "\t<tr><td>1.308e+33                                   </td><td>1969-12-31 21:33:33                         </td><td>201308                                      </td><td>52000                                       </td><td>MINISTERIO DEFESA                           </td><td>160139                                      </td><td>HOSPITAL DE GUARNICAO DE JOAO PESSOA        </td><td>PB                                          </td><td>5                                           </td><td>Pregão                                      </td><td>⋯                                           </td><td> -72.413793                                 </td><td>0                                           </td><td>Material                                    </td><td>8                                           </td><td>1                                           </td><td>0                                           </td><td>1.497830                                    </td><td>1.497754e+18                                </td><td>1                                           </td><td>    NA                                      </td></tr>\n",
       "</tbody>\n",
       "</table>\n"
      ],
      "text/latex": [
       "\\begin{tabular}{r|llllllllllllllllllllllllllllllllllllllllllllllll}\n",
       " id & ano\\_resultado\\_compra\\_s & anomes\\_resultado\\_compra\\_s & co\\_orgao\\_siafi\\_s & no\\_orgao\\_siafi\\_s & co\\_unidade\\_gestora\\_s & no\\_unidade\\_gestora\\_s & uf\\_resp\\_compra\\_s & co\\_modal\\_compra\\_grupo\\_s & no\\_modal\\_compra\\_grupo\\_s & ⋯ & nu\\_economia\\_pregao\\_anual\\_td & nu\\_var\\_acumulada\\_anual\\_td & no\\_tipo\\_item\\_s & mes\\_resultado\\_compra\\_ti & qtd\\_ti & regra\\_corte\\_ti & vr\\_ipca\\_mensal\\_td & X\\_version\\_ & score & vr\\_ipca\\_anual\\_td\\\\\n",
       "\\hline\n",
       "\t 1.308e+33                                    & 1969-12-31 21:33:33                          & 201308                                       & 52000                                        & MINISTERIO DEFESA                            & 160055                                       & 16 BATALHAO LOGISTICO- MEX/DF                & DF                                           & 5                                            & Pregão                                       & ⋯                                            &  -10.433333                                  & 0                                            & Material                                     & 8                                            & 1                                            & 0                                            & 1.045881                                     & 1.497754e+18                                 & 1                                            &     NA                                      \\\\\n",
       "\t 1.308e+33                                    & 1969-12-31 21:33:33                          & 201308                                       & 22000                                        & MINIST. DA AGRICUL.,PECUARIA E ABASTECIMENTO & 135017                                       & EMBRAPA/CNPGC                                & MS                                           & 5                                            & Pregão                                       & ⋯                                            & -300.801603                                  & 0                                            & Material                                     & 8                                            & 1                                            & 0                                            & 1.113496                                     & 1.497754e+18                                 & 1                                            &     NA                                      \\\\\n",
       "\t 1.308e+33                                    & 1969-12-31 21:33:33                          & 201308                                       & 15000                                        & JUSTICA DO TRABALHO                          &  80021                                       & TRIBUNAL REGIONAL DO TRABALHO DA 21A. REGIAO & RN                                           & 5                                            & Pregão                                       & ⋯                                            &  -38.438182                                  & 0                                            & Material                                     & 8                                            & 1                                            & 0                                            & 1.301947                                     & 1.497754e+18                                 & 1                                            &     NA                                      \\\\\n",
       "\t 1.308e+33                                    & 1969-12-31 21:33:33                          & 201308                                       & 26000                                        & MINISTERIO DA EDUCACAO                       & 154046                                       & FUNDACAO UNIVERSIDADE FEDERAL DE OURO PRETO  & MG                                           & 5                                            & Pregão                                       & ⋯                                            &    6.735751                                  & 0                                            & Material                                     & 8                                            & 1                                            & 0                                            & 1.470891                                     & 1.497754e+18                                 & 1                                            & 1.0569                                      \\\\\n",
       "\t 1.308e+33                                    & 1969-12-31 21:33:33                          & 201308                                       & 52000                                        & MINISTERIO DEFESA                            & 160431                                       & 4 REGIMENTO DE CAVALARIA BLINDADO/RS         & RS                                           & 5                                            & Pregão                                       & ⋯                                            &  -67.142857                                  & 0                                            & Material                                     & 8                                            & 1                                            & 0                                            & 1.188600                                     & 1.497754e+18                                 & 1                                            &     NA                                      \\\\\n",
       "\t 1.308e+33                                    & 1969-12-31 21:33:33                          & 201308                                       & 52000                                        & MINISTERIO DEFESA                            & 160139                                       & HOSPITAL DE GUARNICAO DE JOAO PESSOA         & PB                                           & 5                                            & Pregão                                       & ⋯                                            &  -72.413793                                  & 0                                            & Material                                     & 8                                            & 1                                            & 0                                            & 1.497830                                     & 1.497754e+18                                 & 1                                            &     NA                                      \\\\\n",
       "\\end{tabular}\n"
      ],
      "text/markdown": [
       "\n",
       "id | ano_resultado_compra_s | anomes_resultado_compra_s | co_orgao_siafi_s | no_orgao_siafi_s | co_unidade_gestora_s | no_unidade_gestora_s | uf_resp_compra_s | co_modal_compra_grupo_s | no_modal_compra_grupo_s | ⋯ | nu_economia_pregao_anual_td | nu_var_acumulada_anual_td | no_tipo_item_s | mes_resultado_compra_ti | qtd_ti | regra_corte_ti | vr_ipca_mensal_td | X_version_ | score | vr_ipca_anual_td | \n",
       "|---|---|---|---|---|---|\n",
       "| 1.308e+33                                    | 1969-12-31 21:33:33                          | 201308                                       | 52000                                        | MINISTERIO DEFESA                            | 160055                                       | 16 BATALHAO LOGISTICO- MEX/DF                | DF                                           | 5                                            | Pregão                                       | ⋯                                            |  -10.433333                                  | 0                                            | Material                                     | 8                                            | 1                                            | 0                                            | 1.045881                                     | 1.497754e+18                                 | 1                                            |     NA                                       | \n",
       "| 1.308e+33                                    | 1969-12-31 21:33:33                          | 201308                                       | 22000                                        | MINIST. DA AGRICUL.,PECUARIA E ABASTECIMENTO | 135017                                       | EMBRAPA/CNPGC                                | MS                                           | 5                                            | Pregão                                       | ⋯                                            | -300.801603                                  | 0                                            | Material                                     | 8                                            | 1                                            | 0                                            | 1.113496                                     | 1.497754e+18                                 | 1                                            |     NA                                       | \n",
       "| 1.308e+33                                    | 1969-12-31 21:33:33                          | 201308                                       | 15000                                        | JUSTICA DO TRABALHO                          |  80021                                       | TRIBUNAL REGIONAL DO TRABALHO DA 21A. REGIAO | RN                                           | 5                                            | Pregão                                       | ⋯                                            |  -38.438182                                  | 0                                            | Material                                     | 8                                            | 1                                            | 0                                            | 1.301947                                     | 1.497754e+18                                 | 1                                            |     NA                                       | \n",
       "| 1.308e+33                                    | 1969-12-31 21:33:33                          | 201308                                       | 26000                                        | MINISTERIO DA EDUCACAO                       | 154046                                       | FUNDACAO UNIVERSIDADE FEDERAL DE OURO PRETO  | MG                                           | 5                                            | Pregão                                       | ⋯                                            |    6.735751                                  | 0                                            | Material                                     | 8                                            | 1                                            | 0                                            | 1.470891                                     | 1.497754e+18                                 | 1                                            | 1.0569                                       | \n",
       "| 1.308e+33                                    | 1969-12-31 21:33:33                          | 201308                                       | 52000                                        | MINISTERIO DEFESA                            | 160431                                       | 4 REGIMENTO DE CAVALARIA BLINDADO/RS         | RS                                           | 5                                            | Pregão                                       | ⋯                                            |  -67.142857                                  | 0                                            | Material                                     | 8                                            | 1                                            | 0                                            | 1.188600                                     | 1.497754e+18                                 | 1                                            |     NA                                       | \n",
       "| 1.308e+33                                    | 1969-12-31 21:33:33                          | 201308                                       | 52000                                        | MINISTERIO DEFESA                            | 160139                                       | HOSPITAL DE GUARNICAO DE JOAO PESSOA         | PB                                           | 5                                            | Pregão                                       | ⋯                                            |  -72.413793                                  | 0                                            | Material                                     | 8                                            | 1                                            | 0                                            | 1.497830                                     | 1.497754e+18                                 | 1                                            |     NA                                       | \n",
       "\n",
       "\n"
      ],
      "text/plain": [
       "  id        ano_resultado_compra_s anomes_resultado_compra_s co_orgao_siafi_s\n",
       "1 1.308e+33 1969-12-31 21:33:33    201308                    52000           \n",
       "2 1.308e+33 1969-12-31 21:33:33    201308                    22000           \n",
       "3 1.308e+33 1969-12-31 21:33:33    201308                    15000           \n",
       "4 1.308e+33 1969-12-31 21:33:33    201308                    26000           \n",
       "5 1.308e+33 1969-12-31 21:33:33    201308                    52000           \n",
       "6 1.308e+33 1969-12-31 21:33:33    201308                    52000           \n",
       "  no_orgao_siafi_s                             co_unidade_gestora_s\n",
       "1 MINISTERIO DEFESA                            160055              \n",
       "2 MINIST. DA AGRICUL.,PECUARIA E ABASTECIMENTO 135017              \n",
       "3 JUSTICA DO TRABALHO                           80021              \n",
       "4 MINISTERIO DA EDUCACAO                       154046              \n",
       "5 MINISTERIO DEFESA                            160431              \n",
       "6 MINISTERIO DEFESA                            160139              \n",
       "  no_unidade_gestora_s                         uf_resp_compra_s\n",
       "1 16 BATALHAO LOGISTICO- MEX/DF                DF              \n",
       "2 EMBRAPA/CNPGC                                MS              \n",
       "3 TRIBUNAL REGIONAL DO TRABALHO DA 21A. REGIAO RN              \n",
       "4 FUNDACAO UNIVERSIDADE FEDERAL DE OURO PRETO  MG              \n",
       "5 4 REGIMENTO DE CAVALARIA BLINDADO/RS         RS              \n",
       "6 HOSPITAL DE GUARNICAO DE JOAO PESSOA         PB              \n",
       "  co_modal_compra_grupo_s no_modal_compra_grupo_s ⋯ nu_economia_pregao_anual_td\n",
       "1 5                       Pregão                  ⋯  -10.433333                \n",
       "2 5                       Pregão                  ⋯ -300.801603                \n",
       "3 5                       Pregão                  ⋯  -38.438182                \n",
       "4 5                       Pregão                  ⋯    6.735751                \n",
       "5 5                       Pregão                  ⋯  -67.142857                \n",
       "6 5                       Pregão                  ⋯  -72.413793                \n",
       "  nu_var_acumulada_anual_td no_tipo_item_s mes_resultado_compra_ti qtd_ti\n",
       "1 0                         Material       8                       1     \n",
       "2 0                         Material       8                       1     \n",
       "3 0                         Material       8                       1     \n",
       "4 0                         Material       8                       1     \n",
       "5 0                         Material       8                       1     \n",
       "6 0                         Material       8                       1     \n",
       "  regra_corte_ti vr_ipca_mensal_td X_version_   score vr_ipca_anual_td\n",
       "1 0              1.045881          1.497754e+18 1         NA          \n",
       "2 0              1.113496          1.497754e+18 1         NA          \n",
       "3 0              1.301947          1.497754e+18 1         NA          \n",
       "4 0              1.470891          1.497754e+18 1     1.0569          \n",
       "5 0              1.188600          1.497754e+18 1         NA          \n",
       "6 0              1.497830          1.497754e+18 1         NA          "
      ]
     },
     "metadata": {},
     "output_type": "display_data"
    }
   ],
   "source": [
    "head(DAT)"
   ]
  },
  {
   "cell_type": "code",
   "execution_count": 19,
   "metadata": {},
   "outputs": [
    {
     "data": {
      "text/html": [
       "<table>\n",
       "<thead><tr><th></th><th scope=col>id</th><th scope=col>ano_resultado_compra_s</th><th scope=col>anomes_resultado_compra_s</th><th scope=col>co_orgao_siafi_s</th><th scope=col>no_orgao_siafi_s</th><th scope=col>co_unidade_gestora_s</th><th scope=col>no_unidade_gestora_s</th><th scope=col>uf_resp_compra_s</th><th scope=col>co_modal_compra_grupo_s</th><th scope=col>no_modal_compra_grupo_s</th><th scope=col>⋯</th><th scope=col>nu_economia_pregao_anual_td</th><th scope=col>nu_var_acumulada_anual_td</th><th scope=col>no_tipo_item_s</th><th scope=col>mes_resultado_compra_ti</th><th scope=col>qtd_ti</th><th scope=col>regra_corte_ti</th><th scope=col>vr_ipca_mensal_td</th><th scope=col>X_version_</th><th scope=col>score</th><th scope=col>vr_ipca_anual_td</th></tr></thead>\n",
       "<tbody>\n",
       "\t<tr><th scope=row>5</th><td>1.308e+33                                  </td><td>1969-12-31 21:33:33                        </td><td>201308                                     </td><td>52000                                      </td><td>MINISTERIO DEFESA                          </td><td>160431                                     </td><td>4 REGIMENTO DE CAVALARIA BLINDADO/RS       </td><td>RS                                         </td><td>5                                          </td><td>Pregão                                     </td><td>⋯                                          </td><td> -67.14286                                 </td><td>0                                          </td><td>Material                                   </td><td>8                                          </td><td>1                                          </td><td>0                                          </td><td>1.188600                                   </td><td>1.497754e+18                               </td><td>1                                          </td><td>NA                                         </td></tr>\n",
       "\t<tr><th scope=row>6</th><td>1.308e+33                                  </td><td>1969-12-31 21:33:33                        </td><td>201308                                     </td><td>52000                                      </td><td>MINISTERIO DEFESA                          </td><td>160139                                     </td><td>HOSPITAL DE GUARNICAO DE JOAO PESSOA       </td><td>PB                                         </td><td>5                                          </td><td>Pregão                                     </td><td>⋯                                          </td><td> -72.41379                                 </td><td>0                                          </td><td>Material                                   </td><td>8                                          </td><td>1                                          </td><td>0                                          </td><td>1.497830                                   </td><td>1.497754e+18                               </td><td>1                                          </td><td>NA                                         </td></tr>\n",
       "\t<tr><th scope=row>7</th><td>1.308e+33                                  </td><td>1969-12-31 21:33:33                        </td><td>201308                                     </td><td>52000                                      </td><td>MINISTERIO DEFESA                          </td><td>160410                                     </td><td>4 BATALHAO LOGISTICO EM SANTA MARIA/RS     </td><td>RS                                         </td><td>5                                          </td><td>Pregão                                     </td><td>⋯                                          </td><td> -27.11864                                 </td><td>0                                          </td><td>Material                                   </td><td>8                                          </td><td>1                                          </td><td>0                                          </td><td>1.119404                                   </td><td>1.497754e+18                               </td><td>1                                          </td><td>NA                                         </td></tr>\n",
       "\t<tr><th scope=row>8</th><td>1.308e+33                                  </td><td>1969-12-31 21:33:33                        </td><td>201308                                     </td><td>26000                                      </td><td>MINISTERIO DA EDUCACAO                     </td><td>154046                                     </td><td>FUNDACAO UNIVERSIDADE FEDERAL DE OURO PRETO</td><td>MG                                         </td><td>5                                          </td><td>Pregão                                     </td><td>⋯                                          </td><td> -81.08108                                 </td><td>0                                          </td><td>Material                                   </td><td>8                                          </td><td>1                                          </td><td>0                                          </td><td>1.322225                                   </td><td>1.497754e+18                               </td><td>1                                          </td><td>NA                                         </td></tr>\n",
       "\t<tr><th scope=row>9</th><td>1.308e+33                                  </td><td>1969-12-31 21:33:33                        </td><td>201308                                     </td><td>52000                                      </td><td>MINISTERIO DEFESA                          </td><td>160195                                     </td><td>COMANDO DO COMANDO MILITAR DO NORDESTE     </td><td>PE                                         </td><td>5                                          </td><td>Pregão                                     </td><td>⋯                                          </td><td>-594.44444                                 </td><td>0                                          </td><td>Material                                   </td><td>8                                          </td><td>1                                          </td><td>0                                          </td><td>1.045881                                   </td><td>1.497754e+18                               </td><td>1                                          </td><td>NA                                         </td></tr>\n",
       "\t<tr><th scope=row>10</th><td>1.308e+33                                  </td><td>1969-12-31 21:33:33                        </td><td>201308                                     </td><td>26000                                      </td><td>MINISTERIO DA EDUCACAO                     </td><td>153296                                     </td><td>NUCLEO DE CIENCIAS AGRARIAS/UFMG           </td><td>MG                                         </td><td>6                                          </td><td>Dispensa de Licitação                      </td><td>⋯                                          </td><td>   0.00000                                 </td><td>0                                          </td><td>Material                                   </td><td>8                                          </td><td>1                                          </td><td>0                                          </td><td>1.222254                                   </td><td>1.497754e+18                               </td><td>1                                          </td><td>NA                                         </td></tr>\n",
       "</tbody>\n",
       "</table>\n"
      ],
      "text/latex": [
       "\\begin{tabular}{r|llllllllllllllllllllllllllllllllllllllllllllllll}\n",
       "  & id & ano\\_resultado\\_compra\\_s & anomes\\_resultado\\_compra\\_s & co\\_orgao\\_siafi\\_s & no\\_orgao\\_siafi\\_s & co\\_unidade\\_gestora\\_s & no\\_unidade\\_gestora\\_s & uf\\_resp\\_compra\\_s & co\\_modal\\_compra\\_grupo\\_s & no\\_modal\\_compra\\_grupo\\_s & ⋯ & nu\\_economia\\_pregao\\_anual\\_td & nu\\_var\\_acumulada\\_anual\\_td & no\\_tipo\\_item\\_s & mes\\_resultado\\_compra\\_ti & qtd\\_ti & regra\\_corte\\_ti & vr\\_ipca\\_mensal\\_td & X\\_version\\_ & score & vr\\_ipca\\_anual\\_td\\\\\n",
       "\\hline\n",
       "\t5 & 1.308e+33                                   & 1969-12-31 21:33:33                         & 201308                                      & 52000                                       & MINISTERIO DEFESA                           & 160431                                      & 4 REGIMENTO DE CAVALARIA BLINDADO/RS        & RS                                          & 5                                           & Pregão                                      & ⋯                                           &  -67.14286                                  & 0                                           & Material                                    & 8                                           & 1                                           & 0                                           & 1.188600                                    & 1.497754e+18                                & 1                                           & NA                                         \\\\\n",
       "\t6 & 1.308e+33                                   & 1969-12-31 21:33:33                         & 201308                                      & 52000                                       & MINISTERIO DEFESA                           & 160139                                      & HOSPITAL DE GUARNICAO DE JOAO PESSOA        & PB                                          & 5                                           & Pregão                                      & ⋯                                           &  -72.41379                                  & 0                                           & Material                                    & 8                                           & 1                                           & 0                                           & 1.497830                                    & 1.497754e+18                                & 1                                           & NA                                         \\\\\n",
       "\t7 & 1.308e+33                                   & 1969-12-31 21:33:33                         & 201308                                      & 52000                                       & MINISTERIO DEFESA                           & 160410                                      & 4 BATALHAO LOGISTICO EM SANTA MARIA/RS      & RS                                          & 5                                           & Pregão                                      & ⋯                                           &  -27.11864                                  & 0                                           & Material                                    & 8                                           & 1                                           & 0                                           & 1.119404                                    & 1.497754e+18                                & 1                                           & NA                                         \\\\\n",
       "\t8 & 1.308e+33                                   & 1969-12-31 21:33:33                         & 201308                                      & 26000                                       & MINISTERIO DA EDUCACAO                      & 154046                                      & FUNDACAO UNIVERSIDADE FEDERAL DE OURO PRETO & MG                                          & 5                                           & Pregão                                      & ⋯                                           &  -81.08108                                  & 0                                           & Material                                    & 8                                           & 1                                           & 0                                           & 1.322225                                    & 1.497754e+18                                & 1                                           & NA                                         \\\\\n",
       "\t9 & 1.308e+33                                   & 1969-12-31 21:33:33                         & 201308                                      & 52000                                       & MINISTERIO DEFESA                           & 160195                                      & COMANDO DO COMANDO MILITAR DO NORDESTE      & PE                                          & 5                                           & Pregão                                      & ⋯                                           & -594.44444                                  & 0                                           & Material                                    & 8                                           & 1                                           & 0                                           & 1.045881                                    & 1.497754e+18                                & 1                                           & NA                                         \\\\\n",
       "\t10 & 1.308e+33                                   & 1969-12-31 21:33:33                         & 201308                                      & 26000                                       & MINISTERIO DA EDUCACAO                      & 153296                                      & NUCLEO DE CIENCIAS AGRARIAS/UFMG            & MG                                          & 6                                           & Dispensa de Licitação                       & ⋯                                           &    0.00000                                  & 0                                           & Material                                    & 8                                           & 1                                           & 0                                           & 1.222254                                    & 1.497754e+18                                & 1                                           & NA                                         \\\\\n",
       "\\end{tabular}\n"
      ],
      "text/markdown": [
       "\n",
       "| <!--/--> | id | ano_resultado_compra_s | anomes_resultado_compra_s | co_orgao_siafi_s | no_orgao_siafi_s | co_unidade_gestora_s | no_unidade_gestora_s | uf_resp_compra_s | co_modal_compra_grupo_s | no_modal_compra_grupo_s | ⋯ | nu_economia_pregao_anual_td | nu_var_acumulada_anual_td | no_tipo_item_s | mes_resultado_compra_ti | qtd_ti | regra_corte_ti | vr_ipca_mensal_td | X_version_ | score | vr_ipca_anual_td | \n",
       "|---|---|---|---|---|---|\n",
       "| 5 | 1.308e+33                                   | 1969-12-31 21:33:33                         | 201308                                      | 52000                                       | MINISTERIO DEFESA                           | 160431                                      | 4 REGIMENTO DE CAVALARIA BLINDADO/RS        | RS                                          | 5                                           | Pregão                                      | ⋯                                           |  -67.14286                                  | 0                                           | Material                                    | 8                                           | 1                                           | 0                                           | 1.188600                                    | 1.497754e+18                                | 1                                           | NA                                          | \n",
       "| 6 | 1.308e+33                                   | 1969-12-31 21:33:33                         | 201308                                      | 52000                                       | MINISTERIO DEFESA                           | 160139                                      | HOSPITAL DE GUARNICAO DE JOAO PESSOA        | PB                                          | 5                                           | Pregão                                      | ⋯                                           |  -72.41379                                  | 0                                           | Material                                    | 8                                           | 1                                           | 0                                           | 1.497830                                    | 1.497754e+18                                | 1                                           | NA                                          | \n",
       "| 7 | 1.308e+33                                   | 1969-12-31 21:33:33                         | 201308                                      | 52000                                       | MINISTERIO DEFESA                           | 160410                                      | 4 BATALHAO LOGISTICO EM SANTA MARIA/RS      | RS                                          | 5                                           | Pregão                                      | ⋯                                           |  -27.11864                                  | 0                                           | Material                                    | 8                                           | 1                                           | 0                                           | 1.119404                                    | 1.497754e+18                                | 1                                           | NA                                          | \n",
       "| 8 | 1.308e+33                                   | 1969-12-31 21:33:33                         | 201308                                      | 26000                                       | MINISTERIO DA EDUCACAO                      | 154046                                      | FUNDACAO UNIVERSIDADE FEDERAL DE OURO PRETO | MG                                          | 5                                           | Pregão                                      | ⋯                                           |  -81.08108                                  | 0                                           | Material                                    | 8                                           | 1                                           | 0                                           | 1.322225                                    | 1.497754e+18                                | 1                                           | NA                                          | \n",
       "| 9 | 1.308e+33                                   | 1969-12-31 21:33:33                         | 201308                                      | 52000                                       | MINISTERIO DEFESA                           | 160195                                      | COMANDO DO COMANDO MILITAR DO NORDESTE      | PE                                          | 5                                           | Pregão                                      | ⋯                                           | -594.44444                                  | 0                                           | Material                                    | 8                                           | 1                                           | 0                                           | 1.045881                                    | 1.497754e+18                                | 1                                           | NA                                          | \n",
       "| 10 | 1.308e+33                                   | 1969-12-31 21:33:33                         | 201308                                      | 26000                                       | MINISTERIO DA EDUCACAO                      | 153296                                      | NUCLEO DE CIENCIAS AGRARIAS/UFMG            | MG                                          | 6                                           | Dispensa de Licitação                       | ⋯                                           |    0.00000                                  | 0                                           | Material                                    | 8                                           | 1                                           | 0                                           | 1.222254                                    | 1.497754e+18                                | 1                                           | NA                                          | \n",
       "\n",
       "\n"
      ],
      "text/plain": [
       "   id        ano_resultado_compra_s anomes_resultado_compra_s co_orgao_siafi_s\n",
       "5  1.308e+33 1969-12-31 21:33:33    201308                    52000           \n",
       "6  1.308e+33 1969-12-31 21:33:33    201308                    52000           \n",
       "7  1.308e+33 1969-12-31 21:33:33    201308                    52000           \n",
       "8  1.308e+33 1969-12-31 21:33:33    201308                    26000           \n",
       "9  1.308e+33 1969-12-31 21:33:33    201308                    52000           \n",
       "10 1.308e+33 1969-12-31 21:33:33    201308                    26000           \n",
       "   no_orgao_siafi_s       co_unidade_gestora_s\n",
       "5  MINISTERIO DEFESA      160431              \n",
       "6  MINISTERIO DEFESA      160139              \n",
       "7  MINISTERIO DEFESA      160410              \n",
       "8  MINISTERIO DA EDUCACAO 154046              \n",
       "9  MINISTERIO DEFESA      160195              \n",
       "10 MINISTERIO DA EDUCACAO 153296              \n",
       "   no_unidade_gestora_s                        uf_resp_compra_s\n",
       "5  4 REGIMENTO DE CAVALARIA BLINDADO/RS        RS              \n",
       "6  HOSPITAL DE GUARNICAO DE JOAO PESSOA        PB              \n",
       "7  4 BATALHAO LOGISTICO EM SANTA MARIA/RS      RS              \n",
       "8  FUNDACAO UNIVERSIDADE FEDERAL DE OURO PRETO MG              \n",
       "9  COMANDO DO COMANDO MILITAR DO NORDESTE      PE              \n",
       "10 NUCLEO DE CIENCIAS AGRARIAS/UFMG            MG              \n",
       "   co_modal_compra_grupo_s no_modal_compra_grupo_s ⋯\n",
       "5  5                       Pregão                  ⋯\n",
       "6  5                       Pregão                  ⋯\n",
       "7  5                       Pregão                  ⋯\n",
       "8  5                       Pregão                  ⋯\n",
       "9  5                       Pregão                  ⋯\n",
       "10 6                       Dispensa de Licitação   ⋯\n",
       "   nu_economia_pregao_anual_td nu_var_acumulada_anual_td no_tipo_item_s\n",
       "5   -67.14286                  0                         Material      \n",
       "6   -72.41379                  0                         Material      \n",
       "7   -27.11864                  0                         Material      \n",
       "8   -81.08108                  0                         Material      \n",
       "9  -594.44444                  0                         Material      \n",
       "10    0.00000                  0                         Material      \n",
       "   mes_resultado_compra_ti qtd_ti regra_corte_ti vr_ipca_mensal_td X_version_  \n",
       "5  8                       1      0              1.188600          1.497754e+18\n",
       "6  8                       1      0              1.497830          1.497754e+18\n",
       "7  8                       1      0              1.119404          1.497754e+18\n",
       "8  8                       1      0              1.322225          1.497754e+18\n",
       "9  8                       1      0              1.045881          1.497754e+18\n",
       "10 8                       1      0              1.222254          1.497754e+18\n",
       "   score vr_ipca_anual_td\n",
       "5  1     NA              \n",
       "6  1     NA              \n",
       "7  1     NA              \n",
       "8  1     NA              \n",
       "9  1     NA              \n",
       "10 1     NA              "
      ]
     },
     "metadata": {},
     "output_type": "display_data"
    }
   ],
   "source": [
    "tail(DAT)"
   ]
  },
  {
   "cell_type": "code",
   "execution_count": 20,
   "metadata": {},
   "outputs": [
    {
     "data": {
      "text/html": [
       "<table>\n",
       "<thead><tr><th scope=col>id</th><th scope=col>ano_resultado_compra_s</th><th scope=col>anomes_resultado_compra_s</th><th scope=col>co_orgao_siafi_s</th><th scope=col>no_orgao_siafi_s</th></tr></thead>\n",
       "<tbody>\n",
       "\t<tr><td>1.308e+33                                   </td><td>1969-12-31 21:33:33                         </td><td>201308                                      </td><td>52000                                       </td><td>MINISTERIO DEFESA                           </td></tr>\n",
       "\t<tr><td>1.308e+33                                   </td><td>1969-12-31 21:33:33                         </td><td>201308                                      </td><td>22000                                       </td><td>MINIST. DA AGRICUL.,PECUARIA E ABASTECIMENTO</td></tr>\n",
       "\t<tr><td>1.308e+33                                   </td><td>1969-12-31 21:33:33                         </td><td>201308                                      </td><td>15000                                       </td><td>JUSTICA DO TRABALHO                         </td></tr>\n",
       "\t<tr><td>1.308e+33                                   </td><td>1969-12-31 21:33:33                         </td><td>201308                                      </td><td>26000                                       </td><td>MINISTERIO DA EDUCACAO                      </td></tr>\n",
       "\t<tr><td>1.308e+33                                   </td><td>1969-12-31 21:33:33                         </td><td>201308                                      </td><td>52000                                       </td><td>MINISTERIO DEFESA                           </td></tr>\n",
       "\t<tr><td>1.308e+33                                   </td><td>1969-12-31 21:33:33                         </td><td>201308                                      </td><td>52000                                       </td><td>MINISTERIO DEFESA                           </td></tr>\n",
       "\t<tr><td>1.308e+33                                   </td><td>1969-12-31 21:33:33                         </td><td>201308                                      </td><td>52000                                       </td><td>MINISTERIO DEFESA                           </td></tr>\n",
       "\t<tr><td>1.308e+33                                   </td><td>1969-12-31 21:33:33                         </td><td>201308                                      </td><td>26000                                       </td><td>MINISTERIO DA EDUCACAO                      </td></tr>\n",
       "\t<tr><td>1.308e+33                                   </td><td>1969-12-31 21:33:33                         </td><td>201308                                      </td><td>52000                                       </td><td>MINISTERIO DEFESA                           </td></tr>\n",
       "\t<tr><td>1.308e+33                                   </td><td>1969-12-31 21:33:33                         </td><td>201308                                      </td><td>26000                                       </td><td>MINISTERIO DA EDUCACAO                      </td></tr>\n",
       "</tbody>\n",
       "</table>\n"
      ],
      "text/latex": [
       "\\begin{tabular}{r|lllll}\n",
       " id & ano\\_resultado\\_compra\\_s & anomes\\_resultado\\_compra\\_s & co\\_orgao\\_siafi\\_s & no\\_orgao\\_siafi\\_s\\\\\n",
       "\\hline\n",
       "\t 1.308e+33                                    & 1969-12-31 21:33:33                          & 201308                                       & 52000                                        & MINISTERIO DEFESA                           \\\\\n",
       "\t 1.308e+33                                    & 1969-12-31 21:33:33                          & 201308                                       & 22000                                        & MINIST. DA AGRICUL.,PECUARIA E ABASTECIMENTO\\\\\n",
       "\t 1.308e+33                                    & 1969-12-31 21:33:33                          & 201308                                       & 15000                                        & JUSTICA DO TRABALHO                         \\\\\n",
       "\t 1.308e+33                                    & 1969-12-31 21:33:33                          & 201308                                       & 26000                                        & MINISTERIO DA EDUCACAO                      \\\\\n",
       "\t 1.308e+33                                    & 1969-12-31 21:33:33                          & 201308                                       & 52000                                        & MINISTERIO DEFESA                           \\\\\n",
       "\t 1.308e+33                                    & 1969-12-31 21:33:33                          & 201308                                       & 52000                                        & MINISTERIO DEFESA                           \\\\\n",
       "\t 1.308e+33                                    & 1969-12-31 21:33:33                          & 201308                                       & 52000                                        & MINISTERIO DEFESA                           \\\\\n",
       "\t 1.308e+33                                    & 1969-12-31 21:33:33                          & 201308                                       & 26000                                        & MINISTERIO DA EDUCACAO                      \\\\\n",
       "\t 1.308e+33                                    & 1969-12-31 21:33:33                          & 201308                                       & 52000                                        & MINISTERIO DEFESA                           \\\\\n",
       "\t 1.308e+33                                    & 1969-12-31 21:33:33                          & 201308                                       & 26000                                        & MINISTERIO DA EDUCACAO                      \\\\\n",
       "\\end{tabular}\n"
      ],
      "text/markdown": [
       "\n",
       "id | ano_resultado_compra_s | anomes_resultado_compra_s | co_orgao_siafi_s | no_orgao_siafi_s | \n",
       "|---|---|---|---|---|---|---|---|---|---|\n",
       "| 1.308e+33                                    | 1969-12-31 21:33:33                          | 201308                                       | 52000                                        | MINISTERIO DEFESA                            | \n",
       "| 1.308e+33                                    | 1969-12-31 21:33:33                          | 201308                                       | 22000                                        | MINIST. DA AGRICUL.,PECUARIA E ABASTECIMENTO | \n",
       "| 1.308e+33                                    | 1969-12-31 21:33:33                          | 201308                                       | 15000                                        | JUSTICA DO TRABALHO                          | \n",
       "| 1.308e+33                                    | 1969-12-31 21:33:33                          | 201308                                       | 26000                                        | MINISTERIO DA EDUCACAO                       | \n",
       "| 1.308e+33                                    | 1969-12-31 21:33:33                          | 201308                                       | 52000                                        | MINISTERIO DEFESA                            | \n",
       "| 1.308e+33                                    | 1969-12-31 21:33:33                          | 201308                                       | 52000                                        | MINISTERIO DEFESA                            | \n",
       "| 1.308e+33                                    | 1969-12-31 21:33:33                          | 201308                                       | 52000                                        | MINISTERIO DEFESA                            | \n",
       "| 1.308e+33                                    | 1969-12-31 21:33:33                          | 201308                                       | 26000                                        | MINISTERIO DA EDUCACAO                       | \n",
       "| 1.308e+33                                    | 1969-12-31 21:33:33                          | 201308                                       | 52000                                        | MINISTERIO DEFESA                            | \n",
       "| 1.308e+33                                    | 1969-12-31 21:33:33                          | 201308                                       | 26000                                        | MINISTERIO DA EDUCACAO                       | \n",
       "\n",
       "\n"
      ],
      "text/plain": [
       "   id        ano_resultado_compra_s anomes_resultado_compra_s co_orgao_siafi_s\n",
       "1  1.308e+33 1969-12-31 21:33:33    201308                    52000           \n",
       "2  1.308e+33 1969-12-31 21:33:33    201308                    22000           \n",
       "3  1.308e+33 1969-12-31 21:33:33    201308                    15000           \n",
       "4  1.308e+33 1969-12-31 21:33:33    201308                    26000           \n",
       "5  1.308e+33 1969-12-31 21:33:33    201308                    52000           \n",
       "6  1.308e+33 1969-12-31 21:33:33    201308                    52000           \n",
       "7  1.308e+33 1969-12-31 21:33:33    201308                    52000           \n",
       "8  1.308e+33 1969-12-31 21:33:33    201308                    26000           \n",
       "9  1.308e+33 1969-12-31 21:33:33    201308                    52000           \n",
       "10 1.308e+33 1969-12-31 21:33:33    201308                    26000           \n",
       "   no_orgao_siafi_s                            \n",
       "1  MINISTERIO DEFESA                           \n",
       "2  MINIST. DA AGRICUL.,PECUARIA E ABASTECIMENTO\n",
       "3  JUSTICA DO TRABALHO                         \n",
       "4  MINISTERIO DA EDUCACAO                      \n",
       "5  MINISTERIO DEFESA                           \n",
       "6  MINISTERIO DEFESA                           \n",
       "7  MINISTERIO DEFESA                           \n",
       "8  MINISTERIO DA EDUCACAO                      \n",
       "9  MINISTERIO DEFESA                           \n",
       "10 MINISTERIO DA EDUCACAO                      "
      ]
     },
     "metadata": {},
     "output_type": "display_data"
    }
   ],
   "source": [
    "### by dimension\n",
    "\n",
    "DAT[1:10, 1:5]"
   ]
  },
  {
   "cell_type": "code",
   "execution_count": 21,
   "metadata": {},
   "outputs": [
    {
     "data": {
      "text/html": [
       "<ol class=list-inline>\n",
       "\t<li>MINISTERIO DEFESA</li>\n",
       "\t<li>MINIST. DA AGRICUL.,PECUARIA E ABASTECIMENTO</li>\n",
       "\t<li>JUSTICA DO TRABALHO</li>\n",
       "\t<li>MINISTERIO DA EDUCACAO</li>\n",
       "</ol>\n",
       "\n",
       "<details>\n",
       "\t<summary style=display:list-item;cursor:pointer>\n",
       "\t\t<strong>Levels</strong>:\n",
       "\t</summary>\n",
       "\t<ol class=list-inline>\n",
       "\t\t<li>'JUSTICA DO TRABALHO'</li>\n",
       "\t\t<li>'MINIST. DA AGRICUL.,PECUARIA E ABASTECIMENTO'</li>\n",
       "\t\t<li>'MINISTERIO DA EDUCACAO'</li>\n",
       "\t\t<li>'MINISTERIO DEFESA'</li>\n",
       "\t</ol>\n",
       "</details>"
      ],
      "text/latex": [
       "\\begin{enumerate*}\n",
       "\\item MINISTERIO DEFESA\n",
       "\\item MINIST. DA AGRICUL.,PECUARIA E ABASTECIMENTO\n",
       "\\item JUSTICA DO TRABALHO\n",
       "\\item MINISTERIO DA EDUCACAO\n",
       "\\end{enumerate*}\n",
       "\n",
       "\\emph{Levels}: \\begin{enumerate*}\n",
       "\\item 'JUSTICA DO TRABALHO'\n",
       "\\item 'MINIST. DA AGRICUL.,PECUARIA E ABASTECIMENTO'\n",
       "\\item 'MINISTERIO DA EDUCACAO'\n",
       "\\item 'MINISTERIO DEFESA'\n",
       "\\end{enumerate*}\n"
      ],
      "text/markdown": [
       "1. MINISTERIO DEFESA\n",
       "2. MINIST. DA AGRICUL.,PECUARIA E ABASTECIMENTO\n",
       "3. JUSTICA DO TRABALHO\n",
       "4. MINISTERIO DA EDUCACAO\n",
       "\n",
       "\n",
       "\n",
       "**Levels**: 1. 'JUSTICA DO TRABALHO'\n",
       "2. 'MINIST. DA AGRICUL.,PECUARIA E ABASTECIMENTO'\n",
       "3. 'MINISTERIO DA EDUCACAO'\n",
       "4. 'MINISTERIO DEFESA'\n",
       "\n",
       "\n"
      ],
      "text/plain": [
       "[1] MINISTERIO DEFESA                           \n",
       "[2] MINIST. DA AGRICUL.,PECUARIA E ABASTECIMENTO\n",
       "[3] JUSTICA DO TRABALHO                         \n",
       "[4] MINISTERIO DA EDUCACAO                      \n",
       "4 Levels: JUSTICA DO TRABALHO ... MINISTERIO DEFESA"
      ]
     },
     "metadata": {},
     "output_type": "display_data"
    }
   ],
   "source": [
    "unique(DAT$no_orgao_siafi_s)\n"
   ]
  },
  {
   "cell_type": "code",
   "execution_count": 22,
   "metadata": {},
   "outputs": [
    {
     "data": {
      "text/html": [
       "<ol class=list-inline>\n",
       "\t<li>15000</li>\n",
       "\t<li>52000</li>\n",
       "</ol>\n"
      ],
      "text/latex": [
       "\\begin{enumerate*}\n",
       "\\item 15000\n",
       "\\item 52000\n",
       "\\end{enumerate*}\n"
      ],
      "text/markdown": [
       "1. 15000\n",
       "2. 52000\n",
       "\n",
       "\n"
      ],
      "text/plain": [
       "[1] 15000 52000"
      ]
     },
     "metadata": {},
     "output_type": "display_data"
    }
   ],
   "source": [
    "range(DAT$co_orgao_siafi_s)\n"
   ]
  },
  {
   "cell_type": "code",
   "execution_count": 23,
   "metadata": {},
   "outputs": [
    {
     "data": {
      "text/html": [
       "<ol class=list-inline>\n",
       "\t<li>3313</li>\n",
       "\t<li>180</li>\n",
       "\t<li>6091.28</li>\n",
       "\t<li>90</li>\n",
       "\t<li>561.6</li>\n",
       "\t<li>225</li>\n",
       "\t<li>1350</li>\n",
       "\t<li>670</li>\n",
       "\t<li>3600</li>\n",
       "\t<li>960</li>\n",
       "</ol>\n"
      ],
      "text/latex": [
       "\\begin{enumerate*}\n",
       "\\item 3313\n",
       "\\item 180\n",
       "\\item 6091.28\n",
       "\\item 90\n",
       "\\item 561.6\n",
       "\\item 225\n",
       "\\item 1350\n",
       "\\item 670\n",
       "\\item 3600\n",
       "\\item 960\n",
       "\\end{enumerate*}\n"
      ],
      "text/markdown": [
       "1. 3313\n",
       "2. 180\n",
       "3. 6091.28\n",
       "4. 90\n",
       "5. 561.6\n",
       "6. 225\n",
       "7. 1350\n",
       "8. 670\n",
       "9. 3600\n",
       "10. 960\n",
       "\n",
       "\n"
      ],
      "text/plain": [
       " [1] 3313.00  180.00 6091.28   90.00  561.60  225.00 1350.00  670.00 3600.00\n",
       "[10]  960.00"
      ]
     },
     "metadata": {},
     "output_type": "display_data"
    }
   ],
   "source": [
    "DAT$valor_preco_global_estim_td[1:10]"
   ]
  },
  {
   "cell_type": "code",
   "execution_count": 24,
   "metadata": {},
   "outputs": [],
   "source": [
    "DAT$valor_preco_global_estim_td.frh <-  DAT$valor_preco_global_estim_td + 9/5 + 32\n"
   ]
  },
  {
   "cell_type": "code",
   "execution_count": 25,
   "metadata": {},
   "outputs": [],
   "source": [
    "id <- DAT$valor_preco_global_estim_td > 20"
   ]
  },
  {
   "cell_type": "code",
   "execution_count": 26,
   "metadata": {},
   "outputs": [
    {
     "data": {
      "text/html": [
       "<ol class=list-inline>\n",
       "\t<li>TRUE</li>\n",
       "\t<li>TRUE</li>\n",
       "\t<li>TRUE</li>\n",
       "\t<li>TRUE</li>\n",
       "\t<li>TRUE</li>\n",
       "\t<li>TRUE</li>\n",
       "</ol>\n"
      ],
      "text/latex": [
       "\\begin{enumerate*}\n",
       "\\item TRUE\n",
       "\\item TRUE\n",
       "\\item TRUE\n",
       "\\item TRUE\n",
       "\\item TRUE\n",
       "\\item TRUE\n",
       "\\end{enumerate*}\n"
      ],
      "text/markdown": [
       "1. TRUE\n",
       "2. TRUE\n",
       "3. TRUE\n",
       "4. TRUE\n",
       "5. TRUE\n",
       "6. TRUE\n",
       "\n",
       "\n"
      ],
      "text/plain": [
       "[1] TRUE TRUE TRUE TRUE TRUE TRUE"
      ]
     },
     "metadata": {},
     "output_type": "display_data"
    }
   ],
   "source": [
    "tail(id)"
   ]
  },
  {
   "cell_type": "code",
   "execution_count": 27,
   "metadata": {},
   "outputs": [
    {
     "data": {
      "text/html": [
       "10"
      ],
      "text/latex": [
       "10"
      ],
      "text/markdown": [
       "10"
      ],
      "text/plain": [
       "[1] 10"
      ]
     },
     "metadata": {},
     "output_type": "display_data"
    }
   ],
   "source": [
    "sum(id)"
   ]
  },
  {
   "cell_type": "code",
   "execution_count": 28,
   "metadata": {},
   "outputs": [],
   "source": [
    "DAT.sub <- DAT[id, ]\n"
   ]
  },
  {
   "cell_type": "code",
   "execution_count": 29,
   "metadata": {},
   "outputs": [
    {
     "data": {
      "text/html": [
       "<table>\n",
       "<thead><tr><th></th><th scope=col>id</th><th scope=col>ano_resultado_compra_s</th><th scope=col>anomes_resultado_compra_s</th><th scope=col>co_orgao_siafi_s</th><th scope=col>no_orgao_siafi_s</th><th scope=col>co_unidade_gestora_s</th><th scope=col>no_unidade_gestora_s</th><th scope=col>uf_resp_compra_s</th><th scope=col>co_modal_compra_grupo_s</th><th scope=col>no_modal_compra_grupo_s</th><th scope=col>⋯</th><th scope=col>nu_var_acumulada_anual_td</th><th scope=col>no_tipo_item_s</th><th scope=col>mes_resultado_compra_ti</th><th scope=col>qtd_ti</th><th scope=col>regra_corte_ti</th><th scope=col>vr_ipca_mensal_td</th><th scope=col>X_version_</th><th scope=col>score</th><th scope=col>vr_ipca_anual_td</th><th scope=col>valor_preco_global_estim_td.frh</th></tr></thead>\n",
       "<tbody>\n",
       "\t<tr><th scope=row>5</th><td>1.308e+33                                  </td><td>1969-12-31 21:33:33                        </td><td>201308                                     </td><td>52000                                      </td><td>MINISTERIO DEFESA                          </td><td>160431                                     </td><td>4 REGIMENTO DE CAVALARIA BLINDADO/RS       </td><td>RS                                         </td><td>5                                          </td><td>Pregão                                     </td><td>⋯                                          </td><td>0                                          </td><td>Material                                   </td><td>8                                          </td><td>1                                          </td><td>0                                          </td><td>1.188600                                   </td><td>1.497754e+18                               </td><td>1                                          </td><td>NA                                         </td><td> 595.4                                     </td></tr>\n",
       "\t<tr><th scope=row>6</th><td>1.308e+33                                  </td><td>1969-12-31 21:33:33                        </td><td>201308                                     </td><td>52000                                      </td><td>MINISTERIO DEFESA                          </td><td>160139                                     </td><td>HOSPITAL DE GUARNICAO DE JOAO PESSOA       </td><td>PB                                         </td><td>5                                          </td><td>Pregão                                     </td><td>⋯                                          </td><td>0                                          </td><td>Material                                   </td><td>8                                          </td><td>1                                          </td><td>0                                          </td><td>1.497830                                   </td><td>1.497754e+18                               </td><td>1                                          </td><td>NA                                         </td><td> 258.8                                     </td></tr>\n",
       "\t<tr><th scope=row>7</th><td>1.308e+33                                  </td><td>1969-12-31 21:33:33                        </td><td>201308                                     </td><td>52000                                      </td><td>MINISTERIO DEFESA                          </td><td>160410                                     </td><td>4 BATALHAO LOGISTICO EM SANTA MARIA/RS     </td><td>RS                                         </td><td>5                                          </td><td>Pregão                                     </td><td>⋯                                          </td><td>0                                          </td><td>Material                                   </td><td>8                                          </td><td>1                                          </td><td>0                                          </td><td>1.119404                                   </td><td>1.497754e+18                               </td><td>1                                          </td><td>NA                                         </td><td>1383.8                                     </td></tr>\n",
       "\t<tr><th scope=row>8</th><td>1.308e+33                                  </td><td>1969-12-31 21:33:33                        </td><td>201308                                     </td><td>26000                                      </td><td>MINISTERIO DA EDUCACAO                     </td><td>154046                                     </td><td>FUNDACAO UNIVERSIDADE FEDERAL DE OURO PRETO</td><td>MG                                         </td><td>5                                          </td><td>Pregão                                     </td><td>⋯                                          </td><td>0                                          </td><td>Material                                   </td><td>8                                          </td><td>1                                          </td><td>0                                          </td><td>1.322225                                   </td><td>1.497754e+18                               </td><td>1                                          </td><td>NA                                         </td><td> 703.8                                     </td></tr>\n",
       "\t<tr><th scope=row>9</th><td>1.308e+33                                  </td><td>1969-12-31 21:33:33                        </td><td>201308                                     </td><td>52000                                      </td><td>MINISTERIO DEFESA                          </td><td>160195                                     </td><td>COMANDO DO COMANDO MILITAR DO NORDESTE     </td><td>PE                                         </td><td>5                                          </td><td>Pregão                                     </td><td>⋯                                          </td><td>0                                          </td><td>Material                                   </td><td>8                                          </td><td>1                                          </td><td>0                                          </td><td>1.045881                                   </td><td>1.497754e+18                               </td><td>1                                          </td><td>NA                                         </td><td>3633.8                                     </td></tr>\n",
       "\t<tr><th scope=row>10</th><td>1.308e+33                                  </td><td>1969-12-31 21:33:33                        </td><td>201308                                     </td><td>26000                                      </td><td>MINISTERIO DA EDUCACAO                     </td><td>153296                                     </td><td>NUCLEO DE CIENCIAS AGRARIAS/UFMG           </td><td>MG                                         </td><td>6                                          </td><td>Dispensa de Licitação                      </td><td>⋯                                          </td><td>0                                          </td><td>Material                                   </td><td>8                                          </td><td>1                                          </td><td>0                                          </td><td>1.222254                                   </td><td>1.497754e+18                               </td><td>1                                          </td><td>NA                                         </td><td> 993.8                                     </td></tr>\n",
       "</tbody>\n",
       "</table>\n"
      ],
      "text/latex": [
       "\\begin{tabular}{r|lllllllllllllllllllllllllllllllllllllllllllllllll}\n",
       "  & id & ano\\_resultado\\_compra\\_s & anomes\\_resultado\\_compra\\_s & co\\_orgao\\_siafi\\_s & no\\_orgao\\_siafi\\_s & co\\_unidade\\_gestora\\_s & no\\_unidade\\_gestora\\_s & uf\\_resp\\_compra\\_s & co\\_modal\\_compra\\_grupo\\_s & no\\_modal\\_compra\\_grupo\\_s & ⋯ & nu\\_var\\_acumulada\\_anual\\_td & no\\_tipo\\_item\\_s & mes\\_resultado\\_compra\\_ti & qtd\\_ti & regra\\_corte\\_ti & vr\\_ipca\\_mensal\\_td & X\\_version\\_ & score & vr\\_ipca\\_anual\\_td & valor\\_preco\\_global\\_estim\\_td.frh\\\\\n",
       "\\hline\n",
       "\t5 & 1.308e+33                                   & 1969-12-31 21:33:33                         & 201308                                      & 52000                                       & MINISTERIO DEFESA                           & 160431                                      & 4 REGIMENTO DE CAVALARIA BLINDADO/RS        & RS                                          & 5                                           & Pregão                                      & ⋯                                           & 0                                           & Material                                    & 8                                           & 1                                           & 0                                           & 1.188600                                    & 1.497754e+18                                & 1                                           & NA                                          &  595.4                                     \\\\\n",
       "\t6 & 1.308e+33                                   & 1969-12-31 21:33:33                         & 201308                                      & 52000                                       & MINISTERIO DEFESA                           & 160139                                      & HOSPITAL DE GUARNICAO DE JOAO PESSOA        & PB                                          & 5                                           & Pregão                                      & ⋯                                           & 0                                           & Material                                    & 8                                           & 1                                           & 0                                           & 1.497830                                    & 1.497754e+18                                & 1                                           & NA                                          &  258.8                                     \\\\\n",
       "\t7 & 1.308e+33                                   & 1969-12-31 21:33:33                         & 201308                                      & 52000                                       & MINISTERIO DEFESA                           & 160410                                      & 4 BATALHAO LOGISTICO EM SANTA MARIA/RS      & RS                                          & 5                                           & Pregão                                      & ⋯                                           & 0                                           & Material                                    & 8                                           & 1                                           & 0                                           & 1.119404                                    & 1.497754e+18                                & 1                                           & NA                                          & 1383.8                                     \\\\\n",
       "\t8 & 1.308e+33                                   & 1969-12-31 21:33:33                         & 201308                                      & 26000                                       & MINISTERIO DA EDUCACAO                      & 154046                                      & FUNDACAO UNIVERSIDADE FEDERAL DE OURO PRETO & MG                                          & 5                                           & Pregão                                      & ⋯                                           & 0                                           & Material                                    & 8                                           & 1                                           & 0                                           & 1.322225                                    & 1.497754e+18                                & 1                                           & NA                                          &  703.8                                     \\\\\n",
       "\t9 & 1.308e+33                                   & 1969-12-31 21:33:33                         & 201308                                      & 52000                                       & MINISTERIO DEFESA                           & 160195                                      & COMANDO DO COMANDO MILITAR DO NORDESTE      & PE                                          & 5                                           & Pregão                                      & ⋯                                           & 0                                           & Material                                    & 8                                           & 1                                           & 0                                           & 1.045881                                    & 1.497754e+18                                & 1                                           & NA                                          & 3633.8                                     \\\\\n",
       "\t10 & 1.308e+33                                   & 1969-12-31 21:33:33                         & 201308                                      & 26000                                       & MINISTERIO DA EDUCACAO                      & 153296                                      & NUCLEO DE CIENCIAS AGRARIAS/UFMG            & MG                                          & 6                                           & Dispensa de Licitação                       & ⋯                                           & 0                                           & Material                                    & 8                                           & 1                                           & 0                                           & 1.222254                                    & 1.497754e+18                                & 1                                           & NA                                          &  993.8                                     \\\\\n",
       "\\end{tabular}\n"
      ],
      "text/markdown": [
       "\n",
       "| <!--/--> | id | ano_resultado_compra_s | anomes_resultado_compra_s | co_orgao_siafi_s | no_orgao_siafi_s | co_unidade_gestora_s | no_unidade_gestora_s | uf_resp_compra_s | co_modal_compra_grupo_s | no_modal_compra_grupo_s | ⋯ | nu_var_acumulada_anual_td | no_tipo_item_s | mes_resultado_compra_ti | qtd_ti | regra_corte_ti | vr_ipca_mensal_td | X_version_ | score | vr_ipca_anual_td | valor_preco_global_estim_td.frh | \n",
       "|---|---|---|---|---|---|\n",
       "| 5 | 1.308e+33                                   | 1969-12-31 21:33:33                         | 201308                                      | 52000                                       | MINISTERIO DEFESA                           | 160431                                      | 4 REGIMENTO DE CAVALARIA BLINDADO/RS        | RS                                          | 5                                           | Pregão                                      | ⋯                                           | 0                                           | Material                                    | 8                                           | 1                                           | 0                                           | 1.188600                                    | 1.497754e+18                                | 1                                           | NA                                          |  595.4                                      | \n",
       "| 6 | 1.308e+33                                   | 1969-12-31 21:33:33                         | 201308                                      | 52000                                       | MINISTERIO DEFESA                           | 160139                                      | HOSPITAL DE GUARNICAO DE JOAO PESSOA        | PB                                          | 5                                           | Pregão                                      | ⋯                                           | 0                                           | Material                                    | 8                                           | 1                                           | 0                                           | 1.497830                                    | 1.497754e+18                                | 1                                           | NA                                          |  258.8                                      | \n",
       "| 7 | 1.308e+33                                   | 1969-12-31 21:33:33                         | 201308                                      | 52000                                       | MINISTERIO DEFESA                           | 160410                                      | 4 BATALHAO LOGISTICO EM SANTA MARIA/RS      | RS                                          | 5                                           | Pregão                                      | ⋯                                           | 0                                           | Material                                    | 8                                           | 1                                           | 0                                           | 1.119404                                    | 1.497754e+18                                | 1                                           | NA                                          | 1383.8                                      | \n",
       "| 8 | 1.308e+33                                   | 1969-12-31 21:33:33                         | 201308                                      | 26000                                       | MINISTERIO DA EDUCACAO                      | 154046                                      | FUNDACAO UNIVERSIDADE FEDERAL DE OURO PRETO | MG                                          | 5                                           | Pregão                                      | ⋯                                           | 0                                           | Material                                    | 8                                           | 1                                           | 0                                           | 1.322225                                    | 1.497754e+18                                | 1                                           | NA                                          |  703.8                                      | \n",
       "| 9 | 1.308e+33                                   | 1969-12-31 21:33:33                         | 201308                                      | 52000                                       | MINISTERIO DEFESA                           | 160195                                      | COMANDO DO COMANDO MILITAR DO NORDESTE      | PE                                          | 5                                           | Pregão                                      | ⋯                                           | 0                                           | Material                                    | 8                                           | 1                                           | 0                                           | 1.045881                                    | 1.497754e+18                                | 1                                           | NA                                          | 3633.8                                      | \n",
       "| 10 | 1.308e+33                                   | 1969-12-31 21:33:33                         | 201308                                      | 26000                                       | MINISTERIO DA EDUCACAO                      | 153296                                      | NUCLEO DE CIENCIAS AGRARIAS/UFMG            | MG                                          | 6                                           | Dispensa de Licitação                       | ⋯                                           | 0                                           | Material                                    | 8                                           | 1                                           | 0                                           | 1.222254                                    | 1.497754e+18                                | 1                                           | NA                                          |  993.8                                      | \n",
       "\n",
       "\n"
      ],
      "text/plain": [
       "   id        ano_resultado_compra_s anomes_resultado_compra_s co_orgao_siafi_s\n",
       "5  1.308e+33 1969-12-31 21:33:33    201308                    52000           \n",
       "6  1.308e+33 1969-12-31 21:33:33    201308                    52000           \n",
       "7  1.308e+33 1969-12-31 21:33:33    201308                    52000           \n",
       "8  1.308e+33 1969-12-31 21:33:33    201308                    26000           \n",
       "9  1.308e+33 1969-12-31 21:33:33    201308                    52000           \n",
       "10 1.308e+33 1969-12-31 21:33:33    201308                    26000           \n",
       "   no_orgao_siafi_s       co_unidade_gestora_s\n",
       "5  MINISTERIO DEFESA      160431              \n",
       "6  MINISTERIO DEFESA      160139              \n",
       "7  MINISTERIO DEFESA      160410              \n",
       "8  MINISTERIO DA EDUCACAO 154046              \n",
       "9  MINISTERIO DEFESA      160195              \n",
       "10 MINISTERIO DA EDUCACAO 153296              \n",
       "   no_unidade_gestora_s                        uf_resp_compra_s\n",
       "5  4 REGIMENTO DE CAVALARIA BLINDADO/RS        RS              \n",
       "6  HOSPITAL DE GUARNICAO DE JOAO PESSOA        PB              \n",
       "7  4 BATALHAO LOGISTICO EM SANTA MARIA/RS      RS              \n",
       "8  FUNDACAO UNIVERSIDADE FEDERAL DE OURO PRETO MG              \n",
       "9  COMANDO DO COMANDO MILITAR DO NORDESTE      PE              \n",
       "10 NUCLEO DE CIENCIAS AGRARIAS/UFMG            MG              \n",
       "   co_modal_compra_grupo_s no_modal_compra_grupo_s ⋯ nu_var_acumulada_anual_td\n",
       "5  5                       Pregão                  ⋯ 0                        \n",
       "6  5                       Pregão                  ⋯ 0                        \n",
       "7  5                       Pregão                  ⋯ 0                        \n",
       "8  5                       Pregão                  ⋯ 0                        \n",
       "9  5                       Pregão                  ⋯ 0                        \n",
       "10 6                       Dispensa de Licitação   ⋯ 0                        \n",
       "   no_tipo_item_s mes_resultado_compra_ti qtd_ti regra_corte_ti\n",
       "5  Material       8                       1      0             \n",
       "6  Material       8                       1      0             \n",
       "7  Material       8                       1      0             \n",
       "8  Material       8                       1      0             \n",
       "9  Material       8                       1      0             \n",
       "10 Material       8                       1      0             \n",
       "   vr_ipca_mensal_td X_version_   score vr_ipca_anual_td\n",
       "5  1.188600          1.497754e+18 1     NA              \n",
       "6  1.497830          1.497754e+18 1     NA              \n",
       "7  1.119404          1.497754e+18 1     NA              \n",
       "8  1.322225          1.497754e+18 1     NA              \n",
       "9  1.045881          1.497754e+18 1     NA              \n",
       "10 1.222254          1.497754e+18 1     NA              \n",
       "   valor_preco_global_estim_td.frh\n",
       "5   595.4                         \n",
       "6   258.8                         \n",
       "7  1383.8                         \n",
       "8   703.8                         \n",
       "9  3633.8                         \n",
       "10  993.8                         "
      ]
     },
     "metadata": {},
     "output_type": "display_data"
    }
   ],
   "source": [
    "tail(DAT.sub)\n"
   ]
  },
  {
   "cell_type": "code",
   "execution_count": 30,
   "metadata": {},
   "outputs": [],
   "source": [
    "DAT.sub <- DAT[DAT$no_orgao_siafi_s == \"MINISTERIO DEFESA\", ]\n"
   ]
  },
  {
   "cell_type": "code",
   "execution_count": 31,
   "metadata": {},
   "outputs": [
    {
     "data": {
      "text/html": [
       "<table>\n",
       "<thead><tr><th></th><th scope=col>id</th><th scope=col>ano_resultado_compra_s</th><th scope=col>anomes_resultado_compra_s</th><th scope=col>co_orgao_siafi_s</th><th scope=col>no_orgao_siafi_s</th><th scope=col>co_unidade_gestora_s</th><th scope=col>no_unidade_gestora_s</th><th scope=col>uf_resp_compra_s</th><th scope=col>co_modal_compra_grupo_s</th><th scope=col>no_modal_compra_grupo_s</th><th scope=col>⋯</th><th scope=col>nu_var_acumulada_anual_td</th><th scope=col>no_tipo_item_s</th><th scope=col>mes_resultado_compra_ti</th><th scope=col>qtd_ti</th><th scope=col>regra_corte_ti</th><th scope=col>vr_ipca_mensal_td</th><th scope=col>X_version_</th><th scope=col>score</th><th scope=col>vr_ipca_anual_td</th><th scope=col>valor_preco_global_estim_td.frh</th></tr></thead>\n",
       "<tbody>\n",
       "\t<tr><th scope=row>1</th><td>1.308e+33                             </td><td>1969-12-31 21:33:33                   </td><td>201308                                </td><td>52000                                 </td><td>MINISTERIO DEFESA                     </td><td>160055                                </td><td>16 BATALHAO LOGISTICO- MEX/DF         </td><td>DF                                    </td><td>5                                     </td><td>Pregão                                </td><td>⋯                                     </td><td>0                                     </td><td>Material                              </td><td>8                                     </td><td>1                                     </td><td>0                                     </td><td>1.045881                              </td><td>1.497754e+18                          </td><td>1                                     </td><td>NA                                    </td><td>3346.8                                </td></tr>\n",
       "\t<tr><th scope=row>5</th><td>1.308e+33                             </td><td>1969-12-31 21:33:33                   </td><td>201308                                </td><td>52000                                 </td><td>MINISTERIO DEFESA                     </td><td>160431                                </td><td>4 REGIMENTO DE CAVALARIA BLINDADO/RS  </td><td>RS                                    </td><td>5                                     </td><td>Pregão                                </td><td>⋯                                     </td><td>0                                     </td><td>Material                              </td><td>8                                     </td><td>1                                     </td><td>0                                     </td><td>1.188600                              </td><td>1.497754e+18                          </td><td>1                                     </td><td>NA                                    </td><td> 595.4                                </td></tr>\n",
       "\t<tr><th scope=row>6</th><td>1.308e+33                             </td><td>1969-12-31 21:33:33                   </td><td>201308                                </td><td>52000                                 </td><td>MINISTERIO DEFESA                     </td><td>160139                                </td><td>HOSPITAL DE GUARNICAO DE JOAO PESSOA  </td><td>PB                                    </td><td>5                                     </td><td>Pregão                                </td><td>⋯                                     </td><td>0                                     </td><td>Material                              </td><td>8                                     </td><td>1                                     </td><td>0                                     </td><td>1.497830                              </td><td>1.497754e+18                          </td><td>1                                     </td><td>NA                                    </td><td> 258.8                                </td></tr>\n",
       "\t<tr><th scope=row>7</th><td>1.308e+33                             </td><td>1969-12-31 21:33:33                   </td><td>201308                                </td><td>52000                                 </td><td>MINISTERIO DEFESA                     </td><td>160410                                </td><td>4 BATALHAO LOGISTICO EM SANTA MARIA/RS</td><td>RS                                    </td><td>5                                     </td><td>Pregão                                </td><td>⋯                                     </td><td>0                                     </td><td>Material                              </td><td>8                                     </td><td>1                                     </td><td>0                                     </td><td>1.119404                              </td><td>1.497754e+18                          </td><td>1                                     </td><td>NA                                    </td><td>1383.8                                </td></tr>\n",
       "\t<tr><th scope=row>9</th><td>1.308e+33                             </td><td>1969-12-31 21:33:33                   </td><td>201308                                </td><td>52000                                 </td><td>MINISTERIO DEFESA                     </td><td>160195                                </td><td>COMANDO DO COMANDO MILITAR DO NORDESTE</td><td>PE                                    </td><td>5                                     </td><td>Pregão                                </td><td>⋯                                     </td><td>0                                     </td><td>Material                              </td><td>8                                     </td><td>1                                     </td><td>0                                     </td><td>1.045881                              </td><td>1.497754e+18                          </td><td>1                                     </td><td>NA                                    </td><td>3633.8                                </td></tr>\n",
       "</tbody>\n",
       "</table>\n"
      ],
      "text/latex": [
       "\\begin{tabular}{r|lllllllllllllllllllllllllllllllllllllllllllllllll}\n",
       "  & id & ano\\_resultado\\_compra\\_s & anomes\\_resultado\\_compra\\_s & co\\_orgao\\_siafi\\_s & no\\_orgao\\_siafi\\_s & co\\_unidade\\_gestora\\_s & no\\_unidade\\_gestora\\_s & uf\\_resp\\_compra\\_s & co\\_modal\\_compra\\_grupo\\_s & no\\_modal\\_compra\\_grupo\\_s & ⋯ & nu\\_var\\_acumulada\\_anual\\_td & no\\_tipo\\_item\\_s & mes\\_resultado\\_compra\\_ti & qtd\\_ti & regra\\_corte\\_ti & vr\\_ipca\\_mensal\\_td & X\\_version\\_ & score & vr\\_ipca\\_anual\\_td & valor\\_preco\\_global\\_estim\\_td.frh\\\\\n",
       "\\hline\n",
       "\t1 & 1.308e+33                              & 1969-12-31 21:33:33                    & 201308                                 & 52000                                  & MINISTERIO DEFESA                      & 160055                                 & 16 BATALHAO LOGISTICO- MEX/DF          & DF                                     & 5                                      & Pregão                                 & ⋯                                      & 0                                      & Material                               & 8                                      & 1                                      & 0                                      & 1.045881                               & 1.497754e+18                           & 1                                      & NA                                     & 3346.8                                \\\\\n",
       "\t5 & 1.308e+33                              & 1969-12-31 21:33:33                    & 201308                                 & 52000                                  & MINISTERIO DEFESA                      & 160431                                 & 4 REGIMENTO DE CAVALARIA BLINDADO/RS   & RS                                     & 5                                      & Pregão                                 & ⋯                                      & 0                                      & Material                               & 8                                      & 1                                      & 0                                      & 1.188600                               & 1.497754e+18                           & 1                                      & NA                                     &  595.4                                \\\\\n",
       "\t6 & 1.308e+33                              & 1969-12-31 21:33:33                    & 201308                                 & 52000                                  & MINISTERIO DEFESA                      & 160139                                 & HOSPITAL DE GUARNICAO DE JOAO PESSOA   & PB                                     & 5                                      & Pregão                                 & ⋯                                      & 0                                      & Material                               & 8                                      & 1                                      & 0                                      & 1.497830                               & 1.497754e+18                           & 1                                      & NA                                     &  258.8                                \\\\\n",
       "\t7 & 1.308e+33                              & 1969-12-31 21:33:33                    & 201308                                 & 52000                                  & MINISTERIO DEFESA                      & 160410                                 & 4 BATALHAO LOGISTICO EM SANTA MARIA/RS & RS                                     & 5                                      & Pregão                                 & ⋯                                      & 0                                      & Material                               & 8                                      & 1                                      & 0                                      & 1.119404                               & 1.497754e+18                           & 1                                      & NA                                     & 1383.8                                \\\\\n",
       "\t9 & 1.308e+33                              & 1969-12-31 21:33:33                    & 201308                                 & 52000                                  & MINISTERIO DEFESA                      & 160195                                 & COMANDO DO COMANDO MILITAR DO NORDESTE & PE                                     & 5                                      & Pregão                                 & ⋯                                      & 0                                      & Material                               & 8                                      & 1                                      & 0                                      & 1.045881                               & 1.497754e+18                           & 1                                      & NA                                     & 3633.8                                \\\\\n",
       "\\end{tabular}\n"
      ],
      "text/markdown": [
       "\n",
       "| <!--/--> | id | ano_resultado_compra_s | anomes_resultado_compra_s | co_orgao_siafi_s | no_orgao_siafi_s | co_unidade_gestora_s | no_unidade_gestora_s | uf_resp_compra_s | co_modal_compra_grupo_s | no_modal_compra_grupo_s | ⋯ | nu_var_acumulada_anual_td | no_tipo_item_s | mes_resultado_compra_ti | qtd_ti | regra_corte_ti | vr_ipca_mensal_td | X_version_ | score | vr_ipca_anual_td | valor_preco_global_estim_td.frh | \n",
       "|---|---|---|---|---|\n",
       "| 1 | 1.308e+33                              | 1969-12-31 21:33:33                    | 201308                                 | 52000                                  | MINISTERIO DEFESA                      | 160055                                 | 16 BATALHAO LOGISTICO- MEX/DF          | DF                                     | 5                                      | Pregão                                 | ⋯                                      | 0                                      | Material                               | 8                                      | 1                                      | 0                                      | 1.045881                               | 1.497754e+18                           | 1                                      | NA                                     | 3346.8                                 | \n",
       "| 5 | 1.308e+33                              | 1969-12-31 21:33:33                    | 201308                                 | 52000                                  | MINISTERIO DEFESA                      | 160431                                 | 4 REGIMENTO DE CAVALARIA BLINDADO/RS   | RS                                     | 5                                      | Pregão                                 | ⋯                                      | 0                                      | Material                               | 8                                      | 1                                      | 0                                      | 1.188600                               | 1.497754e+18                           | 1                                      | NA                                     |  595.4                                 | \n",
       "| 6 | 1.308e+33                              | 1969-12-31 21:33:33                    | 201308                                 | 52000                                  | MINISTERIO DEFESA                      | 160139                                 | HOSPITAL DE GUARNICAO DE JOAO PESSOA   | PB                                     | 5                                      | Pregão                                 | ⋯                                      | 0                                      | Material                               | 8                                      | 1                                      | 0                                      | 1.497830                               | 1.497754e+18                           | 1                                      | NA                                     |  258.8                                 | \n",
       "| 7 | 1.308e+33                              | 1969-12-31 21:33:33                    | 201308                                 | 52000                                  | MINISTERIO DEFESA                      | 160410                                 | 4 BATALHAO LOGISTICO EM SANTA MARIA/RS | RS                                     | 5                                      | Pregão                                 | ⋯                                      | 0                                      | Material                               | 8                                      | 1                                      | 0                                      | 1.119404                               | 1.497754e+18                           | 1                                      | NA                                     | 1383.8                                 | \n",
       "| 9 | 1.308e+33                              | 1969-12-31 21:33:33                    | 201308                                 | 52000                                  | MINISTERIO DEFESA                      | 160195                                 | COMANDO DO COMANDO MILITAR DO NORDESTE | PE                                     | 5                                      | Pregão                                 | ⋯                                      | 0                                      | Material                               | 8                                      | 1                                      | 0                                      | 1.045881                               | 1.497754e+18                           | 1                                      | NA                                     | 3633.8                                 | \n",
       "\n",
       "\n"
      ],
      "text/plain": [
       "  id        ano_resultado_compra_s anomes_resultado_compra_s co_orgao_siafi_s\n",
       "1 1.308e+33 1969-12-31 21:33:33    201308                    52000           \n",
       "5 1.308e+33 1969-12-31 21:33:33    201308                    52000           \n",
       "6 1.308e+33 1969-12-31 21:33:33    201308                    52000           \n",
       "7 1.308e+33 1969-12-31 21:33:33    201308                    52000           \n",
       "9 1.308e+33 1969-12-31 21:33:33    201308                    52000           \n",
       "  no_orgao_siafi_s  co_unidade_gestora_s no_unidade_gestora_s                  \n",
       "1 MINISTERIO DEFESA 160055               16 BATALHAO LOGISTICO- MEX/DF         \n",
       "5 MINISTERIO DEFESA 160431               4 REGIMENTO DE CAVALARIA BLINDADO/RS  \n",
       "6 MINISTERIO DEFESA 160139               HOSPITAL DE GUARNICAO DE JOAO PESSOA  \n",
       "7 MINISTERIO DEFESA 160410               4 BATALHAO LOGISTICO EM SANTA MARIA/RS\n",
       "9 MINISTERIO DEFESA 160195               COMANDO DO COMANDO MILITAR DO NORDESTE\n",
       "  uf_resp_compra_s co_modal_compra_grupo_s no_modal_compra_grupo_s ⋯\n",
       "1 DF               5                       Pregão                  ⋯\n",
       "5 RS               5                       Pregão                  ⋯\n",
       "6 PB               5                       Pregão                  ⋯\n",
       "7 RS               5                       Pregão                  ⋯\n",
       "9 PE               5                       Pregão                  ⋯\n",
       "  nu_var_acumulada_anual_td no_tipo_item_s mes_resultado_compra_ti qtd_ti\n",
       "1 0                         Material       8                       1     \n",
       "5 0                         Material       8                       1     \n",
       "6 0                         Material       8                       1     \n",
       "7 0                         Material       8                       1     \n",
       "9 0                         Material       8                       1     \n",
       "  regra_corte_ti vr_ipca_mensal_td X_version_   score vr_ipca_anual_td\n",
       "1 0              1.045881          1.497754e+18 1     NA              \n",
       "5 0              1.188600          1.497754e+18 1     NA              \n",
       "6 0              1.497830          1.497754e+18 1     NA              \n",
       "7 0              1.119404          1.497754e+18 1     NA              \n",
       "9 0              1.045881          1.497754e+18 1     NA              \n",
       "  valor_preco_global_estim_td.frh\n",
       "1 3346.8                         \n",
       "5  595.4                         \n",
       "6  258.8                         \n",
       "7 1383.8                         \n",
       "9 3633.8                         "
      ]
     },
     "metadata": {},
     "output_type": "display_data"
    }
   ],
   "source": [
    "tail(DAT.sub)\n"
   ]
  },
  {
   "cell_type": "code",
   "execution_count": 32,
   "metadata": {},
   "outputs": [
    {
     "data": {
      "image/png": "[encoded data removed]",
      "text/plain": [
       "plot without title"
      ]
     },
     "metadata": {},
     "output_type": "display_data",
     "source": "R display func"
    }
   ],
   "source": [
    "plot(DAT.sub$vr_economia_pregao_td, DAT.sub$vr_ipca_mensal_td)"
   ]
  },
  {
   "cell_type": "code",
   "execution_count": 34,
   "metadata": {},
   "outputs": [
    {
     "data": {
      "image/png": "[encoded data removed]",
      "text/plain": [
       "Plot with title “Teste”"
      ]
     },
     "metadata": {},
     "output_type": "display_data",
     "source": "R display func"
    }
   ],
   "source": [
    "\n",
    "plot(DAT.sub$vr_economia_pregao_td, DAT.sub$vr_ipca_mensal_td, xlab = \"IPCA\", ylab = \"Economia Pregão\", main = \"Teste\")\n"
   ]
  },
  {
   "cell_type": "code",
   "execution_count": null,
   "metadata": {},
   "outputs": [],
   "source": []
  },
  {
   "cell_type": "code",
   "execution_count": null,
   "metadata": {},
   "outputs": [],
   "source": []
  },
  {
   "cell_type": "code",
   "execution_count": null,
   "metadata": {},
   "outputs": [],
   "source": []
  }
 ],
 "metadata": {
  "kernelspec": {
   "display_name": "R",
   "language": "R",
   "name": "ir"
  },
  "language_info": {
   "codemirror_mode": "r",
   "file_extension": ".r",
   "mimetype": "text/x-r-source",
   "name": "R",
   "pygments_lexer": "r",
   "version": "3.5.1"
  }
 },
 "nbformat": 4,
 "nbformat_minor": 2
}
