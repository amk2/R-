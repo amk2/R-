{
 "cells": [
  {
   "cell_type": "markdown",
   "metadata": {},
   "source": [
    "<h2> Manual R utilizando ambiente Jupyter</h2>"
   ]
  },
  {
   "cell_type": "markdown",
   "metadata": {},
   "source": [
    "<h3>Verificando o diretório corrente</h3>"
   ]
  },
  {
   "cell_type": "code",
   "execution_count": 2,
   "metadata": {},
   "outputs": [
    {
     "data": {
      "text/html": [
       "'/home/03390878700/Documentos/cursos/Curso R/Scripts'"
      ],
      "text/latex": [
       "'/home/03390878700/Documentos/cursos/Curso R/Scripts'"
      ],
      "text/markdown": [
       "'/home/03390878700/Documentos/cursos/Curso R/Scripts'"
      ],
      "text/plain": [
       "[1] \"/home/03390878700/Documentos/cursos/Curso R/Scripts\""
      ]
     },
     "metadata": {},
     "output_type": "display_data"
    }
   ],
   "source": [
    "getwd()"
   ]
  },
  {
   "cell_type": "markdown",
   "metadata": {},
   "source": [
    "<h3>Escolhendo diretório de trabalho</h3>"
   ]
  },
  {
   "cell_type": "code",
   "execution_count": 6,
   "metadata": {},
   "outputs": [],
   "source": [
    "setwd('/home/03390878700/Documentos/cursos/Curso R/Scripts/')"
   ]
  },
  {
   "cell_type": "code",
   "execution_count": 7,
   "metadata": {},
   "outputs": [
    {
     "data": {
      "text/html": [
       "'/home/03390878700/Documentos/cursos/Curso R/Scripts'"
      ],
      "text/latex": [
       "'/home/03390878700/Documentos/cursos/Curso R/Scripts'"
      ],
      "text/markdown": [
       "'/home/03390878700/Documentos/cursos/Curso R/Scripts'"
      ],
      "text/plain": [
       "[1] \"/home/03390878700/Documentos/cursos/Curso R/Scripts\""
      ]
     },
     "metadata": {},
     "output_type": "display_data"
    }
   ],
   "source": [
    "getwd()"
   ]
  },
  {
   "cell_type": "markdown",
   "metadata": {},
   "source": [
    "<h3>Exibindo todo o conteúdo da planilha.</h3>"
   ]
  },
  {
   "cell_type": "code",
   "execution_count": 8,
   "metadata": {},
   "outputs": [
    {
     "name": "stdout",
     "output_type": "stream",
     "text": [
      "          id ano_resultado_compra_s anomes_resultado_compra_s co_orgao_siafi_s\n",
      "1  1.308e+33                   2013                    201308            52000\n",
      "2  1.308e+33                   2013                    201308            22000\n",
      "3  1.308e+33                   2013                    201308            15000\n",
      "4  1.308e+33                   2013                    201308            26000\n",
      "5  1.308e+33                   2013                    201308            52000\n",
      "6  1.308e+33                   2013                    201308            52000\n",
      "7  1.308e+33                   2013                    201308            52000\n",
      "8  1.308e+33                   2013                    201308            26000\n",
      "9  1.308e+33                   2013                    201308            52000\n",
      "10 1.308e+33                   2013                    201308            26000\n",
      "                               no_orgao_siafi_s co_unidade_gestora_s\n",
      "1                             MINISTERIO DEFESA               160055\n",
      "2  MINIST. DA AGRICUL.,PECUARIA E ABASTECIMENTO               135017\n",
      "3                           JUSTICA DO TRABALHO                80021\n",
      "4                        MINISTERIO DA EDUCACAO               154046\n",
      "5                             MINISTERIO DEFESA               160431\n",
      "6                             MINISTERIO DEFESA               160139\n",
      "7                             MINISTERIO DEFESA               160410\n",
      "8                        MINISTERIO DA EDUCACAO               154046\n",
      "9                             MINISTERIO DEFESA               160195\n",
      "10                       MINISTERIO DA EDUCACAO               153296\n",
      "                           no_unidade_gestora_s uf_resp_compra_s\n",
      "1                 16 BATALHAO LOGISTICO- MEX/DF               DF\n",
      "2                                 EMBRAPA/CNPGC               MS\n",
      "3  TRIBUNAL REGIONAL DO TRABALHO DA 21A. REGIAO               RN\n",
      "4   FUNDACAO UNIVERSIDADE FEDERAL DE OURO PRETO               MG\n",
      "5          4 REGIMENTO DE CAVALARIA BLINDADO/RS               RS\n",
      "6          HOSPITAL DE GUARNICAO DE JOAO PESSOA               PB\n",
      "7        4 BATALHAO LOGISTICO EM SANTA MARIA/RS               RS\n",
      "8   FUNDACAO UNIVERSIDADE FEDERAL DE OURO PRETO               MG\n",
      "9        COMANDO DO COMANDO MILITAR DO NORDESTE               PE\n",
      "10             NUCLEO DE CIENCIAS AGRARIAS/UFMG               MG\n",
      "   co_modal_compra_grupo_s no_modal_compra_grupo_s co_tipo_pregao_s\n",
      "1                        5                  Pregão                1\n",
      "2                        5                  Pregão                1\n",
      "3                        5                  Pregão                1\n",
      "4                        5                  Pregão                1\n",
      "5                        5                  Pregão                1\n",
      "6                        5                  Pregão                2\n",
      "7                        5                  Pregão                1\n",
      "8                        5                  Pregão                1\n",
      "9                        5                  Pregão                1\n",
      "10                       6   Dispensa de Licitação               -9\n",
      "   no_tipo_pregao_s co_porte_empresa_fornec_s no_porte_empresa_fornec_s\n",
      "1        Eletrônico                         1             Micro Empresa\n",
      "2        Eletrônico                         1             Micro Empresa\n",
      "3        Eletrônico                         1             Micro Empresa\n",
      "4        Eletrônico                         1             Micro Empresa\n",
      "5        Eletrônico                         1             Micro Empresa\n",
      "6        Presencial                         5                    Outros\n",
      "7        Eletrônico                         1             Micro Empresa\n",
      "8        Eletrônico                         5                    Outros\n",
      "9        Eletrônico                         1             Micro Empresa\n",
      "10    Não se Aplica                         1             Micro Empresa\n",
      "   item_ate_80000_s co_indic_desempate_me_epp_s no_indic_desempate_me_epp_s\n",
      "1               Sim                           2                         Não\n",
      "2               Sim                           2                         Não\n",
      "3               Sim                           2                         Não\n",
      "4               Sim                           2                         Não\n",
      "5               Sim                           2                         Não\n",
      "6               Sim                          -8               Não Informado\n",
      "7               Sim                           2                         Não\n",
      "8               Sim                           2                         Não\n",
      "9               Sim                           2                         Não\n",
      "10              Sim                          -9               Não se Aplica\n",
      "   co_indic_tp_benef_me_epp_s                no_indic_tp_benef_me_epp_s\n",
      "1                           4                             Sem benefício\n",
      "2                           4                             Sem benefício\n",
      "3                           4                             Sem benefício\n",
      "4                           4                             Sem benefício\n",
      "5                           1 Tipo I - Participação Exclusiva de ME-EPP\n",
      "6                           4                             Sem benefício\n",
      "7                           4                             Sem benefício\n",
      "8                           4                             Sem benefício\n",
      "9                           4                             Sem benefício\n",
      "10                          4                             Sem benefício\n",
      "   nu_processo_compra_s co_identif_compra_s co_identif_item_compra_s\n",
      "1     64134000102201283        1.600551e+16             1.600551e+21\n",
      "2               76/2011        1.350171e+16             1.350171e+21\n",
      "3           64.351/2008        8.002105e+15             8.002105e+20\n",
      "4      3109/6315/2005-0        1.540461e+16             1.540461e+21\n",
      "5              005/2010        1.604311e+16             1.604311e+21\n",
      "6      A 113/2005-HGuJP        1.601391e+16             1.601391e+21\n",
      "7     64127000052201101        1.604101e+16             1.604101e+21\n",
      "8             1328-2008        1.540461e+16             1.540461e+21\n",
      "9     64284.004907/2012        1.601951e+16             1.601951e+21\n",
      "10    23072005195201016        1.532961e+16             1.532961e+21\n",
      "   co_objeto_compra_s\n",
      "1        1.600551e+16\n",
      "2        1.350171e+16\n",
      "3        8.002105e+15\n",
      "4        1.540461e+16\n",
      "5        1.604311e+16\n",
      "6        1.601391e+16\n",
      "7        1.604101e+16\n",
      "8        1.540461e+16\n",
      "9        1.601951e+16\n",
      "10       1.532961e+16\n",
      "                                                                                                                                                                                                                                                                                                                                                                                                                                                                                                    no_objeto_compra_s\n",
      "1                                                                                                                                                                                                                                                                                                                                                                                                  Objeto: Pregão Eletrônico -  Aquisição de material de limpeza, higienização, expediente e proteção individual (EPI)\n",
      "2                                                                                                                                                                                                                                                                                                                                                                                                                     Objeto: Pregão Eletrônico -  Aquisição de ferramentas e material para manutenção de bens móveis.\n",
      "3                                                                                                                                                                                                                                                                                       Objeto: Pregão Eletrônico -  Contratação de empresa especializada para fornecimento e instalação de divisórias nas novas sedes do Depósito Judicial de Natal e das Varas do Trabalho das cidades de Assu, Caicó e Ceará-Mirim.\n",
      "4                                                                                                                                                                                                                                                                                                                                                                                                                    Objeto: Pregão Eletrônico -  Aquisição de ferramentas e materiais diversos para construção civil.\n",
      "5                                                                                                                                                                                                                                                                                                                                                       Objeto: Pregão Eletrônico -  Aquisição de material permanente,de manutenção de bens imóveis,ferramentas, material de hipismo, material de pi scina e diversos.\n",
      "6                                                                                                                                                                                                                                                                                                                                                                                                                     Objeto: Aquisicao de Material de Consumo para aFarmácia do Hospital de Guarnição de João Pessoa.\n",
      "7                                                                                                                                                                                                                                                                                                                                                                                                                                                      Objeto: Pregão Eletrônico -  Serviço de manutenção de viaturas.\n",
      "8                                                                                                                                                                                                                                                                                                                                                                                                                                                    Objeto: Pregão Eletrônico -  Aquisição de materiais para pintura.\n",
      "9  Objeto: Pregão Eletrônico -  O objeto desta licitação é o registro de preços para eventual aquisição de materiais de construção, visando atender às necessidades do Comando do Comando Militar do Nordeste (Cmdo CMNE), Organizações Militares administrativamente vinculadas (5º Centro de Telemática de Área (5º CTA), 5ª Companhia de Inteligência (5ª Cia Intlg) e Companhia de Comando do Comando Militar do Nordeste (Cia Cmdo CMNE), conforme especificações e quantidades estabelecidas no Edital e Anexos.\n",
      "10                                                                                                                                                                                                                                                                                                                                                                                                                               Objeto: Aquisição de fitas eletro-magneticas para Biblioteca Comunitária do ICA/UFMG.\n",
      "   co_grupo_material_s\n",
      "1                   61\n",
      "2                   32\n",
      "3                   -9\n",
      "4                   59\n",
      "5                   51\n",
      "6                   65\n",
      "7                   -9\n",
      "8                   80\n",
      "9                   56\n",
      "10                  75\n",
      "                                                             no_grupo_material_s\n",
      "1  CONDUTORES ELÉTRICOS E EQUIPAMENTOS PARA GERAÇÃO  E  DISTRI-BUIÇÃO DE ENERGIA\n",
      "2                              MÁQUINAS E EQUIPAMENTOS PARA TRABALHOS EM MADEIRA\n",
      "3                                                                  NAO SE APLICA\n",
      "4                            COMPONENTES DE EQUIPAMENTOS ELÉTRICOS E ELETRÔNICOS\n",
      "5                                                            FERRAMENTAS MANUAIS\n",
      "6                EQUIPAMENTOS E ARTIGOS PARA USO MÉDICO, DENTÁRIO E VETERINÁ-RIO\n",
      "7                                                                  NAO SE APLICA\n",
      "8                                           PINCÉIS, TINTAS, VEDANTES E ADESIVOS\n",
      "9                                                      MATERIAIS PARA CONSTRUÇÃO\n",
      "10                             UTENSÍLIOS DE ESCRITÓRIO E MATERIAL DE EXPEDIENTE\n",
      "   co_grupo_servico_s\n",
      "1                  -9\n",
      "2                  -9\n",
      "3                 546\n",
      "4                  -9\n",
      "5                  -9\n",
      "6                  -9\n",
      "7                 871\n",
      "8                  -9\n",
      "9                  -9\n",
      "10                 -9\n",
      "                                                                          no_grupo_servico_s\n",
      "1                                                                              NAO SE APLICA\n",
      "2                                                                              NAO SE APLICA\n",
      "3                                                                     SERVIÇOS DE INSTALAÇÃO\n",
      "4                                                                              NAO SE APLICA\n",
      "5                                                                              NAO SE APLICA\n",
      "6                                                                              NAO SE APLICA\n",
      "7  SERVIÇOS DE MANUTENÇÃO E REPARO DE PRODUTOS FABRICADOS DE METAL,MAQUINARIA E EQUIPAMENTOS\n",
      "8                                                                              NAO SE APLICA\n",
      "9                                                                              NAO SE APLICA\n",
      "10                                                                             NAO SE APLICA\n",
      "   co_classe_material_s\n",
      "1                 16115\n",
      "2                 13230\n",
      "3                 25469\n",
      "4                 15925\n",
      "5                 15133\n",
      "6                 16505\n",
      "7                 28714\n",
      "8                 18010\n",
      "9                 15620\n",
      "10                17510\n",
      "                                                        no_classe_material_s\n",
      "1                                  GERADORES E CONJUNTOS GERADORES ELÉTRICOS\n",
      "2             FERRAMENTAS E ACESSÓRIOS DE MÁQUINAS PARA TRABALHO EM  MADEIRA\n",
      "3                                              OUTROS SERVIÇOS DE INSTALAÇÃO\n",
      "4                                                                DISJUNTORES\n",
      "5         BROCAS, ALARGADORES, ESCARIADORES, MANUAIS E PARA USO EM  MÁQUINAS\n",
      "6                                                      DROGAS E MEDICAMENTOS\n",
      "7  SERVIÇOS DE MANUTENÇÃO E REPARO DA MAQUINARIA E EQUIPAMENTOSDE TRANSPORTE\n",
      "8                                     TINTAS, VERNIZES E PRODUTOS CORRELATOS\n",
      "9                           VIDROS, TELHAS, TIJOLOS E BLOCOS PARA CONSTRUÇÃO\n",
      "10                                                   ARTIGOS PARA ESCRITÓRIO\n",
      "   co_padrao_desc_material_s                       no_padrao_desc_material_s\n",
      "1                      19082 EQUIPAMENTO/PEÇAS/ACESSÓRIOS CENTRAL HIDRÁULICA\n",
      "2                       8618                  PEÇAS E ACESSÓRIOS FERRAMENTAS\n",
      "3                         -9                                   NAO SE APLICA\n",
      "4                      16053                        DISJUNTOR TERMOMAGNÉTICO\n",
      "5                       3879                                           BROCA\n",
      "6                       7351                                FENITOÍNA SÓDICA\n",
      "7                         -9                                   NAO SE APLICA\n",
      "8                      13399                                          VERNIZ\n",
      "9                       4430                  CANTARIA - MATERIAL CONSTRUÇÃO\n",
      "10                        21                                ETIQUETA ADESIVA\n",
      "   co_material_servico_s\n",
      "1             1000150579\n",
      "2             1000150658\n",
      "3             2000015814\n",
      "4             1000250487\n",
      "5             1000090719\n",
      "6             1000267107\n",
      "7             2000003565\n",
      "8             1000062022\n",
      "9             1000051373\n",
      "10            1000000400\n",
      "                                                                        no_material_servico_s\n",
      "1   EQUIPAMENTO/PEÇAS/ACESSÓRIOS CENTRAL HIDRÁULICA, EQUIPAMENTO/PEÇAS/ACESSÓRIOS CENTRAL HID\n",
      "2                              PEÇAS E ACESSÓRIOS FERRAMENTAS, PEÇAS E ACESSÓRIOS FERRAMENTAS\n",
      "3                                       INSTALACAO / REMOCAO DE DIVISORIA / PAINEL / PERSIANA\n",
      "4                          DISJUNTOR TERMOMAGNÉTICO, TRIPOLAR NIC, 100 A, INSTALAÇÃO ELÉTRICA\n",
      "5                                                                     BROCA, BROCA ACO RAPIDO\n",
      "6                                               FENITOÍNA SÓDICA, 50 MG/ML, SOLUÇÃO INJETÁVEL\n",
      "7                                                      MANUTENCAO DE VEICULOS LEVES / PESADOS\n",
      "8                                                                 VERNIZ, VERNIZ PARA MADEIRA\n",
      "9                         CANTARIA - MATERIAL CONSTRUÇÃO, CANTARIA ( MATERIAL DE CONSTRUCAO )\n",
      "10                                         ETIQUETA ADESIVA, ETIQUETA AUTO - ADESIVA IMPRESSA\n",
      "   qtde_compra_ti valor_total_homologado_td valor_preco_global_estim_td\n",
      "1               1                   3000.00                     3313.00\n",
      "2               1                     44.91                      180.00\n",
      "3               1                   4400.00                     6091.28\n",
      "4               1                     96.50                       90.00\n",
      "5               1                    336.00                      561.60\n",
      "6               1                    130.50                      225.00\n",
      "7               1                   1062.00                     1350.00\n",
      "8               1                    370.00                      670.00\n",
      "9               1                    518.40                     3600.00\n",
      "10              1                    960.00                      960.00\n",
      "   vr_economia_pregao_td nu_economia_pregao_anual_td nu_var_acumulada_anual_td\n",
      "1                 313.00                  -10.433333                         0\n",
      "2                 135.09                 -300.801603                         0\n",
      "3                1691.28                  -38.438182                         0\n",
      "4                  -6.50                    6.735751                         0\n",
      "5                 225.60                  -67.142857                         0\n",
      "6                  94.50                  -72.413793                         0\n",
      "7                 288.00                  -27.118644                         0\n",
      "8                 300.00                  -81.081081                         0\n",
      "9                3081.60                 -594.444444                         0\n",
      "10                  0.00                    0.000000                         0\n",
      "   no_tipo_item_s mes_resultado_compra_ti qtd_ti regra_corte_ti\n",
      "1        Material                       8      1              0\n",
      "2        Material                       8      1              0\n",
      "3        Material                       8      1              0\n",
      "4        Material                       8      1              0\n",
      "5        Material                       8      1              0\n",
      "6        Material                       8      1              0\n",
      "7        Material                       8      1              0\n",
      "8        Material                       8      1              0\n",
      "9        Material                       8      1              0\n",
      "10       Material                       8      1              0\n",
      "   vr_ipca_mensal_td   X_version_ score vr_ipca_anual_td\n",
      "1           1.045881 1.497754e+18     1               NA\n",
      "2           1.113496 1.497754e+18     1               NA\n",
      "3           1.301947 1.497754e+18     1               NA\n",
      "4           1.470891 1.497754e+18     1           1.0569\n",
      "5           1.188600 1.497754e+18     1               NA\n",
      "6           1.497830 1.497754e+18     1               NA\n",
      "7           1.119404 1.497754e+18     1               NA\n",
      "8           1.322225 1.497754e+18     1               NA\n",
      "9           1.045881 1.497754e+18     1               NA\n",
      "10          1.222254 1.497754e+18     1               NA\n"
     ]
    }
   ],
   "source": [
    "DAT<-read.csv(\"exemplocompraver.csv\")\n",
    "print(DAT)"
   ]
  },
  {
   "cell_type": "code",
   "execution_count": null,
   "metadata": {},
   "outputs": [],
   "source": [
    "<H3>Formatar campos com nṹmeros longos</h3>\n"
   ]
  },
  {
   "cell_type": "code",
   "execution_count": null,
   "metadata": {},
   "outputs": [],
   "source": []
  },
  {
   "cell_type": "markdown",
   "metadata": {},
   "source": [
    "<h3>Pegando o maior valor e exibindo</h3>"
   ]
  },
  {
   "cell_type": "code",
   "execution_count": 8,
   "metadata": {},
   "outputs": [
    {
     "name": "stdout",
     "output_type": "stream",
     "text": [
      "[1] 1.49783\n"
     ]
    }
   ],
   "source": [
    "maximovaloripcamensal <- max(DAT$vr_ipca_mensal_td)\n",
    "print(maximovaloripcamensal)"
   ]
  },
  {
   "cell_type": "markdown",
   "metadata": {},
   "source": [
    "<h3>Grava os valores filtrados em outro CSV e imprime o conteúdo gravado.</h3>\n"
   ]
  },
  {
   "cell_type": "code",
   "execution_count": 9,
   "metadata": {},
   "outputs": [
    {
     "name": "stdout",
     "output_type": "stream",
     "text": [
      "        x\n",
      "1 1.49783\n"
     ]
    }
   ],
   "source": [
    "write.csv(maximovaloripcamensal,\"output.csv\", row.names = FALSE)\n",
    "novoarquivo <- read.csv(\"output.csv\")\n",
    "print(novoarquivo)"
   ]
  },
  {
   "cell_type": "markdown",
   "metadata": {},
   "source": [
    "<h3>Retorna as primeiras linhas do objeto.</h3>\n",
    "\n",
    "https://www.rdocumentation.org/packages/utils/versions/3.5.3/topics/head\n"
   ]
  },
  {
   "cell_type": "code",
   "execution_count": 10,
   "metadata": {},
   "outputs": [
    {
     "data": {
      "text/html": [
       "<table>\n",
       "<thead><tr><th scope=col>id</th><th scope=col>ano_resultado_compra_s</th><th scope=col>anomes_resultado_compra_s</th><th scope=col>co_orgao_siafi_s</th><th scope=col>no_orgao_siafi_s</th><th scope=col>co_unidade_gestora_s</th><th scope=col>no_unidade_gestora_s</th><th scope=col>uf_resp_compra_s</th><th scope=col>co_modal_compra_grupo_s</th><th scope=col>no_modal_compra_grupo_s</th><th scope=col>⋯</th><th scope=col>nu_economia_pregao_anual_td</th><th scope=col>nu_var_acumulada_anual_td</th><th scope=col>no_tipo_item_s</th><th scope=col>mes_resultado_compra_ti</th><th scope=col>qtd_ti</th><th scope=col>regra_corte_ti</th><th scope=col>vr_ipca_mensal_td</th><th scope=col>X_version_</th><th scope=col>score</th><th scope=col>vr_ipca_anual_td</th></tr></thead>\n",
       "<tbody>\n",
       "\t<tr><td>1.308e+33                                   </td><td>2013                                        </td><td>201308                                      </td><td>52000                                       </td><td>MINISTERIO DEFESA                           </td><td>160055                                      </td><td>16 BATALHAO LOGISTICO- MEX/DF               </td><td>DF                                          </td><td>5                                           </td><td>Pregão                                      </td><td>⋯                                           </td><td> -10.433333                                 </td><td>0                                           </td><td>Material                                    </td><td>8                                           </td><td>1                                           </td><td>0                                           </td><td>1.045881                                    </td><td>1.497754e+18                                </td><td>1                                           </td><td>    NA                                      </td></tr>\n",
       "\t<tr><td>1.308e+33                                   </td><td>2013                                        </td><td>201308                                      </td><td>22000                                       </td><td>MINIST. DA AGRICUL.,PECUARIA E ABASTECIMENTO</td><td>135017                                      </td><td>EMBRAPA/CNPGC                               </td><td>MS                                          </td><td>5                                           </td><td>Pregão                                      </td><td>⋯                                           </td><td>-300.801603                                 </td><td>0                                           </td><td>Material                                    </td><td>8                                           </td><td>1                                           </td><td>0                                           </td><td>1.113496                                    </td><td>1.497754e+18                                </td><td>1                                           </td><td>    NA                                      </td></tr>\n",
       "\t<tr><td>1.308e+33                                   </td><td>2013                                        </td><td>201308                                      </td><td>15000                                       </td><td>JUSTICA DO TRABALHO                         </td><td> 80021                                      </td><td>TRIBUNAL REGIONAL DO TRABALHO DA 21A. REGIAO</td><td>RN                                          </td><td>5                                           </td><td>Pregão                                      </td><td>⋯                                           </td><td> -38.438182                                 </td><td>0                                           </td><td>Material                                    </td><td>8                                           </td><td>1                                           </td><td>0                                           </td><td>1.301947                                    </td><td>1.497754e+18                                </td><td>1                                           </td><td>    NA                                      </td></tr>\n",
       "\t<tr><td>1.308e+33                                   </td><td>2013                                        </td><td>201308                                      </td><td>26000                                       </td><td>MINISTERIO DA EDUCACAO                      </td><td>154046                                      </td><td>FUNDACAO UNIVERSIDADE FEDERAL DE OURO PRETO </td><td>MG                                          </td><td>5                                           </td><td>Pregão                                      </td><td>⋯                                           </td><td>   6.735751                                 </td><td>0                                           </td><td>Material                                    </td><td>8                                           </td><td>1                                           </td><td>0                                           </td><td>1.470891                                    </td><td>1.497754e+18                                </td><td>1                                           </td><td>1.0569                                      </td></tr>\n",
       "\t<tr><td>1.308e+33                                   </td><td>2013                                        </td><td>201308                                      </td><td>52000                                       </td><td>MINISTERIO DEFESA                           </td><td>160431                                      </td><td>4 REGIMENTO DE CAVALARIA BLINDADO/RS        </td><td>RS                                          </td><td>5                                           </td><td>Pregão                                      </td><td>⋯                                           </td><td> -67.142857                                 </td><td>0                                           </td><td>Material                                    </td><td>8                                           </td><td>1                                           </td><td>0                                           </td><td>1.188600                                    </td><td>1.497754e+18                                </td><td>1                                           </td><td>    NA                                      </td></tr>\n",
       "\t<tr><td>1.308e+33                                   </td><td>2013                                        </td><td>201308                                      </td><td>52000                                       </td><td>MINISTERIO DEFESA                           </td><td>160139                                      </td><td>HOSPITAL DE GUARNICAO DE JOAO PESSOA        </td><td>PB                                          </td><td>5                                           </td><td>Pregão                                      </td><td>⋯                                           </td><td> -72.413793                                 </td><td>0                                           </td><td>Material                                    </td><td>8                                           </td><td>1                                           </td><td>0                                           </td><td>1.497830                                    </td><td>1.497754e+18                                </td><td>1                                           </td><td>    NA                                      </td></tr>\n",
       "</tbody>\n",
       "</table>\n"
      ],
      "text/latex": [
       "\\begin{tabular}{r|llllllllllllllllllllllllllllllllllllllllllllllll}\n",
       " id & ano\\_resultado\\_compra\\_s & anomes\\_resultado\\_compra\\_s & co\\_orgao\\_siafi\\_s & no\\_orgao\\_siafi\\_s & co\\_unidade\\_gestora\\_s & no\\_unidade\\_gestora\\_s & uf\\_resp\\_compra\\_s & co\\_modal\\_compra\\_grupo\\_s & no\\_modal\\_compra\\_grupo\\_s & ⋯ & nu\\_economia\\_pregao\\_anual\\_td & nu\\_var\\_acumulada\\_anual\\_td & no\\_tipo\\_item\\_s & mes\\_resultado\\_compra\\_ti & qtd\\_ti & regra\\_corte\\_ti & vr\\_ipca\\_mensal\\_td & X\\_version\\_ & score & vr\\_ipca\\_anual\\_td\\\\\n",
       "\\hline\n",
       "\t 1.308e+33                                    & 2013                                         & 201308                                       & 52000                                        & MINISTERIO DEFESA                            & 160055                                       & 16 BATALHAO LOGISTICO- MEX/DF                & DF                                           & 5                                            & Pregão                                       & ⋯                                            &  -10.433333                                  & 0                                            & Material                                     & 8                                            & 1                                            & 0                                            & 1.045881                                     & 1.497754e+18                                 & 1                                            &     NA                                      \\\\\n",
       "\t 1.308e+33                                    & 2013                                         & 201308                                       & 22000                                        & MINIST. DA AGRICUL.,PECUARIA E ABASTECIMENTO & 135017                                       & EMBRAPA/CNPGC                                & MS                                           & 5                                            & Pregão                                       & ⋯                                            & -300.801603                                  & 0                                            & Material                                     & 8                                            & 1                                            & 0                                            & 1.113496                                     & 1.497754e+18                                 & 1                                            &     NA                                      \\\\\n",
       "\t 1.308e+33                                    & 2013                                         & 201308                                       & 15000                                        & JUSTICA DO TRABALHO                          &  80021                                       & TRIBUNAL REGIONAL DO TRABALHO DA 21A. REGIAO & RN                                           & 5                                            & Pregão                                       & ⋯                                            &  -38.438182                                  & 0                                            & Material                                     & 8                                            & 1                                            & 0                                            & 1.301947                                     & 1.497754e+18                                 & 1                                            &     NA                                      \\\\\n",
       "\t 1.308e+33                                    & 2013                                         & 201308                                       & 26000                                        & MINISTERIO DA EDUCACAO                       & 154046                                       & FUNDACAO UNIVERSIDADE FEDERAL DE OURO PRETO  & MG                                           & 5                                            & Pregão                                       & ⋯                                            &    6.735751                                  & 0                                            & Material                                     & 8                                            & 1                                            & 0                                            & 1.470891                                     & 1.497754e+18                                 & 1                                            & 1.0569                                      \\\\\n",
       "\t 1.308e+33                                    & 2013                                         & 201308                                       & 52000                                        & MINISTERIO DEFESA                            & 160431                                       & 4 REGIMENTO DE CAVALARIA BLINDADO/RS         & RS                                           & 5                                            & Pregão                                       & ⋯                                            &  -67.142857                                  & 0                                            & Material                                     & 8                                            & 1                                            & 0                                            & 1.188600                                     & 1.497754e+18                                 & 1                                            &     NA                                      \\\\\n",
       "\t 1.308e+33                                    & 2013                                         & 201308                                       & 52000                                        & MINISTERIO DEFESA                            & 160139                                       & HOSPITAL DE GUARNICAO DE JOAO PESSOA         & PB                                           & 5                                            & Pregão                                       & ⋯                                            &  -72.413793                                  & 0                                            & Material                                     & 8                                            & 1                                            & 0                                            & 1.497830                                     & 1.497754e+18                                 & 1                                            &     NA                                      \\\\\n",
       "\\end{tabular}\n"
      ],
      "text/markdown": [
       "\n",
       "id | ano_resultado_compra_s | anomes_resultado_compra_s | co_orgao_siafi_s | no_orgao_siafi_s | co_unidade_gestora_s | no_unidade_gestora_s | uf_resp_compra_s | co_modal_compra_grupo_s | no_modal_compra_grupo_s | ⋯ | nu_economia_pregao_anual_td | nu_var_acumulada_anual_td | no_tipo_item_s | mes_resultado_compra_ti | qtd_ti | regra_corte_ti | vr_ipca_mensal_td | X_version_ | score | vr_ipca_anual_td | \n",
       "|---|---|---|---|---|---|\n",
       "| 1.308e+33                                    | 2013                                         | 201308                                       | 52000                                        | MINISTERIO DEFESA                            | 160055                                       | 16 BATALHAO LOGISTICO- MEX/DF                | DF                                           | 5                                            | Pregão                                       | ⋯                                            |  -10.433333                                  | 0                                            | Material                                     | 8                                            | 1                                            | 0                                            | 1.045881                                     | 1.497754e+18                                 | 1                                            |     NA                                       | \n",
       "| 1.308e+33                                    | 2013                                         | 201308                                       | 22000                                        | MINIST. DA AGRICUL.,PECUARIA E ABASTECIMENTO | 135017                                       | EMBRAPA/CNPGC                                | MS                                           | 5                                            | Pregão                                       | ⋯                                            | -300.801603                                  | 0                                            | Material                                     | 8                                            | 1                                            | 0                                            | 1.113496                                     | 1.497754e+18                                 | 1                                            |     NA                                       | \n",
       "| 1.308e+33                                    | 2013                                         | 201308                                       | 15000                                        | JUSTICA DO TRABALHO                          |  80021                                       | TRIBUNAL REGIONAL DO TRABALHO DA 21A. REGIAO | RN                                           | 5                                            | Pregão                                       | ⋯                                            |  -38.438182                                  | 0                                            | Material                                     | 8                                            | 1                                            | 0                                            | 1.301947                                     | 1.497754e+18                                 | 1                                            |     NA                                       | \n",
       "| 1.308e+33                                    | 2013                                         | 201308                                       | 26000                                        | MINISTERIO DA EDUCACAO                       | 154046                                       | FUNDACAO UNIVERSIDADE FEDERAL DE OURO PRETO  | MG                                           | 5                                            | Pregão                                       | ⋯                                            |    6.735751                                  | 0                                            | Material                                     | 8                                            | 1                                            | 0                                            | 1.470891                                     | 1.497754e+18                                 | 1                                            | 1.0569                                       | \n",
       "| 1.308e+33                                    | 2013                                         | 201308                                       | 52000                                        | MINISTERIO DEFESA                            | 160431                                       | 4 REGIMENTO DE CAVALARIA BLINDADO/RS         | RS                                           | 5                                            | Pregão                                       | ⋯                                            |  -67.142857                                  | 0                                            | Material                                     | 8                                            | 1                                            | 0                                            | 1.188600                                     | 1.497754e+18                                 | 1                                            |     NA                                       | \n",
       "| 1.308e+33                                    | 2013                                         | 201308                                       | 52000                                        | MINISTERIO DEFESA                            | 160139                                       | HOSPITAL DE GUARNICAO DE JOAO PESSOA         | PB                                           | 5                                            | Pregão                                       | ⋯                                            |  -72.413793                                  | 0                                            | Material                                     | 8                                            | 1                                            | 0                                            | 1.497830                                     | 1.497754e+18                                 | 1                                            |     NA                                       | \n",
       "\n",
       "\n"
      ],
      "text/plain": [
       "  id        ano_resultado_compra_s anomes_resultado_compra_s co_orgao_siafi_s\n",
       "1 1.308e+33 2013                   201308                    52000           \n",
       "2 1.308e+33 2013                   201308                    22000           \n",
       "3 1.308e+33 2013                   201308                    15000           \n",
       "4 1.308e+33 2013                   201308                    26000           \n",
       "5 1.308e+33 2013                   201308                    52000           \n",
       "6 1.308e+33 2013                   201308                    52000           \n",
       "  no_orgao_siafi_s                             co_unidade_gestora_s\n",
       "1 MINISTERIO DEFESA                            160055              \n",
       "2 MINIST. DA AGRICUL.,PECUARIA E ABASTECIMENTO 135017              \n",
       "3 JUSTICA DO TRABALHO                           80021              \n",
       "4 MINISTERIO DA EDUCACAO                       154046              \n",
       "5 MINISTERIO DEFESA                            160431              \n",
       "6 MINISTERIO DEFESA                            160139              \n",
       "  no_unidade_gestora_s                         uf_resp_compra_s\n",
       "1 16 BATALHAO LOGISTICO- MEX/DF                DF              \n",
       "2 EMBRAPA/CNPGC                                MS              \n",
       "3 TRIBUNAL REGIONAL DO TRABALHO DA 21A. REGIAO RN              \n",
       "4 FUNDACAO UNIVERSIDADE FEDERAL DE OURO PRETO  MG              \n",
       "5 4 REGIMENTO DE CAVALARIA BLINDADO/RS         RS              \n",
       "6 HOSPITAL DE GUARNICAO DE JOAO PESSOA         PB              \n",
       "  co_modal_compra_grupo_s no_modal_compra_grupo_s ⋯ nu_economia_pregao_anual_td\n",
       "1 5                       Pregão                  ⋯  -10.433333                \n",
       "2 5                       Pregão                  ⋯ -300.801603                \n",
       "3 5                       Pregão                  ⋯  -38.438182                \n",
       "4 5                       Pregão                  ⋯    6.735751                \n",
       "5 5                       Pregão                  ⋯  -67.142857                \n",
       "6 5                       Pregão                  ⋯  -72.413793                \n",
       "  nu_var_acumulada_anual_td no_tipo_item_s mes_resultado_compra_ti qtd_ti\n",
       "1 0                         Material       8                       1     \n",
       "2 0                         Material       8                       1     \n",
       "3 0                         Material       8                       1     \n",
       "4 0                         Material       8                       1     \n",
       "5 0                         Material       8                       1     \n",
       "6 0                         Material       8                       1     \n",
       "  regra_corte_ti vr_ipca_mensal_td X_version_   score vr_ipca_anual_td\n",
       "1 0              1.045881          1.497754e+18 1         NA          \n",
       "2 0              1.113496          1.497754e+18 1         NA          \n",
       "3 0              1.301947          1.497754e+18 1         NA          \n",
       "4 0              1.470891          1.497754e+18 1     1.0569          \n",
       "5 0              1.188600          1.497754e+18 1         NA          \n",
       "6 0              1.497830          1.497754e+18 1         NA          "
      ]
     },
     "metadata": {},
     "output_type": "display_data"
    }
   ],
   "source": [
    "head(DAT)"
   ]
  },
  {
   "cell_type": "markdown",
   "metadata": {},
   "source": [
    "<h3>Retorna as últimas linhas do objeto.</h3>\n",
    "\n",
    "http://rfunction.com/archives/699\n"
   ]
  },
  {
   "cell_type": "code",
   "execution_count": 11,
   "metadata": {},
   "outputs": [
    {
     "data": {
      "text/html": [
       "<table>\n",
       "<thead><tr><th></th><th scope=col>id</th><th scope=col>ano_resultado_compra_s</th><th scope=col>anomes_resultado_compra_s</th><th scope=col>co_orgao_siafi_s</th><th scope=col>no_orgao_siafi_s</th><th scope=col>co_unidade_gestora_s</th><th scope=col>no_unidade_gestora_s</th><th scope=col>uf_resp_compra_s</th><th scope=col>co_modal_compra_grupo_s</th><th scope=col>no_modal_compra_grupo_s</th><th scope=col>⋯</th><th scope=col>nu_economia_pregao_anual_td</th><th scope=col>nu_var_acumulada_anual_td</th><th scope=col>no_tipo_item_s</th><th scope=col>mes_resultado_compra_ti</th><th scope=col>qtd_ti</th><th scope=col>regra_corte_ti</th><th scope=col>vr_ipca_mensal_td</th><th scope=col>X_version_</th><th scope=col>score</th><th scope=col>vr_ipca_anual_td</th></tr></thead>\n",
       "<tbody>\n",
       "\t<tr><th scope=row>5</th><td>1.308e+33                                  </td><td>2013                                       </td><td>201308                                     </td><td>52000                                      </td><td>MINISTERIO DEFESA                          </td><td>160431                                     </td><td>4 REGIMENTO DE CAVALARIA BLINDADO/RS       </td><td>RS                                         </td><td>5                                          </td><td>Pregão                                     </td><td>⋯                                          </td><td> -67.14286                                 </td><td>0                                          </td><td>Material                                   </td><td>8                                          </td><td>1                                          </td><td>0                                          </td><td>1.188600                                   </td><td>1.497754e+18                               </td><td>1                                          </td><td>NA                                         </td></tr>\n",
       "\t<tr><th scope=row>6</th><td>1.308e+33                                  </td><td>2013                                       </td><td>201308                                     </td><td>52000                                      </td><td>MINISTERIO DEFESA                          </td><td>160139                                     </td><td>HOSPITAL DE GUARNICAO DE JOAO PESSOA       </td><td>PB                                         </td><td>5                                          </td><td>Pregão                                     </td><td>⋯                                          </td><td> -72.41379                                 </td><td>0                                          </td><td>Material                                   </td><td>8                                          </td><td>1                                          </td><td>0                                          </td><td>1.497830                                   </td><td>1.497754e+18                               </td><td>1                                          </td><td>NA                                         </td></tr>\n",
       "\t<tr><th scope=row>7</th><td>1.308e+33                                  </td><td>2013                                       </td><td>201308                                     </td><td>52000                                      </td><td>MINISTERIO DEFESA                          </td><td>160410                                     </td><td>4 BATALHAO LOGISTICO EM SANTA MARIA/RS     </td><td>RS                                         </td><td>5                                          </td><td>Pregão                                     </td><td>⋯                                          </td><td> -27.11864                                 </td><td>0                                          </td><td>Material                                   </td><td>8                                          </td><td>1                                          </td><td>0                                          </td><td>1.119404                                   </td><td>1.497754e+18                               </td><td>1                                          </td><td>NA                                         </td></tr>\n",
       "\t<tr><th scope=row>8</th><td>1.308e+33                                  </td><td>2013                                       </td><td>201308                                     </td><td>26000                                      </td><td>MINISTERIO DA EDUCACAO                     </td><td>154046                                     </td><td>FUNDACAO UNIVERSIDADE FEDERAL DE OURO PRETO</td><td>MG                                         </td><td>5                                          </td><td>Pregão                                     </td><td>⋯                                          </td><td> -81.08108                                 </td><td>0                                          </td><td>Material                                   </td><td>8                                          </td><td>1                                          </td><td>0                                          </td><td>1.322225                                   </td><td>1.497754e+18                               </td><td>1                                          </td><td>NA                                         </td></tr>\n",
       "\t<tr><th scope=row>9</th><td>1.308e+33                                  </td><td>2013                                       </td><td>201308                                     </td><td>52000                                      </td><td>MINISTERIO DEFESA                          </td><td>160195                                     </td><td>COMANDO DO COMANDO MILITAR DO NORDESTE     </td><td>PE                                         </td><td>5                                          </td><td>Pregão                                     </td><td>⋯                                          </td><td>-594.44444                                 </td><td>0                                          </td><td>Material                                   </td><td>8                                          </td><td>1                                          </td><td>0                                          </td><td>1.045881                                   </td><td>1.497754e+18                               </td><td>1                                          </td><td>NA                                         </td></tr>\n",
       "\t<tr><th scope=row>10</th><td>1.308e+33                                  </td><td>2013                                       </td><td>201308                                     </td><td>26000                                      </td><td>MINISTERIO DA EDUCACAO                     </td><td>153296                                     </td><td>NUCLEO DE CIENCIAS AGRARIAS/UFMG           </td><td>MG                                         </td><td>6                                          </td><td>Dispensa de Licitação                      </td><td>⋯                                          </td><td>   0.00000                                 </td><td>0                                          </td><td>Material                                   </td><td>8                                          </td><td>1                                          </td><td>0                                          </td><td>1.222254                                   </td><td>1.497754e+18                               </td><td>1                                          </td><td>NA                                         </td></tr>\n",
       "</tbody>\n",
       "</table>\n"
      ],
      "text/latex": [
       "\\begin{tabular}{r|llllllllllllllllllllllllllllllllllllllllllllllll}\n",
       "  & id & ano\\_resultado\\_compra\\_s & anomes\\_resultado\\_compra\\_s & co\\_orgao\\_siafi\\_s & no\\_orgao\\_siafi\\_s & co\\_unidade\\_gestora\\_s & no\\_unidade\\_gestora\\_s & uf\\_resp\\_compra\\_s & co\\_modal\\_compra\\_grupo\\_s & no\\_modal\\_compra\\_grupo\\_s & ⋯ & nu\\_economia\\_pregao\\_anual\\_td & nu\\_var\\_acumulada\\_anual\\_td & no\\_tipo\\_item\\_s & mes\\_resultado\\_compra\\_ti & qtd\\_ti & regra\\_corte\\_ti & vr\\_ipca\\_mensal\\_td & X\\_version\\_ & score & vr\\_ipca\\_anual\\_td\\\\\n",
       "\\hline\n",
       "\t5 & 1.308e+33                                   & 2013                                        & 201308                                      & 52000                                       & MINISTERIO DEFESA                           & 160431                                      & 4 REGIMENTO DE CAVALARIA BLINDADO/RS        & RS                                          & 5                                           & Pregão                                      & ⋯                                           &  -67.14286                                  & 0                                           & Material                                    & 8                                           & 1                                           & 0                                           & 1.188600                                    & 1.497754e+18                                & 1                                           & NA                                         \\\\\n",
       "\t6 & 1.308e+33                                   & 2013                                        & 201308                                      & 52000                                       & MINISTERIO DEFESA                           & 160139                                      & HOSPITAL DE GUARNICAO DE JOAO PESSOA        & PB                                          & 5                                           & Pregão                                      & ⋯                                           &  -72.41379                                  & 0                                           & Material                                    & 8                                           & 1                                           & 0                                           & 1.497830                                    & 1.497754e+18                                & 1                                           & NA                                         \\\\\n",
       "\t7 & 1.308e+33                                   & 2013                                        & 201308                                      & 52000                                       & MINISTERIO DEFESA                           & 160410                                      & 4 BATALHAO LOGISTICO EM SANTA MARIA/RS      & RS                                          & 5                                           & Pregão                                      & ⋯                                           &  -27.11864                                  & 0                                           & Material                                    & 8                                           & 1                                           & 0                                           & 1.119404                                    & 1.497754e+18                                & 1                                           & NA                                         \\\\\n",
       "\t8 & 1.308e+33                                   & 2013                                        & 201308                                      & 26000                                       & MINISTERIO DA EDUCACAO                      & 154046                                      & FUNDACAO UNIVERSIDADE FEDERAL DE OURO PRETO & MG                                          & 5                                           & Pregão                                      & ⋯                                           &  -81.08108                                  & 0                                           & Material                                    & 8                                           & 1                                           & 0                                           & 1.322225                                    & 1.497754e+18                                & 1                                           & NA                                         \\\\\n",
       "\t9 & 1.308e+33                                   & 2013                                        & 201308                                      & 52000                                       & MINISTERIO DEFESA                           & 160195                                      & COMANDO DO COMANDO MILITAR DO NORDESTE      & PE                                          & 5                                           & Pregão                                      & ⋯                                           & -594.44444                                  & 0                                           & Material                                    & 8                                           & 1                                           & 0                                           & 1.045881                                    & 1.497754e+18                                & 1                                           & NA                                         \\\\\n",
       "\t10 & 1.308e+33                                   & 2013                                        & 201308                                      & 26000                                       & MINISTERIO DA EDUCACAO                      & 153296                                      & NUCLEO DE CIENCIAS AGRARIAS/UFMG            & MG                                          & 6                                           & Dispensa de Licitação                       & ⋯                                           &    0.00000                                  & 0                                           & Material                                    & 8                                           & 1                                           & 0                                           & 1.222254                                    & 1.497754e+18                                & 1                                           & NA                                         \\\\\n",
       "\\end{tabular}\n"
      ],
      "text/markdown": [
       "\n",
       "| <!--/--> | id | ano_resultado_compra_s | anomes_resultado_compra_s | co_orgao_siafi_s | no_orgao_siafi_s | co_unidade_gestora_s | no_unidade_gestora_s | uf_resp_compra_s | co_modal_compra_grupo_s | no_modal_compra_grupo_s | ⋯ | nu_economia_pregao_anual_td | nu_var_acumulada_anual_td | no_tipo_item_s | mes_resultado_compra_ti | qtd_ti | regra_corte_ti | vr_ipca_mensal_td | X_version_ | score | vr_ipca_anual_td | \n",
       "|---|---|---|---|---|---|\n",
       "| 5 | 1.308e+33                                   | 2013                                        | 201308                                      | 52000                                       | MINISTERIO DEFESA                           | 160431                                      | 4 REGIMENTO DE CAVALARIA BLINDADO/RS        | RS                                          | 5                                           | Pregão                                      | ⋯                                           |  -67.14286                                  | 0                                           | Material                                    | 8                                           | 1                                           | 0                                           | 1.188600                                    | 1.497754e+18                                | 1                                           | NA                                          | \n",
       "| 6 | 1.308e+33                                   | 2013                                        | 201308                                      | 52000                                       | MINISTERIO DEFESA                           | 160139                                      | HOSPITAL DE GUARNICAO DE JOAO PESSOA        | PB                                          | 5                                           | Pregão                                      | ⋯                                           |  -72.41379                                  | 0                                           | Material                                    | 8                                           | 1                                           | 0                                           | 1.497830                                    | 1.497754e+18                                | 1                                           | NA                                          | \n",
       "| 7 | 1.308e+33                                   | 2013                                        | 201308                                      | 52000                                       | MINISTERIO DEFESA                           | 160410                                      | 4 BATALHAO LOGISTICO EM SANTA MARIA/RS      | RS                                          | 5                                           | Pregão                                      | ⋯                                           |  -27.11864                                  | 0                                           | Material                                    | 8                                           | 1                                           | 0                                           | 1.119404                                    | 1.497754e+18                                | 1                                           | NA                                          | \n",
       "| 8 | 1.308e+33                                   | 2013                                        | 201308                                      | 26000                                       | MINISTERIO DA EDUCACAO                      | 154046                                      | FUNDACAO UNIVERSIDADE FEDERAL DE OURO PRETO | MG                                          | 5                                           | Pregão                                      | ⋯                                           |  -81.08108                                  | 0                                           | Material                                    | 8                                           | 1                                           | 0                                           | 1.322225                                    | 1.497754e+18                                | 1                                           | NA                                          | \n",
       "| 9 | 1.308e+33                                   | 2013                                        | 201308                                      | 52000                                       | MINISTERIO DEFESA                           | 160195                                      | COMANDO DO COMANDO MILITAR DO NORDESTE      | PE                                          | 5                                           | Pregão                                      | ⋯                                           | -594.44444                                  | 0                                           | Material                                    | 8                                           | 1                                           | 0                                           | 1.045881                                    | 1.497754e+18                                | 1                                           | NA                                          | \n",
       "| 10 | 1.308e+33                                   | 2013                                        | 201308                                      | 26000                                       | MINISTERIO DA EDUCACAO                      | 153296                                      | NUCLEO DE CIENCIAS AGRARIAS/UFMG            | MG                                          | 6                                           | Dispensa de Licitação                       | ⋯                                           |    0.00000                                  | 0                                           | Material                                    | 8                                           | 1                                           | 0                                           | 1.222254                                    | 1.497754e+18                                | 1                                           | NA                                          | \n",
       "\n",
       "\n"
      ],
      "text/plain": [
       "   id        ano_resultado_compra_s anomes_resultado_compra_s co_orgao_siafi_s\n",
       "5  1.308e+33 2013                   201308                    52000           \n",
       "6  1.308e+33 2013                   201308                    52000           \n",
       "7  1.308e+33 2013                   201308                    52000           \n",
       "8  1.308e+33 2013                   201308                    26000           \n",
       "9  1.308e+33 2013                   201308                    52000           \n",
       "10 1.308e+33 2013                   201308                    26000           \n",
       "   no_orgao_siafi_s       co_unidade_gestora_s\n",
       "5  MINISTERIO DEFESA      160431              \n",
       "6  MINISTERIO DEFESA      160139              \n",
       "7  MINISTERIO DEFESA      160410              \n",
       "8  MINISTERIO DA EDUCACAO 154046              \n",
       "9  MINISTERIO DEFESA      160195              \n",
       "10 MINISTERIO DA EDUCACAO 153296              \n",
       "   no_unidade_gestora_s                        uf_resp_compra_s\n",
       "5  4 REGIMENTO DE CAVALARIA BLINDADO/RS        RS              \n",
       "6  HOSPITAL DE GUARNICAO DE JOAO PESSOA        PB              \n",
       "7  4 BATALHAO LOGISTICO EM SANTA MARIA/RS      RS              \n",
       "8  FUNDACAO UNIVERSIDADE FEDERAL DE OURO PRETO MG              \n",
       "9  COMANDO DO COMANDO MILITAR DO NORDESTE      PE              \n",
       "10 NUCLEO DE CIENCIAS AGRARIAS/UFMG            MG              \n",
       "   co_modal_compra_grupo_s no_modal_compra_grupo_s ⋯\n",
       "5  5                       Pregão                  ⋯\n",
       "6  5                       Pregão                  ⋯\n",
       "7  5                       Pregão                  ⋯\n",
       "8  5                       Pregão                  ⋯\n",
       "9  5                       Pregão                  ⋯\n",
       "10 6                       Dispensa de Licitação   ⋯\n",
       "   nu_economia_pregao_anual_td nu_var_acumulada_anual_td no_tipo_item_s\n",
       "5   -67.14286                  0                         Material      \n",
       "6   -72.41379                  0                         Material      \n",
       "7   -27.11864                  0                         Material      \n",
       "8   -81.08108                  0                         Material      \n",
       "9  -594.44444                  0                         Material      \n",
       "10    0.00000                  0                         Material      \n",
       "   mes_resultado_compra_ti qtd_ti regra_corte_ti vr_ipca_mensal_td X_version_  \n",
       "5  8                       1      0              1.188600          1.497754e+18\n",
       "6  8                       1      0              1.497830          1.497754e+18\n",
       "7  8                       1      0              1.119404          1.497754e+18\n",
       "8  8                       1      0              1.322225          1.497754e+18\n",
       "9  8                       1      0              1.045881          1.497754e+18\n",
       "10 8                       1      0              1.222254          1.497754e+18\n",
       "   score vr_ipca_anual_td\n",
       "5  1     NA              \n",
       "6  1     NA              \n",
       "7  1     NA              \n",
       "8  1     NA              \n",
       "9  1     NA              \n",
       "10 1     NA              "
      ]
     },
     "metadata": {},
     "output_type": "display_data"
    }
   ],
   "source": [
    "tail(DAT)"
   ]
  },
  {
   "cell_type": "markdown",
   "metadata": {},
   "source": [
    "<h3>Dimensão de um objeto. </h3>\n",
    "\n",
    "<h3>\n",
    "Selecionando 10 linhas e 5 colunas do objeto atual.\n",
    "</h3>"
   ]
  },
  {
   "cell_type": "code",
   "execution_count": 18,
   "metadata": {},
   "outputs": [
    {
     "data": {
      "text/html": [
       "<table>\n",
       "<thead><tr><th scope=col>id</th><th scope=col>ano_resultado_compra_s</th><th scope=col>anomes_resultado_compra_s</th><th scope=col>co_orgao_siafi_s</th><th scope=col>no_orgao_siafi_s</th></tr></thead>\n",
       "<tbody>\n",
       "\t<tr><td>1.308e+33                                   </td><td>2013                                        </td><td>201308                                      </td><td>52000                                       </td><td>MINISTERIO DEFESA                           </td></tr>\n",
       "\t<tr><td>1.308e+33                                   </td><td>2013                                        </td><td>201308                                      </td><td>22000                                       </td><td>MINIST. DA AGRICUL.,PECUARIA E ABASTECIMENTO</td></tr>\n",
       "\t<tr><td>1.308e+33                                   </td><td>2013                                        </td><td>201308                                      </td><td>15000                                       </td><td>JUSTICA DO TRABALHO                         </td></tr>\n",
       "\t<tr><td>1.308e+33                                   </td><td>2013                                        </td><td>201308                                      </td><td>26000                                       </td><td>MINISTERIO DA EDUCACAO                      </td></tr>\n",
       "\t<tr><td>1.308e+33                                   </td><td>2013                                        </td><td>201308                                      </td><td>52000                                       </td><td>MINISTERIO DEFESA                           </td></tr>\n",
       "\t<tr><td>1.308e+33                                   </td><td>2013                                        </td><td>201308                                      </td><td>52000                                       </td><td>MINISTERIO DEFESA                           </td></tr>\n",
       "\t<tr><td>1.308e+33                                   </td><td>2013                                        </td><td>201308                                      </td><td>52000                                       </td><td>MINISTERIO DEFESA                           </td></tr>\n",
       "\t<tr><td>1.308e+33                                   </td><td>2013                                        </td><td>201308                                      </td><td>26000                                       </td><td>MINISTERIO DA EDUCACAO                      </td></tr>\n",
       "\t<tr><td>1.308e+33                                   </td><td>2013                                        </td><td>201308                                      </td><td>52000                                       </td><td>MINISTERIO DEFESA                           </td></tr>\n",
       "\t<tr><td>1.308e+33                                   </td><td>2013                                        </td><td>201308                                      </td><td>26000                                       </td><td>MINISTERIO DA EDUCACAO                      </td></tr>\n",
       "</tbody>\n",
       "</table>\n"
      ],
      "text/latex": [
       "\\begin{tabular}{r|lllll}\n",
       " id & ano\\_resultado\\_compra\\_s & anomes\\_resultado\\_compra\\_s & co\\_orgao\\_siafi\\_s & no\\_orgao\\_siafi\\_s\\\\\n",
       "\\hline\n",
       "\t 1.308e+33                                    & 2013                                         & 201308                                       & 52000                                        & MINISTERIO DEFESA                           \\\\\n",
       "\t 1.308e+33                                    & 2013                                         & 201308                                       & 22000                                        & MINIST. DA AGRICUL.,PECUARIA E ABASTECIMENTO\\\\\n",
       "\t 1.308e+33                                    & 2013                                         & 201308                                       & 15000                                        & JUSTICA DO TRABALHO                         \\\\\n",
       "\t 1.308e+33                                    & 2013                                         & 201308                                       & 26000                                        & MINISTERIO DA EDUCACAO                      \\\\\n",
       "\t 1.308e+33                                    & 2013                                         & 201308                                       & 52000                                        & MINISTERIO DEFESA                           \\\\\n",
       "\t 1.308e+33                                    & 2013                                         & 201308                                       & 52000                                        & MINISTERIO DEFESA                           \\\\\n",
       "\t 1.308e+33                                    & 2013                                         & 201308                                       & 52000                                        & MINISTERIO DEFESA                           \\\\\n",
       "\t 1.308e+33                                    & 2013                                         & 201308                                       & 26000                                        & MINISTERIO DA EDUCACAO                      \\\\\n",
       "\t 1.308e+33                                    & 2013                                         & 201308                                       & 52000                                        & MINISTERIO DEFESA                           \\\\\n",
       "\t 1.308e+33                                    & 2013                                         & 201308                                       & 26000                                        & MINISTERIO DA EDUCACAO                      \\\\\n",
       "\\end{tabular}\n"
      ],
      "text/markdown": [
       "\n",
       "id | ano_resultado_compra_s | anomes_resultado_compra_s | co_orgao_siafi_s | no_orgao_siafi_s | \n",
       "|---|---|---|---|---|---|---|---|---|---|\n",
       "| 1.308e+33                                    | 2013                                         | 201308                                       | 52000                                        | MINISTERIO DEFESA                            | \n",
       "| 1.308e+33                                    | 2013                                         | 201308                                       | 22000                                        | MINIST. DA AGRICUL.,PECUARIA E ABASTECIMENTO | \n",
       "| 1.308e+33                                    | 2013                                         | 201308                                       | 15000                                        | JUSTICA DO TRABALHO                          | \n",
       "| 1.308e+33                                    | 2013                                         | 201308                                       | 26000                                        | MINISTERIO DA EDUCACAO                       | \n",
       "| 1.308e+33                                    | 2013                                         | 201308                                       | 52000                                        | MINISTERIO DEFESA                            | \n",
       "| 1.308e+33                                    | 2013                                         | 201308                                       | 52000                                        | MINISTERIO DEFESA                            | \n",
       "| 1.308e+33                                    | 2013                                         | 201308                                       | 52000                                        | MINISTERIO DEFESA                            | \n",
       "| 1.308e+33                                    | 2013                                         | 201308                                       | 26000                                        | MINISTERIO DA EDUCACAO                       | \n",
       "| 1.308e+33                                    | 2013                                         | 201308                                       | 52000                                        | MINISTERIO DEFESA                            | \n",
       "| 1.308e+33                                    | 2013                                         | 201308                                       | 26000                                        | MINISTERIO DA EDUCACAO                       | \n",
       "\n",
       "\n"
      ],
      "text/plain": [
       "   id        ano_resultado_compra_s anomes_resultado_compra_s co_orgao_siafi_s\n",
       "1  1.308e+33 2013                   201308                    52000           \n",
       "2  1.308e+33 2013                   201308                    22000           \n",
       "3  1.308e+33 2013                   201308                    15000           \n",
       "4  1.308e+33 2013                   201308                    26000           \n",
       "5  1.308e+33 2013                   201308                    52000           \n",
       "6  1.308e+33 2013                   201308                    52000           \n",
       "7  1.308e+33 2013                   201308                    52000           \n",
       "8  1.308e+33 2013                   201308                    26000           \n",
       "9  1.308e+33 2013                   201308                    52000           \n",
       "10 1.308e+33 2013                   201308                    26000           \n",
       "   no_orgao_siafi_s                            \n",
       "1  MINISTERIO DEFESA                           \n",
       "2  MINIST. DA AGRICUL.,PECUARIA E ABASTECIMENTO\n",
       "3  JUSTICA DO TRABALHO                         \n",
       "4  MINISTERIO DA EDUCACAO                      \n",
       "5  MINISTERIO DEFESA                           \n",
       "6  MINISTERIO DEFESA                           \n",
       "7  MINISTERIO DEFESA                           \n",
       "8  MINISTERIO DA EDUCACAO                      \n",
       "9  MINISTERIO DEFESA                           \n",
       "10 MINISTERIO DA EDUCACAO                      "
      ]
     },
     "metadata": {},
     "output_type": "display_data"
    }
   ],
   "source": [
    "DAT[1:10, 1:5]"
   ]
  },
  {
   "cell_type": "code",
   "execution_count": 19,
   "metadata": {},
   "outputs": [
    {
     "data": {
      "text/html": [
       "<table>\n",
       "<thead><tr><th></th><th scope=col>ano_resultado_compra_s</th><th scope=col>anomes_resultado_compra_s</th><th scope=col>co_orgao_siafi_s</th></tr></thead>\n",
       "<tbody>\n",
       "\t<tr><th scope=row>2</th><td>2013  </td><td>201308</td><td>22000 </td></tr>\n",
       "\t<tr><th scope=row>3</th><td>2013  </td><td>201308</td><td>15000 </td></tr>\n",
       "\t<tr><th scope=row>4</th><td>2013  </td><td>201308</td><td>26000 </td></tr>\n",
       "\t<tr><th scope=row>5</th><td>2013  </td><td>201308</td><td>52000 </td></tr>\n",
       "\t<tr><th scope=row>6</th><td>2013  </td><td>201308</td><td>52000 </td></tr>\n",
       "\t<tr><th scope=row>7</th><td>2013  </td><td>201308</td><td>52000 </td></tr>\n",
       "</tbody>\n",
       "</table>\n"
      ],
      "text/latex": [
       "\\begin{tabular}{r|lll}\n",
       "  & ano\\_resultado\\_compra\\_s & anomes\\_resultado\\_compra\\_s & co\\_orgao\\_siafi\\_s\\\\\n",
       "\\hline\n",
       "\t2 & 2013   & 201308 & 22000 \\\\\n",
       "\t3 & 2013   & 201308 & 15000 \\\\\n",
       "\t4 & 2013   & 201308 & 26000 \\\\\n",
       "\t5 & 2013   & 201308 & 52000 \\\\\n",
       "\t6 & 2013   & 201308 & 52000 \\\\\n",
       "\t7 & 2013   & 201308 & 52000 \\\\\n",
       "\\end{tabular}\n"
      ],
      "text/markdown": [
       "\n",
       "| <!--/--> | ano_resultado_compra_s | anomes_resultado_compra_s | co_orgao_siafi_s | \n",
       "|---|---|---|---|---|---|\n",
       "| 2 | 2013   | 201308 | 22000  | \n",
       "| 3 | 2013   | 201308 | 15000  | \n",
       "| 4 | 2013   | 201308 | 26000  | \n",
       "| 5 | 2013   | 201308 | 52000  | \n",
       "| 6 | 2013   | 201308 | 52000  | \n",
       "| 7 | 2013   | 201308 | 52000  | \n",
       "\n",
       "\n"
      ],
      "text/plain": [
       "  ano_resultado_compra_s anomes_resultado_compra_s co_orgao_siafi_s\n",
       "2 2013                   201308                    22000           \n",
       "3 2013                   201308                    15000           \n",
       "4 2013                   201308                    26000           \n",
       "5 2013                   201308                    52000           \n",
       "6 2013                   201308                    52000           \n",
       "7 2013                   201308                    52000           "
      ]
     },
     "metadata": {},
     "output_type": "display_data"
    }
   ],
   "source": [
    "DAT[2:7, 2:4]"
   ]
  },
  {
   "cell_type": "markdown",
   "metadata": {},
   "source": [
    "<h3>Retorna objetos sem os elementos duplicados</h3>\n",
    "\n",
    "https://www.rdocumentation.org/packages/base/versions/3.5.3/topics/unique"
   ]
  },
  {
   "cell_type": "code",
   "execution_count": 13,
   "metadata": {},
   "outputs": [
    {
     "data": {
      "text/html": [
       "<ol class=list-inline>\n",
       "\t<li>MINISTERIO DEFESA</li>\n",
       "\t<li>MINIST. DA AGRICUL.,PECUARIA E ABASTECIMENTO</li>\n",
       "\t<li>JUSTICA DO TRABALHO</li>\n",
       "\t<li>MINISTERIO DA EDUCACAO</li>\n",
       "</ol>\n",
       "\n",
       "<details>\n",
       "\t<summary style=display:list-item;cursor:pointer>\n",
       "\t\t<strong>Levels</strong>:\n",
       "\t</summary>\n",
       "\t<ol class=list-inline>\n",
       "\t\t<li>'JUSTICA DO TRABALHO'</li>\n",
       "\t\t<li>'MINIST. DA AGRICUL.,PECUARIA E ABASTECIMENTO'</li>\n",
       "\t\t<li>'MINISTERIO DA EDUCACAO'</li>\n",
       "\t\t<li>'MINISTERIO DEFESA'</li>\n",
       "\t</ol>\n",
       "</details>"
      ],
      "text/latex": [
       "\\begin{enumerate*}\n",
       "\\item MINISTERIO DEFESA\n",
       "\\item MINIST. DA AGRICUL.,PECUARIA E ABASTECIMENTO\n",
       "\\item JUSTICA DO TRABALHO\n",
       "\\item MINISTERIO DA EDUCACAO\n",
       "\\end{enumerate*}\n",
       "\n",
       "\\emph{Levels}: \\begin{enumerate*}\n",
       "\\item 'JUSTICA DO TRABALHO'\n",
       "\\item 'MINIST. DA AGRICUL.,PECUARIA E ABASTECIMENTO'\n",
       "\\item 'MINISTERIO DA EDUCACAO'\n",
       "\\item 'MINISTERIO DEFESA'\n",
       "\\end{enumerate*}\n"
      ],
      "text/markdown": [
       "1. MINISTERIO DEFESA\n",
       "2. MINIST. DA AGRICUL.,PECUARIA E ABASTECIMENTO\n",
       "3. JUSTICA DO TRABALHO\n",
       "4. MINISTERIO DA EDUCACAO\n",
       "\n",
       "\n",
       "\n",
       "**Levels**: 1. 'JUSTICA DO TRABALHO'\n",
       "2. 'MINIST. DA AGRICUL.,PECUARIA E ABASTECIMENTO'\n",
       "3. 'MINISTERIO DA EDUCACAO'\n",
       "4. 'MINISTERIO DEFESA'\n",
       "\n",
       "\n"
      ],
      "text/plain": [
       "[1] MINISTERIO DEFESA                           \n",
       "[2] MINIST. DA AGRICUL.,PECUARIA E ABASTECIMENTO\n",
       "[3] JUSTICA DO TRABALHO                         \n",
       "[4] MINISTERIO DA EDUCACAO                      \n",
       "4 Levels: JUSTICA DO TRABALHO ... MINISTERIO DEFESA"
      ]
     },
     "metadata": {},
     "output_type": "display_data"
    }
   ],
   "source": [
    "unique(DAT$no_orgao_siafi_s)\n"
   ]
  },
  {
   "cell_type": "markdown",
   "metadata": {},
   "source": [
    "<h3>Pega o limite inferior e o superior do valor do objeto selecionado</h3>\n",
    "\n",
    "https://www.rdocumentation.org/packages/base/versions/3.5.3/topics/range"
   ]
  },
  {
   "cell_type": "code",
   "execution_count": 14,
   "metadata": {},
   "outputs": [
    {
     "data": {
      "text/html": [
       "<ol class=list-inline>\n",
       "\t<li>15000</li>\n",
       "\t<li>52000</li>\n",
       "</ol>\n"
      ],
      "text/latex": [
       "\\begin{enumerate*}\n",
       "\\item 15000\n",
       "\\item 52000\n",
       "\\end{enumerate*}\n"
      ],
      "text/markdown": [
       "1. 15000\n",
       "2. 52000\n",
       "\n",
       "\n"
      ],
      "text/plain": [
       "[1] 15000 52000"
      ]
     },
     "metadata": {},
     "output_type": "display_data"
    }
   ],
   "source": [
    "range(DAT$co_orgao_siafi_s)\n"
   ]
  },
  {
   "cell_type": "markdown",
   "metadata": {},
   "source": [
    "<h3>Exibindo todos os valores e em seguida ecolhendo um limite de exibição</h3>"
   ]
  },
  {
   "cell_type": "code",
   "execution_count": 16,
   "metadata": {},
   "outputs": [
    {
     "data": {
      "text/html": [
       "<ol class=list-inline>\n",
       "\t<li>3313</li>\n",
       "\t<li>180</li>\n",
       "\t<li>6091.28</li>\n",
       "\t<li>90</li>\n",
       "\t<li>561.6</li>\n",
       "\t<li>225</li>\n",
       "\t<li>1350</li>\n",
       "\t<li>670</li>\n",
       "\t<li>3600</li>\n",
       "\t<li>960</li>\n",
       "</ol>\n"
      ],
      "text/latex": [
       "\\begin{enumerate*}\n",
       "\\item 3313\n",
       "\\item 180\n",
       "\\item 6091.28\n",
       "\\item 90\n",
       "\\item 561.6\n",
       "\\item 225\n",
       "\\item 1350\n",
       "\\item 670\n",
       "\\item 3600\n",
       "\\item 960\n",
       "\\end{enumerate*}\n"
      ],
      "text/markdown": [
       "1. 3313\n",
       "2. 180\n",
       "3. 6091.28\n",
       "4. 90\n",
       "5. 561.6\n",
       "6. 225\n",
       "7. 1350\n",
       "8. 670\n",
       "9. 3600\n",
       "10. 960\n",
       "\n",
       "\n"
      ],
      "text/plain": [
       " [1] 3313.00  180.00 6091.28   90.00  561.60  225.00 1350.00  670.00 3600.00\n",
       "[10]  960.00"
      ]
     },
     "metadata": {},
     "output_type": "display_data"
    },
    {
     "name": "stdout",
     "output_type": "stream",
     "text": [
      "[1] \"====================================\"\n"
     ]
    },
    {
     "data": {
      "text/html": [
       "<ol class=list-inline>\n",
       "\t<li>180</li>\n",
       "\t<li>6091.28</li>\n",
       "</ol>\n"
      ],
      "text/latex": [
       "\\begin{enumerate*}\n",
       "\\item 180\n",
       "\\item 6091.28\n",
       "\\end{enumerate*}\n"
      ],
      "text/markdown": [
       "1. 180\n",
       "2. 6091.28\n",
       "\n",
       "\n"
      ],
      "text/plain": [
       "[1]  180.00 6091.28"
      ]
     },
     "metadata": {},
     "output_type": "display_data"
    }
   ],
   "source": [
    "DAT$valor_preco_global_estim_td\n",
    "print(\"====================================\")\n",
    "DAT$valor_preco_global_estim_td[2:3]"
   ]
  },
  {
   "cell_type": "code",
   "execution_count": 16,
   "metadata": {},
   "outputs": [
    {
     "data": {
      "image/png": "[encoded data removed]",
      "text/plain": [
       "Plot with title “Valores”"
      ]
     },
     "metadata": {},
     "output_type": "display_data",
     "source": "R display func"
    }
   ],
   "source": [
    "\n",
    "# Graph cars using a y axis that ranges from 0 to 12\n",
    "plot(DAT$valor_preco_global_estim_td, type=\"o\", col=\"blue\", ylim=c(0,50000))\n",
    "\n",
    "# Graph trucks with red dashed line and square points\n",
    "lines(DAT$valor_total_homologado_td, type=\"o\", pch=22, lty=2, col=\"red\")\n",
    "\n",
    "# Create a title with a red, bold/italic font\n",
    "title(main=\"Valores\", col.main=\"red\", font.main=4)\n",
    "\n",
    "    "
   ]
  },
  {
   "cell_type": "code",
   "execution_count": 17,
   "metadata": {},
   "outputs": [
    {
     "data": {
      "image/png": "[encoded data removed]",
      "text/plain": [
       "plot without title"
      ]
     },
     "metadata": {},
     "output_type": "display_data",
     "source": "R display func"
    }
   ],
   "source": [
    "\n",
    "plot(x = DAT$vr_economia_pregao_td, y = DAT$vr_ipca_mensal_td,\n",
    "     xlab = \"Valor\", ylab = \"Valor IPCA\", col = \"#2E9FDF\")"
   ]
  },
  {
   "cell_type": "code",
   "execution_count": 18,
   "metadata": {},
   "outputs": [
    {
     "data": {
      "image/png": "[encoded data removed]",
      "text/plain": [
       "Plot with title “Histogram of DAT$vr_economia_pregao_td”"
      ]
     },
     "metadata": {},
     "output_type": "display_data",
     "source": "R display func"
    }
   ],
   "source": [
    "hist(DAT$vr_economia_pregao_td, col=\"darkblue\", border=\"black\")"
   ]
  },
  {
   "cell_type": "code",
   "execution_count": null,
   "metadata": {},
   "outputs": [],
   "source": []
  }
 ],
 "metadata": {
  "kernelspec": {
   "display_name": "R",
   "language": "R",
   "name": "ir"
  },
  "language_info": {
   "codemirror_mode": "r",
   "file_extension": ".r",
   "mimetype": "text/x-r-source",
   "name": "R",
   "pygments_lexer": "r",
   "version": "3.5.1"
  }
 },
 "nbformat": 4,
 "nbformat_minor": 2
}
