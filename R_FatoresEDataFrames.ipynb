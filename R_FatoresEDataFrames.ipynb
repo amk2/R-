{
 "cells": [
  {
   "cell_type": "code",
   "execution_count": 1,
   "metadata": {},
   "outputs": [],
   "source": [
    " data <- c(1,2,2,3,1,2,3,3,1,2,3,3,1) # é um vetor e nao um array!! \n"
   ]
  },
  {
   "cell_type": "code",
   "execution_count": 2,
   "metadata": {},
   "outputs": [
    {
     "data": {
      "text/html": [
       "<ol class=list-inline>\n",
       "\t<li>1</li>\n",
       "\t<li>2</li>\n",
       "\t<li>2</li>\n",
       "\t<li>3</li>\n",
       "\t<li>1</li>\n",
       "\t<li>2</li>\n",
       "\t<li>3</li>\n",
       "\t<li>3</li>\n",
       "\t<li>1</li>\n",
       "\t<li>2</li>\n",
       "\t<li>3</li>\n",
       "\t<li>3</li>\n",
       "\t<li>1</li>\n",
       "</ol>\n"
      ],
      "text/latex": [
       "\\begin{enumerate*}\n",
       "\\item 1\n",
       "\\item 2\n",
       "\\item 2\n",
       "\\item 3\n",
       "\\item 1\n",
       "\\item 2\n",
       "\\item 3\n",
       "\\item 3\n",
       "\\item 1\n",
       "\\item 2\n",
       "\\item 3\n",
       "\\item 3\n",
       "\\item 1\n",
       "\\end{enumerate*}\n"
      ],
      "text/markdown": [
       "1. 1\n",
       "2. 2\n",
       "3. 2\n",
       "4. 3\n",
       "5. 1\n",
       "6. 2\n",
       "7. 3\n",
       "8. 3\n",
       "9. 1\n",
       "10. 2\n",
       "11. 3\n",
       "12. 3\n",
       "13. 1\n",
       "\n",
       "\n"
      ],
      "text/plain": [
       " [1] 1 2 2 3 1 2 3 3 1 2 3 3 1"
      ]
     },
     "metadata": {},
     "output_type": "display_data"
    }
   ],
   "source": [
    "data"
   ]
  },
  {
   "cell_type": "code",
   "execution_count": 3,
   "metadata": {},
   "outputs": [],
   "source": [
    " fdata <- factor(data)\n"
   ]
  },
  {
   "cell_type": "code",
   "execution_count": 4,
   "metadata": {},
   "outputs": [
    {
     "data": {
      "text/html": [
       "<ol class=list-inline>\n",
       "\t<li>1</li>\n",
       "\t<li>2</li>\n",
       "\t<li>2</li>\n",
       "\t<li>3</li>\n",
       "\t<li>1</li>\n",
       "\t<li>2</li>\n",
       "\t<li>3</li>\n",
       "\t<li>3</li>\n",
       "\t<li>1</li>\n",
       "\t<li>2</li>\n",
       "\t<li>3</li>\n",
       "\t<li>3</li>\n",
       "\t<li>1</li>\n",
       "</ol>\n",
       "\n",
       "<details>\n",
       "\t<summary style=display:list-item;cursor:pointer>\n",
       "\t\t<strong>Levels</strong>:\n",
       "\t</summary>\n",
       "\t<ol class=list-inline>\n",
       "\t\t<li>'1'</li>\n",
       "\t\t<li>'2'</li>\n",
       "\t\t<li>'3'</li>\n",
       "\t</ol>\n",
       "</details>"
      ],
      "text/latex": [
       "\\begin{enumerate*}\n",
       "\\item 1\n",
       "\\item 2\n",
       "\\item 2\n",
       "\\item 3\n",
       "\\item 1\n",
       "\\item 2\n",
       "\\item 3\n",
       "\\item 3\n",
       "\\item 1\n",
       "\\item 2\n",
       "\\item 3\n",
       "\\item 3\n",
       "\\item 1\n",
       "\\end{enumerate*}\n",
       "\n",
       "\\emph{Levels}: \\begin{enumerate*}\n",
       "\\item '1'\n",
       "\\item '2'\n",
       "\\item '3'\n",
       "\\end{enumerate*}\n"
      ],
      "text/markdown": [
       "1. 1\n",
       "2. 2\n",
       "3. 2\n",
       "4. 3\n",
       "5. 1\n",
       "6. 2\n",
       "7. 3\n",
       "8. 3\n",
       "9. 1\n",
       "10. 2\n",
       "11. 3\n",
       "12. 3\n",
       "13. 1\n",
       "\n",
       "\n",
       "\n",
       "**Levels**: 1. '1'\n",
       "2. '2'\n",
       "3. '3'\n",
       "\n",
       "\n"
      ],
      "text/plain": [
       " [1] 1 2 2 3 1 2 3 3 1 2 3 3 1\n",
       "Levels: 1 2 3"
      ]
     },
     "metadata": {},
     "output_type": "display_data"
    }
   ],
   "source": [
    "fdata"
   ]
  },
  {
   "cell_type": "code",
   "execution_count": 5,
   "metadata": {},
   "outputs": [
    {
     "data": {
      "text/html": [
       "<dl>\n",
       "\t<dt>$levels</dt>\n",
       "\t\t<dd><ol class=list-inline>\n",
       "\t<li>'1'</li>\n",
       "\t<li>'2'</li>\n",
       "\t<li>'3'</li>\n",
       "</ol>\n",
       "</dd>\n",
       "\t<dt>$class</dt>\n",
       "\t\t<dd>'factor'</dd>\n",
       "</dl>\n"
      ],
      "text/latex": [
       "\\begin{description}\n",
       "\\item[\\$levels] \\begin{enumerate*}\n",
       "\\item '1'\n",
       "\\item '2'\n",
       "\\item '3'\n",
       "\\end{enumerate*}\n",
       "\n",
       "\\item[\\$class] 'factor'\n",
       "\\end{description}\n"
      ],
      "text/markdown": [
       "$levels\n",
       ":   1. '1'\n",
       "2. '2'\n",
       "3. '3'\n",
       "\n",
       "\n",
       "\n",
       "$class\n",
       ":   'factor'\n",
       "\n",
       "\n"
      ],
      "text/plain": [
       "$levels\n",
       "[1] \"1\" \"2\" \"3\"\n",
       "\n",
       "$class\n",
       "[1] \"factor\"\n"
      ]
     },
     "metadata": {},
     "output_type": "display_data"
    }
   ],
   "source": [
    "attributes (fdata)"
   ]
  },
  {
   "cell_type": "code",
   "execution_count": 6,
   "metadata": {},
   "outputs": [],
   "source": [
    " rdata = factor(data,labels=c(\"I\",\"II\",\"III\"))\n"
   ]
  },
  {
   "cell_type": "code",
   "execution_count": 7,
   "metadata": {},
   "outputs": [
    {
     "data": {
      "text/html": [
       "<ol class=list-inline>\n",
       "\t<li>I</li>\n",
       "\t<li>II</li>\n",
       "\t<li>II</li>\n",
       "\t<li>III</li>\n",
       "\t<li>I</li>\n",
       "\t<li>II</li>\n",
       "\t<li>III</li>\n",
       "\t<li>III</li>\n",
       "\t<li>I</li>\n",
       "\t<li>II</li>\n",
       "\t<li>III</li>\n",
       "\t<li>III</li>\n",
       "\t<li>I</li>\n",
       "</ol>\n",
       "\n",
       "<details>\n",
       "\t<summary style=display:list-item;cursor:pointer>\n",
       "\t\t<strong>Levels</strong>:\n",
       "\t</summary>\n",
       "\t<ol class=list-inline>\n",
       "\t\t<li>'I'</li>\n",
       "\t\t<li>'II'</li>\n",
       "\t\t<li>'III'</li>\n",
       "\t</ol>\n",
       "</details>"
      ],
      "text/latex": [
       "\\begin{enumerate*}\n",
       "\\item I\n",
       "\\item II\n",
       "\\item II\n",
       "\\item III\n",
       "\\item I\n",
       "\\item II\n",
       "\\item III\n",
       "\\item III\n",
       "\\item I\n",
       "\\item II\n",
       "\\item III\n",
       "\\item III\n",
       "\\item I\n",
       "\\end{enumerate*}\n",
       "\n",
       "\\emph{Levels}: \\begin{enumerate*}\n",
       "\\item 'I'\n",
       "\\item 'II'\n",
       "\\item 'III'\n",
       "\\end{enumerate*}\n"
      ],
      "text/markdown": [
       "1. I\n",
       "2. II\n",
       "3. II\n",
       "4. III\n",
       "5. I\n",
       "6. II\n",
       "7. III\n",
       "8. III\n",
       "9. I\n",
       "10. II\n",
       "11. III\n",
       "12. III\n",
       "13. I\n",
       "\n",
       "\n",
       "\n",
       "**Levels**: 1. 'I'\n",
       "2. 'II'\n",
       "3. 'III'\n",
       "\n",
       "\n"
      ],
      "text/plain": [
       " [1] I   II  II  III I   II  III III I   II  III III I  \n",
       "Levels: I II III"
      ]
     },
     "metadata": {},
     "output_type": "display_data"
    }
   ],
   "source": [
    "rdata"
   ]
  },
  {
   "cell_type": "code",
   "execution_count": 8,
   "metadata": {},
   "outputs": [
    {
     "data": {
      "text/html": [
       "<dl>\n",
       "\t<dt>$levels</dt>\n",
       "\t\t<dd><ol class=list-inline>\n",
       "\t<li>'I'</li>\n",
       "\t<li>'II'</li>\n",
       "\t<li>'III'</li>\n",
       "</ol>\n",
       "</dd>\n",
       "\t<dt>$class</dt>\n",
       "\t\t<dd>'factor'</dd>\n",
       "</dl>\n"
      ],
      "text/latex": [
       "\\begin{description}\n",
       "\\item[\\$levels] \\begin{enumerate*}\n",
       "\\item 'I'\n",
       "\\item 'II'\n",
       "\\item 'III'\n",
       "\\end{enumerate*}\n",
       "\n",
       "\\item[\\$class] 'factor'\n",
       "\\end{description}\n"
      ],
      "text/markdown": [
       "$levels\n",
       ":   1. 'I'\n",
       "2. 'II'\n",
       "3. 'III'\n",
       "\n",
       "\n",
       "\n",
       "$class\n",
       ":   'factor'\n",
       "\n",
       "\n"
      ],
      "text/plain": [
       "$levels\n",
       "[1] \"I\"   \"II\"  \"III\"\n",
       "\n",
       "$class\n",
       "[1] \"factor\"\n"
      ]
     },
     "metadata": {},
     "output_type": "display_data"
    }
   ],
   "source": [
    "attributes(rdata) # o levels são os mesmos?"
   ]
  },
  {
   "cell_type": "code",
   "execution_count": 1,
   "metadata": {},
   "outputs": [],
   "source": [
    "#\n",
    " # Ordenando fatores para permitir comparacoes \n",
    " #\n",
    " mons = c(\"March\",\"April\",\"January\",\"November\",\"January\",\n",
    "             \"September\",\"October\",\"September\",\"November\",\"August\",\n",
    "             \"January\",\"November\",\"November\",\"February\",\"May\",\"August\",\n",
    "             \"July\",\"December\",\"August\",\"August\",\"September\",\"November\",\n",
    "             \"February\",\"April\")"
   ]
  },
  {
   "cell_type": "code",
   "execution_count": 2,
   "metadata": {},
   "outputs": [],
   "source": [
    "mons = factor(mons)"
   ]
  },
  {
   "cell_type": "code",
   "execution_count": 3,
   "metadata": {},
   "outputs": [
    {
     "data": {
      "text/plain": [
       "mons\n",
       "    April    August  December  February   January      July     March       May \n",
       "        2         4         1         2         3         1         1         1 \n",
       " November   October September \n",
       "        5         1         3 "
      ]
     },
     "metadata": {},
     "output_type": "display_data"
    }
   ],
   "source": [
    "table(mons) # pequena estatistica dos dados"
   ]
  },
  {
   "cell_type": "code",
   "execution_count": 4,
   "metadata": {},
   "outputs": [
    {
     "data": {
      "text/html": [
       "<ol class=list-inline>\n",
       "\t<li>March</li>\n",
       "\t<li>April</li>\n",
       "\t<li>January</li>\n",
       "\t<li>November</li>\n",
       "\t<li>January</li>\n",
       "\t<li>September</li>\n",
       "\t<li>October</li>\n",
       "\t<li>September</li>\n",
       "\t<li>November</li>\n",
       "\t<li>August</li>\n",
       "\t<li>January</li>\n",
       "\t<li>November</li>\n",
       "\t<li>November</li>\n",
       "\t<li>February</li>\n",
       "\t<li>May</li>\n",
       "\t<li>August</li>\n",
       "\t<li>July</li>\n",
       "\t<li>December</li>\n",
       "\t<li>August</li>\n",
       "\t<li>August</li>\n",
       "\t<li>September</li>\n",
       "\t<li>November</li>\n",
       "\t<li>February</li>\n",
       "\t<li>April</li>\n",
       "</ol>\n",
       "\n",
       "<details>\n",
       "\t<summary style=display:list-item;cursor:pointer>\n",
       "\t\t<strong>Levels</strong>:\n",
       "\t</summary>\n",
       "\t<ol class=list-inline>\n",
       "\t\t<li>'April'</li>\n",
       "\t\t<li>'August'</li>\n",
       "\t\t<li>'December'</li>\n",
       "\t\t<li>'February'</li>\n",
       "\t\t<li>'January'</li>\n",
       "\t\t<li>'July'</li>\n",
       "\t\t<li>'March'</li>\n",
       "\t\t<li>'May'</li>\n",
       "\t\t<li>'November'</li>\n",
       "\t\t<li>'October'</li>\n",
       "\t\t<li>'September'</li>\n",
       "\t</ol>\n",
       "</details>"
      ],
      "text/latex": [
       "\\begin{enumerate*}\n",
       "\\item March\n",
       "\\item April\n",
       "\\item January\n",
       "\\item November\n",
       "\\item January\n",
       "\\item September\n",
       "\\item October\n",
       "\\item September\n",
       "\\item November\n",
       "\\item August\n",
       "\\item January\n",
       "\\item November\n",
       "\\item November\n",
       "\\item February\n",
       "\\item May\n",
       "\\item August\n",
       "\\item July\n",
       "\\item December\n",
       "\\item August\n",
       "\\item August\n",
       "\\item September\n",
       "\\item November\n",
       "\\item February\n",
       "\\item April\n",
       "\\end{enumerate*}\n",
       "\n",
       "\\emph{Levels}: \\begin{enumerate*}\n",
       "\\item 'April'\n",
       "\\item 'August'\n",
       "\\item 'December'\n",
       "\\item 'February'\n",
       "\\item 'January'\n",
       "\\item 'July'\n",
       "\\item 'March'\n",
       "\\item 'May'\n",
       "\\item 'November'\n",
       "\\item 'October'\n",
       "\\item 'September'\n",
       "\\end{enumerate*}\n"
      ],
      "text/markdown": [
       "1. March\n",
       "2. April\n",
       "3. January\n",
       "4. November\n",
       "5. January\n",
       "6. September\n",
       "7. October\n",
       "8. September\n",
       "9. November\n",
       "10. August\n",
       "11. January\n",
       "12. November\n",
       "13. November\n",
       "14. February\n",
       "15. May\n",
       "16. August\n",
       "17. July\n",
       "18. December\n",
       "19. August\n",
       "20. August\n",
       "21. September\n",
       "22. November\n",
       "23. February\n",
       "24. April\n",
       "\n",
       "\n",
       "\n",
       "**Levels**: 1. 'April'\n",
       "2. 'August'\n",
       "3. 'December'\n",
       "4. 'February'\n",
       "5. 'January'\n",
       "6. 'July'\n",
       "7. 'March'\n",
       "8. 'May'\n",
       "9. 'November'\n",
       "10. 'October'\n",
       "11. 'September'\n",
       "\n",
       "\n"
      ],
      "text/plain": [
       " [1] March     April     January   November  January   September October  \n",
       " [8] September November  August    January   November  November  February \n",
       "[15] May       August    July      December  August    August    September\n",
       "[22] November  February  April    \n",
       "11 Levels: April August December February January July March May ... September"
      ]
     },
     "metadata": {},
     "output_type": "display_data"
    }
   ],
   "source": [
    "mons"
   ]
  },
  {
   "cell_type": "code",
   "execution_count": 5,
   "metadata": {},
   "outputs": [],
   "source": [
    "#\n",
    " # Considerando a ordem dos dados para fins de comparaca\n",
    " # \n",
    "mons = factor(mons,levels=c(\"January\",\"February\",\"March\", \"April\",\"May\",\"June\",\"July\",\n",
    "                            \"August\", \"September\",\"October\",\"November\",\"December\"),ordered=TRUE)\n"
   ]
  },
  {
   "cell_type": "code",
   "execution_count": 1,
   "metadata": {},
   "outputs": [
    {
     "data": {
      "text/html": [
       "TRUE"
      ],
      "text/latex": [
       "TRUE"
      ],
      "text/markdown": [
       "TRUE"
      ],
      "text/plain": [
       "[1] TRUE"
      ]
     },
     "metadata": {},
     "output_type": "display_data"
    }
   ],
   "source": [
    "mons[1] < mons[2]"
   ]
  },
  {
   "cell_type": "code",
   "execution_count": 2,
   "metadata": {},
   "outputs": [
    {
     "data": {
      "text/html": [
       "<ol class=list-inline>\n",
       "\t<li>March</li>\n",
       "\t<li>April</li>\n",
       "\t<li>January</li>\n",
       "\t<li>November</li>\n",
       "\t<li>January</li>\n",
       "\t<li>September</li>\n",
       "\t<li>October</li>\n",
       "\t<li>September</li>\n",
       "\t<li>November</li>\n",
       "\t<li>August</li>\n",
       "\t<li>January</li>\n",
       "\t<li>November</li>\n",
       "\t<li>November</li>\n",
       "\t<li>February</li>\n",
       "\t<li>May</li>\n",
       "\t<li>August</li>\n",
       "\t<li>July</li>\n",
       "\t<li>December</li>\n",
       "\t<li>August</li>\n",
       "\t<li>August</li>\n",
       "\t<li>September</li>\n",
       "\t<li>November</li>\n",
       "\t<li>February</li>\n",
       "\t<li>April</li>\n",
       "</ol>\n",
       "\n",
       "<details>\n",
       "\t<summary style=display:list-item;cursor:pointer>\n",
       "\t\t<strong>Levels</strong>:\n",
       "\t</summary>\n",
       "\t<ol class=list-inline>\n",
       "\t\t<li>'January'</li>\n",
       "\t\t<li>'February'</li>\n",
       "\t\t<li>'March'</li>\n",
       "\t\t<li>'April'</li>\n",
       "\t\t<li>'May'</li>\n",
       "\t\t<li>'June'</li>\n",
       "\t\t<li>'July'</li>\n",
       "\t\t<li>'August'</li>\n",
       "\t\t<li>'September'</li>\n",
       "\t\t<li>'October'</li>\n",
       "\t\t<li>'November'</li>\n",
       "\t\t<li>'December'</li>\n",
       "\t</ol>\n",
       "</details>"
      ],
      "text/latex": [
       "\\begin{enumerate*}\n",
       "\\item March\n",
       "\\item April\n",
       "\\item January\n",
       "\\item November\n",
       "\\item January\n",
       "\\item September\n",
       "\\item October\n",
       "\\item September\n",
       "\\item November\n",
       "\\item August\n",
       "\\item January\n",
       "\\item November\n",
       "\\item November\n",
       "\\item February\n",
       "\\item May\n",
       "\\item August\n",
       "\\item July\n",
       "\\item December\n",
       "\\item August\n",
       "\\item August\n",
       "\\item September\n",
       "\\item November\n",
       "\\item February\n",
       "\\item April\n",
       "\\end{enumerate*}\n",
       "\n",
       "\\emph{Levels}: \\begin{enumerate*}\n",
       "\\item 'January'\n",
       "\\item 'February'\n",
       "\\item 'March'\n",
       "\\item 'April'\n",
       "\\item 'May'\n",
       "\\item 'June'\n",
       "\\item 'July'\n",
       "\\item 'August'\n",
       "\\item 'September'\n",
       "\\item 'October'\n",
       "\\item 'November'\n",
       "\\item 'December'\n",
       "\\end{enumerate*}\n"
      ],
      "text/markdown": [
       "1. March\n",
       "2. April\n",
       "3. January\n",
       "4. November\n",
       "5. January\n",
       "6. September\n",
       "7. October\n",
       "8. September\n",
       "9. November\n",
       "10. August\n",
       "11. January\n",
       "12. November\n",
       "13. November\n",
       "14. February\n",
       "15. May\n",
       "16. August\n",
       "17. July\n",
       "18. December\n",
       "19. August\n",
       "20. August\n",
       "21. September\n",
       "22. November\n",
       "23. February\n",
       "24. April\n",
       "\n",
       "\n",
       "\n",
       "**Levels**: 1. 'January'\n",
       "2. 'February'\n",
       "3. 'March'\n",
       "4. 'April'\n",
       "5. 'May'\n",
       "6. 'June'\n",
       "7. 'July'\n",
       "8. 'August'\n",
       "9. 'September'\n",
       "10. 'October'\n",
       "11. 'November'\n",
       "12. 'December'\n",
       "\n",
       "\n"
      ],
      "text/plain": [
       " [1] March     April     January   November  January   September October  \n",
       " [8] September November  August    January   November  November  February \n",
       "[15] May       August    July      December  August    August    September\n",
       "[22] November  February  April    \n",
       "12 Levels: January < February < March < April < May < June < ... < December"
      ]
     },
     "metadata": {},
     "output_type": "display_data"
    }
   ],
   "source": [
    "mons"
   ]
  },
  {
   "cell_type": "code",
   "execution_count": 7,
   "metadata": {},
   "outputs": [],
   "source": [
    "#\n",
    "# Considerando a ordem dos dados para fins de comparaca\n",
    "#\n",
    "fert = c(10,20,20,50,10,20,10,50,20)\n"
   ]
  },
  {
   "cell_type": "code",
   "execution_count": 8,
   "metadata": {},
   "outputs": [],
   "source": [
    "fert = factor(fert,levels=c(10,20,50),ordered=TRUE)  # definindo que a ordem importa"
   ]
  },
  {
   "cell_type": "code",
   "execution_count": 9,
   "metadata": {},
   "outputs": [
    {
     "data": {
      "text/html": [
       "<dl>\n",
       "\t<dt>$levels</dt>\n",
       "\t\t<dd><ol class=list-inline>\n",
       "\t<li>'10'</li>\n",
       "\t<li>'20'</li>\n",
       "\t<li>'50'</li>\n",
       "</ol>\n",
       "</dd>\n",
       "\t<dt>$class</dt>\n",
       "\t\t<dd><ol class=list-inline>\n",
       "\t<li>'ordered'</li>\n",
       "\t<li>'factor'</li>\n",
       "</ol>\n",
       "</dd>\n",
       "</dl>\n"
      ],
      "text/latex": [
       "\\begin{description}\n",
       "\\item[\\$levels] \\begin{enumerate*}\n",
       "\\item '10'\n",
       "\\item '20'\n",
       "\\item '50'\n",
       "\\end{enumerate*}\n",
       "\n",
       "\\item[\\$class] \\begin{enumerate*}\n",
       "\\item 'ordered'\n",
       "\\item 'factor'\n",
       "\\end{enumerate*}\n",
       "\n",
       "\\end{description}\n"
      ],
      "text/markdown": [
       "$levels\n",
       ":   1. '10'\n",
       "2. '20'\n",
       "3. '50'\n",
       "\n",
       "\n",
       "\n",
       "$class\n",
       ":   1. 'ordered'\n",
       "2. 'factor'\n",
       "\n",
       "\n",
       "\n",
       "\n",
       "\n"
      ],
      "text/plain": [
       "$levels\n",
       "[1] \"10\" \"20\" \"50\"\n",
       "\n",
       "$class\n",
       "[1] \"ordered\" \"factor\" \n"
      ]
     },
     "metadata": {},
     "output_type": "display_data"
    }
   ],
   "source": [
    "attributes(fert)"
   ]
  },
  {
   "cell_type": "code",
   "execution_count": 10,
   "metadata": {},
   "outputs": [
    {
     "data": {
      "text/html": [
       "<ol class=list-inline>\n",
       "\t<li>10</li>\n",
       "\t<li>20</li>\n",
       "\t<li>20</li>\n",
       "\t<li>50</li>\n",
       "\t<li>10</li>\n",
       "\t<li>20</li>\n",
       "\t<li>10</li>\n",
       "\t<li>50</li>\n",
       "\t<li>20</li>\n",
       "</ol>\n",
       "\n",
       "<details>\n",
       "\t<summary style=display:list-item;cursor:pointer>\n",
       "\t\t<strong>Levels</strong>:\n",
       "\t</summary>\n",
       "\t<ol class=list-inline>\n",
       "\t\t<li>'10'</li>\n",
       "\t\t<li>'20'</li>\n",
       "\t\t<li>'50'</li>\n",
       "\t</ol>\n",
       "</details>"
      ],
      "text/latex": [
       "\\begin{enumerate*}\n",
       "\\item 10\n",
       "\\item 20\n",
       "\\item 20\n",
       "\\item 50\n",
       "\\item 10\n",
       "\\item 20\n",
       "\\item 10\n",
       "\\item 50\n",
       "\\item 20\n",
       "\\end{enumerate*}\n",
       "\n",
       "\\emph{Levels}: \\begin{enumerate*}\n",
       "\\item '10'\n",
       "\\item '20'\n",
       "\\item '50'\n",
       "\\end{enumerate*}\n"
      ],
      "text/markdown": [
       "1. 10\n",
       "2. 20\n",
       "3. 20\n",
       "4. 50\n",
       "5. 10\n",
       "6. 20\n",
       "7. 10\n",
       "8. 50\n",
       "9. 20\n",
       "\n",
       "\n",
       "\n",
       "**Levels**: 1. '10'\n",
       "2. '20'\n",
       "3. '50'\n",
       "\n",
       "\n"
      ],
      "text/plain": [
       "[1] 10 20 20 50 10 20 10 50 20\n",
       "Levels: 10 < 20 < 50"
      ]
     },
     "metadata": {},
     "output_type": "display_data"
    }
   ],
   "source": [
    "fert"
   ]
  },
  {
   "cell_type": "code",
   "execution_count": 11,
   "metadata": {},
   "outputs": [
    {
     "data": {
      "text/plain": [
       "fert\n",
       "10 20 50 \n",
       " 3  4  2 "
      ]
     },
     "metadata": {},
     "output_type": "display_data"
    }
   ],
   "source": [
    "table(fert)"
   ]
  },
  {
   "cell_type": "code",
   "execution_count": 12,
   "metadata": {},
   "outputs": [
    {
     "name": "stderr",
     "output_type": "stream",
     "text": [
      "Warning message in mean.default(fert):\n",
      "“argument is not numeric or logical: returning NA”"
     ]
    },
    {
     "data": {
      "text/html": [
       "&lt;NA&gt;"
      ],
      "text/latex": [
       "<NA>"
      ],
      "text/markdown": [
       "&lt;NA&gt;"
      ],
      "text/plain": [
       "[1] NA"
      ]
     },
     "metadata": {},
     "output_type": "display_data"
    }
   ],
   "source": [
    "#\n",
    "#Mas se precisamos realizar algumas estatistica precisamos retornar \n",
    "#\n",
    "mean(fert)  # o que acontece?"
   ]
  },
  {
   "cell_type": "code",
   "execution_count": 13,
   "metadata": {},
   "outputs": [
    {
     "data": {
      "text/html": [
       "23.3333333333333"
      ],
      "text/latex": [
       "23.3333333333333"
      ],
      "text/markdown": [
       "23.3333333333333"
      ],
      "text/plain": [
       "[1] 23.33333"
      ]
     },
     "metadata": {},
     "output_type": "display_data"
    }
   ],
   "source": [
    "mean(as.numeric(levels(fert)[fert])) # metodo 1 para definir os niveis com numericos\n"
   ]
  },
  {
   "cell_type": "code",
   "execution_count": 14,
   "metadata": {},
   "outputs": [
    {
     "data": {
      "text/html": [
       "23.3333333333333"
      ],
      "text/latex": [
       "23.3333333333333"
      ],
      "text/markdown": [
       "23.3333333333333"
      ],
      "text/plain": [
       "[1] 23.33333"
      ]
     },
     "metadata": {},
     "output_type": "display_data"
    }
   ],
   "source": [
    "mean(as.numeric(as.character(fert))) # metodo 2 para definir os niveis com numericos. converte para caracter e depois numerico!"
   ]
  },
  {
   "cell_type": "code",
   "execution_count": 15,
   "metadata": {},
   "outputs": [
    {
     "data": {
      "text/html": [
       "'10'"
      ],
      "text/latex": [
       "'10'"
      ],
      "text/markdown": [
       "'10'"
      ],
      "text/plain": [
       "[1] \"10\""
      ]
     },
     "metadata": {},
     "output_type": "display_data"
    }
   ],
   "source": [
    "levels(fert)[1]  # acessando o niveis"
   ]
  },
  {
   "cell_type": "code",
   "execution_count": 16,
   "metadata": {},
   "outputs": [
    {
     "data": {
      "text/html": [
       "<table>\n",
       "<thead><tr><th scope=col>height</th><th scope=col>weight</th></tr></thead>\n",
       "<tbody>\n",
       "\t<tr><td>58 </td><td>115</td></tr>\n",
       "\t<tr><td>59 </td><td>117</td></tr>\n",
       "\t<tr><td>60 </td><td>120</td></tr>\n",
       "\t<tr><td>61 </td><td>123</td></tr>\n",
       "\t<tr><td>62 </td><td>126</td></tr>\n",
       "\t<tr><td>63 </td><td>129</td></tr>\n",
       "</tbody>\n",
       "</table>\n"
      ],
      "text/latex": [
       "\\begin{tabular}{r|ll}\n",
       " height & weight\\\\\n",
       "\\hline\n",
       "\t 58  & 115\\\\\n",
       "\t 59  & 117\\\\\n",
       "\t 60  & 120\\\\\n",
       "\t 61  & 123\\\\\n",
       "\t 62  & 126\\\\\n",
       "\t 63  & 129\\\\\n",
       "\\end{tabular}\n"
      ],
      "text/markdown": [
       "\n",
       "height | weight | \n",
       "|---|---|---|---|---|---|\n",
       "| 58  | 115 | \n",
       "| 59  | 117 | \n",
       "| 60  | 120 | \n",
       "| 61  | 123 | \n",
       "| 62  | 126 | \n",
       "| 63  | 129 | \n",
       "\n",
       "\n"
      ],
      "text/plain": [
       "  height weight\n",
       "1 58     115   \n",
       "2 59     117   \n",
       "3 60     120   \n",
       "4 61     123   \n",
       "5 62     126   \n",
       "6 63     129   "
      ]
     },
     "metadata": {},
     "output_type": "display_data"
    }
   ],
   "source": [
    "#\n",
    "# Manipulando fatores\n",
    "#\n",
    "head(women)   # dados disponiveis no R."
   ]
  },
  {
   "cell_type": "code",
   "execution_count": 17,
   "metadata": {},
   "outputs": [
    {
     "data": {
      "text/html": [
       "\n",
       "<table width=\"100%\" summary=\"page for women {datasets}\"><tr><td>women {datasets}</td><td style=\"text-align: right;\">R Documentation</td></tr></table>\n",
       "\n",
       "<h2>Average Heights and Weights for American Women</h2>\n",
       "\n",
       "<h3>Description</h3>\n",
       "\n",
       "<p>This data set gives the average heights and weights for American women\n",
       "aged 30&ndash;39.\n",
       "</p>\n",
       "\n",
       "\n",
       "<h3>Usage</h3>\n",
       "\n",
       "<pre>women</pre>\n",
       "\n",
       "\n",
       "<h3>Format</h3>\n",
       "\n",
       "<p>A data frame with 15 observations on 2 variables.\n",
       "</p>\n",
       "\n",
       "<table summary=\"Rd table\">\n",
       "<tr>\n",
       " <td style=\"text-align: right;\">\n",
       "    <code>[,1]</code>  </td><td style=\"text-align: left;\"> <code>height</code>  </td><td style=\"text-align: left;\"> numeric  </td><td style=\"text-align: left;\"> Height (in)</td>\n",
       "</tr>\n",
       "<tr>\n",
       " <td style=\"text-align: right;\">\n",
       "    <code>[,2]</code>  </td><td style=\"text-align: left;\"> <code>weight</code>  </td><td style=\"text-align: left;\"> numeric  </td><td style=\"text-align: left;\"> Weight (lbs)\n",
       "  </td>\n",
       "</tr>\n",
       "\n",
       "</table>\n",
       "\n",
       "\n",
       "\n",
       "<h3>Details</h3>\n",
       "\n",
       "<p>The data set appears to have been taken from the American Society of\n",
       "Actuaries <em>Build and Blood Pressure Study</em> for some (unknown to\n",
       "us) earlier year.\n",
       "</p>\n",
       "<p>The World Almanac notes: &ldquo;The figures represent weights in\n",
       "ordinary indoor clothing and shoes, and heights with shoes&rdquo;.\n",
       "</p>\n",
       "\n",
       "\n",
       "<h3>Source</h3>\n",
       "\n",
       "<p>The World Almanac and Book of Facts, 1975.</p>\n",
       "\n",
       "\n",
       "<h3>References</h3>\n",
       "\n",
       "<p>McNeil, D. R. (1977)\n",
       "<em>Interactive Data Analysis</em>.\n",
       "Wiley.\n",
       "</p>\n",
       "\n",
       "\n",
       "<h3>Examples</h3>\n",
       "\n",
       "<pre>\n",
       "require(graphics)\n",
       "plot(women, xlab = \"Height (in)\", ylab = \"Weight (lb)\",\n",
       "     main = \"women data: American women aged 30-39\")\n",
       "</pre>\n",
       "\n",
       "<hr /><div style=\"text-align: center;\">[Package <em>datasets</em> version 3.5.1 ]</div>"
      ],
      "text/latex": [
       "\\inputencoding{utf8}\n",
       "\\HeaderA{women}{Average Heights and Weights for American Women}{women}\n",
       "\\keyword{datasets}{women}\n",
       "%\n",
       "\\begin{Description}\\relax\n",
       "This data set gives the average heights and weights for American women\n",
       "aged 30--39.\n",
       "\\end{Description}\n",
       "%\n",
       "\\begin{Usage}\n",
       "\\begin{verbatim}\n",
       "women\n",
       "\\end{verbatim}\n",
       "\\end{Usage}\n",
       "%\n",
       "\\begin{Format}\n",
       "A data frame with 15 observations on 2 variables.\n",
       "\n",
       "\\Tabular{rlll}{\n",
       "\\code{[,1]}  & \\code{height}  & numeric  & Height (in)\\\\{}\n",
       "\\code{[,2]}  & \\code{weight}  & numeric  & Weight (lbs)\n",
       "}\n",
       "\\end{Format}\n",
       "%\n",
       "\\begin{Details}\\relax\n",
       "The data set appears to have been taken from the American Society of\n",
       "Actuaries \\emph{Build and Blood Pressure Study} for some (unknown to\n",
       "us) earlier year.\n",
       "\n",
       "The World Almanac notes: ``The figures represent weights in\n",
       "ordinary indoor clothing and shoes, and heights with shoes''.\n",
       "\\end{Details}\n",
       "%\n",
       "\\begin{Source}\\relax\n",
       "The World Almanac and Book of Facts, 1975.\n",
       "\\end{Source}\n",
       "%\n",
       "\\begin{References}\\relax\n",
       "McNeil, D. R. (1977)\n",
       "\\emph{Interactive Data Analysis}.\n",
       "Wiley.\n",
       "\\end{References}\n",
       "%\n",
       "\\begin{Examples}\n",
       "\\begin{ExampleCode}\n",
       "require(graphics)\n",
       "plot(women, xlab = \"Height (in)\", ylab = \"Weight (lb)\",\n",
       "     main = \"women data: American women aged 30-39\")\n",
       "\\end{ExampleCode}\n",
       "\\end{Examples}"
      ],
      "text/plain": [
       "women                 package:datasets                 R Documentation\n",
       "\n",
       "_\bA_\bv_\be_\br_\ba_\bg_\be _\bH_\be_\bi_\bg_\bh_\bt_\bs _\ba_\bn_\bd _\bW_\be_\bi_\bg_\bh_\bt_\bs _\bf_\bo_\br _\bA_\bm_\be_\br_\bi_\bc_\ba_\bn _\bW_\bo_\bm_\be_\bn\n",
       "\n",
       "_\bD_\be_\bs_\bc_\br_\bi_\bp_\bt_\bi_\bo_\bn:\n",
       "\n",
       "     This data set gives the average heights and weights for American\n",
       "     women aged 30-39.\n",
       "\n",
       "_\bU_\bs_\ba_\bg_\be:\n",
       "\n",
       "     women\n",
       "     \n",
       "_\bF_\bo_\br_\bm_\ba_\bt:\n",
       "\n",
       "     A data frame with 15 observations on 2 variables.\n",
       "\n",
       "       ‘[,1]’  ‘height’  numeric  Height (in)  \n",
       "       ‘[,2]’  ‘weight’  numeric  Weight (lbs) \n",
       "      \n",
       "_\bD_\be_\bt_\ba_\bi_\bl_\bs:\n",
       "\n",
       "     The data set appears to have been taken from the American Society\n",
       "     of Actuaries _Build and Blood Pressure Study_ for some (unknown to\n",
       "     us) earlier year.\n",
       "\n",
       "     The World Almanac notes: “The figures represent weights in\n",
       "     ordinary indoor clothing and shoes, and heights with shoes”.\n",
       "\n",
       "_\bS_\bo_\bu_\br_\bc_\be:\n",
       "\n",
       "     The World Almanac and Book of Facts, 1975.\n",
       "\n",
       "_\bR_\be_\bf_\be_\br_\be_\bn_\bc_\be_\bs:\n",
       "\n",
       "     McNeil, D. R. (1977) _Interactive Data Analysis_.  Wiley.\n",
       "\n",
       "_\bE_\bx_\ba_\bm_\bp_\bl_\be_\bs:\n",
       "\n",
       "     require(graphics)\n",
       "     plot(women, xlab = \"Height (in)\", ylab = \"Weight (lb)\",\n",
       "          main = \"women data: American women aged 30-39\")\n",
       "     "
      ]
     },
     "metadata": {},
     "output_type": "display_data"
    }
   ],
   "source": [
    "?women        # peso em lbs e altura em in"
   ]
  },
  {
   "cell_type": "code",
   "execution_count": 18,
   "metadata": {},
   "outputs": [
    {
     "data": {
      "text/html": [
       "<ol class=list-inline>\n",
       "\t<li>115</li>\n",
       "\t<li>164</li>\n",
       "</ol>\n"
      ],
      "text/latex": [
       "\\begin{enumerate*}\n",
       "\\item 115\n",
       "\\item 164\n",
       "\\end{enumerate*}\n"
      ],
      "text/markdown": [
       "1. 115\n",
       "2. 164\n",
       "\n",
       "\n"
      ],
      "text/plain": [
       "[1] 115 164"
      ]
     },
     "metadata": {},
     "output_type": "display_data"
    }
   ],
   "source": [
    "range(women$weight)"
   ]
  },
  {
   "cell_type": "code",
   "execution_count": 19,
   "metadata": {},
   "outputs": [
    {
     "data": {
      "text/plain": [
       "wfact\n",
       "(115,131] (131,148] (148,164] \n",
       "        6         5         4 "
      ]
     },
     "metadata": {},
     "output_type": "display_data"
    }
   ],
   "source": [
    "wfact = cut(women$weight,3) # cria intervaloes para a variavel amplitude dos intervalos (164-115)/3=49/3=16.33\n",
    "table(wfact)"
   ]
  },
  {
   "cell_type": "code",
   "execution_count": 20,
   "metadata": {},
   "outputs": [
    {
     "data": {
      "text/plain": [
       "wfact\n",
       "   Low Medium   High \n",
       "     6      5      4 "
      ]
     },
     "metadata": {},
     "output_type": "display_data"
    }
   ],
   "source": [
    "wfact = cut(women$weight,3,labels=c(\"Low\",\"Medium\",\"High\"))\n",
    "table(wfact)"
   ]
  },
  {
   "cell_type": "code",
   "execution_count": 21,
   "metadata": {},
   "outputs": [],
   "source": [
    "# RESUMO DE COMANDOS\n",
    "\n",
    "# FACTOR, LEVELS, NLEVELS,ATTRIBUTES, cut, range,as.character,as.numeric,table\n",
    "\n",
    "##########################################################################################\n",
    "#\n",
    "# LISTAS - \n",
    "##########################################################################################\n",
    "\n",
    "# Aceita dados de diferente tipos e tamanhos\n",
    "# Algumas funcoes do R retornam resultados como listas\n",
    "\n",
    "mylist = list(a=c(1,2,3),b=c(\"cat\",\"dog\",\"duck\"), d=factor(\"a\",\"b\",\"a\"))"
   ]
  },
  {
   "cell_type": "code",
   "execution_count": 22,
   "metadata": {},
   "outputs": [
    {
     "data": {
      "text/html": [
       "<dl class=dl-horizontal>\n",
       "\t<dt>a</dt>\n",
       "\t\t<dd>'numeric'</dd>\n",
       "\t<dt>b</dt>\n",
       "\t\t<dd>'character'</dd>\n",
       "\t<dt>d</dt>\n",
       "\t\t<dd>'numeric'</dd>\n",
       "</dl>\n"
      ],
      "text/latex": [
       "\\begin{description*}\n",
       "\\item[a] 'numeric'\n",
       "\\item[b] 'character'\n",
       "\\item[d] 'numeric'\n",
       "\\end{description*}\n"
      ],
      "text/markdown": [
       "a\n",
       ":   'numeric'b\n",
       ":   'character'd\n",
       ":   'numeric'\n",
       "\n"
      ],
      "text/plain": [
       "          a           b           d \n",
       "  \"numeric\" \"character\"   \"numeric\" "
      ]
     },
     "metadata": {},
     "output_type": "display_data"
    }
   ],
   "source": [
    "sapply(mylist,mode)"
   ]
  },
  {
   "cell_type": "code",
   "execution_count": 23,
   "metadata": {},
   "outputs": [
    {
     "data": {
      "text/html": [
       "<dl>\n",
       "\t<dt>$a</dt>\n",
       "\t\t<dd><ol class=list-inline>\n",
       "\t<li>1</li>\n",
       "\t<li>2</li>\n",
       "\t<li>3</li>\n",
       "</ol>\n",
       "</dd>\n",
       "\t<dt>$b</dt>\n",
       "\t\t<dd><ol class=list-inline>\n",
       "\t<li>'cat'</li>\n",
       "\t<li>'dog'</li>\n",
       "\t<li>'duck'</li>\n",
       "</ol>\n",
       "</dd>\n",
       "\t<dt>$d</dt>\n",
       "\t\t<dd>&lt;NA&gt;\n",
       "<details>\n",
       "\t<summary style=display:list-item;cursor:pointer>\n",
       "\t\t<strong>Levels</strong>:\n",
       "\t</summary>\n",
       "\t'a'\n",
       "</details></dd>\n",
       "</dl>\n"
      ],
      "text/latex": [
       "\\begin{description}\n",
       "\\item[\\$a] \\begin{enumerate*}\n",
       "\\item 1\n",
       "\\item 2\n",
       "\\item 3\n",
       "\\end{enumerate*}\n",
       "\n",
       "\\item[\\$b] \\begin{enumerate*}\n",
       "\\item 'cat'\n",
       "\\item 'dog'\n",
       "\\item 'duck'\n",
       "\\end{enumerate*}\n",
       "\n",
       "\\item[\\$d] <NA>\n",
       "\\emph{Levels}: 'a'\n",
       "\\end{description}\n"
      ],
      "text/markdown": [
       "$a\n",
       ":   1. 1\n",
       "2. 2\n",
       "3. 3\n",
       "\n",
       "\n",
       "\n",
       "$b\n",
       ":   1. 'cat'\n",
       "2. 'dog'\n",
       "3. 'duck'\n",
       "\n",
       "\n",
       "\n",
       "$d\n",
       ":   &lt;NA&gt;\n",
       "**Levels**: 'a'\n",
       "\n",
       "\n"
      ],
      "text/plain": [
       "$a\n",
       "[1] 1 2 3\n",
       "\n",
       "$b\n",
       "[1] \"cat\"  \"dog\"  \"duck\"\n",
       "\n",
       "$d\n",
       "[1] <NA>\n",
       "Levels: a\n"
      ]
     },
     "metadata": {},
     "output_type": "display_data"
    }
   ],
   "source": [
    "mylist"
   ]
  },
  {
   "cell_type": "code",
   "execution_count": 24,
   "metadata": {},
   "outputs": [],
   "source": [
    "mylist = list(c(1,4,6),\"dog\",3,\"cat\",TRUE,c(9,10,11))"
   ]
  },
  {
   "cell_type": "code",
   "execution_count": 25,
   "metadata": {},
   "outputs": [
    {
     "data": {
      "text/html": [
       "<ol>\n",
       "\t<li><ol class=list-inline>\n",
       "\t<li>1</li>\n",
       "\t<li>4</li>\n",
       "\t<li>6</li>\n",
       "</ol>\n",
       "</li>\n",
       "\t<li>'dog'</li>\n",
       "\t<li>3</li>\n",
       "\t<li>'cat'</li>\n",
       "\t<li>TRUE</li>\n",
       "\t<li><ol class=list-inline>\n",
       "\t<li>9</li>\n",
       "\t<li>10</li>\n",
       "\t<li>11</li>\n",
       "</ol>\n",
       "</li>\n",
       "</ol>\n"
      ],
      "text/latex": [
       "\\begin{enumerate}\n",
       "\\item \\begin{enumerate*}\n",
       "\\item 1\n",
       "\\item 4\n",
       "\\item 6\n",
       "\\end{enumerate*}\n",
       "\n",
       "\\item 'dog'\n",
       "\\item 3\n",
       "\\item 'cat'\n",
       "\\item TRUE\n",
       "\\item \\begin{enumerate*}\n",
       "\\item 9\n",
       "\\item 10\n",
       "\\item 11\n",
       "\\end{enumerate*}\n",
       "\n",
       "\\end{enumerate}\n"
      ],
      "text/markdown": [
       "1. 1. 1\n",
       "2. 4\n",
       "3. 6\n",
       "\n",
       "\n",
       "\n",
       "2. 'dog'\n",
       "3. 3\n",
       "4. 'cat'\n",
       "5. TRUE\n",
       "6. 1. 9\n",
       "2. 10\n",
       "3. 11\n",
       "\n",
       "\n",
       "\n",
       "\n",
       "\n"
      ],
      "text/plain": [
       "[[1]]\n",
       "[1] 1 4 6\n",
       "\n",
       "[[2]]\n",
       "[1] \"dog\"\n",
       "\n",
       "[[3]]\n",
       "[1] 3\n",
       "\n",
       "[[4]]\n",
       "[1] \"cat\"\n",
       "\n",
       "[[5]]\n",
       "[1] TRUE\n",
       "\n",
       "[[6]]\n",
       "[1]  9 10 11\n"
      ]
     },
     "metadata": {},
     "output_type": "display_data"
    }
   ],
   "source": [
    "mylist"
   ]
  },
  {
   "cell_type": "code",
   "execution_count": 26,
   "metadata": {},
   "outputs": [
    {
     "data": {
      "text/html": [
       "<ol>\n",
       "\t<li><ol class=list-inline>\n",
       "\t<li>1</li>\n",
       "\t<li>4</li>\n",
       "\t<li>6</li>\n",
       "</ol>\n",
       "</li>\n",
       "</ol>\n"
      ],
      "text/latex": [
       "\\begin{enumerate}\n",
       "\\item \\begin{enumerate*}\n",
       "\\item 1\n",
       "\\item 4\n",
       "\\item 6\n",
       "\\end{enumerate*}\n",
       "\n",
       "\\end{enumerate}\n"
      ],
      "text/markdown": [
       "1. 1. 1\n",
       "2. 4\n",
       "3. 6\n",
       "\n",
       "\n",
       "\n",
       "\n",
       "\n"
      ],
      "text/plain": [
       "[[1]]\n",
       "[1] 1 4 6\n"
      ]
     },
     "metadata": {},
     "output_type": "display_data"
    }
   ],
   "source": [
    "mylist[1]"
   ]
  },
  {
   "cell_type": "code",
   "execution_count": 27,
   "metadata": {},
   "outputs": [
    {
     "data": {
      "text/html": [
       "<ol>\n",
       "\t<li>'dog'</li>\n",
       "</ol>\n"
      ],
      "text/latex": [
       "\\begin{enumerate}\n",
       "\\item 'dog'\n",
       "\\end{enumerate}\n"
      ],
      "text/markdown": [
       "1. 'dog'\n",
       "\n",
       "\n"
      ],
      "text/plain": [
       "[[1]]\n",
       "[1] \"dog\"\n"
      ]
     },
     "metadata": {},
     "output_type": "display_data"
    }
   ],
   "source": [
    "mylist[2]"
   ]
  },
  {
   "cell_type": "code",
   "execution_count": null,
   "metadata": {},
   "outputs": [],
   "source": []
  },
  {
   "cell_type": "code",
   "execution_count": null,
   "metadata": {},
   "outputs": [],
   "source": []
  }
 ],
 "metadata": {
  "kernelspec": {
   "display_name": "R",
   "language": "R",
   "name": "ir"
  },
  "language_info": {
   "codemirror_mode": "r",
   "file_extension": ".r",
   "mimetype": "text/x-r-source",
   "name": "R",
   "pygments_lexer": "r",
   "version": "3.5.1"
  }
 },
 "nbformat": 4,
 "nbformat_minor": 2
}
