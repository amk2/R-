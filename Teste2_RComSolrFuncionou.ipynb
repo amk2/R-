{
 "cells": [
  {
   "cell_type": "markdown",
   "metadata": {},
   "source": [
    "<h2>Exemplo usando o Apache Solr com o R pelo jupyter Notebook. <h2>\n",
    "\n",
    "De: https://cran.r-project.org/web/packages/solrium/solrium.pdf\n",
    "<br/>\n",
    "https://cran.r-project.org/web/packages/solrium/solrium.pdf\n",
    "<br/>\n",
    "https://cran.r-project.org/web/packages/jsonlite/jsonlite.pdf\n",
    "<br/>\n"
   ]
  },
  {
   "cell_type": "code",
   "execution_count": 12,
   "metadata": {},
   "outputs": [],
   "source": [
    "library(\"solrium\")"
   ]
  },
  {
   "cell_type": "code",
   "execution_count": 2,
   "metadata": {},
   "outputs": [
    {
     "data": {
      "text/plain": [
       "<Solr Client>\n",
       "  host: api.plos.org\n",
       "  path: search\n",
       "  port: \n",
       "  scheme: http\n",
       "  errors: complete\n",
       "  proxy:"
      ]
     },
     "metadata": {},
     "output_type": "display_data"
    }
   ],
   "source": [
    "(cli <- SolrClient$new(host = \"api.plos.org\", path = \"search\", port = NULL, errors = \"complete\"))"
   ]
  },
  {
   "cell_type": "code",
   "execution_count": 3,
   "metadata": {},
   "outputs": [
    {
     "data": {
      "text/html": [
       "<table>\n",
       "<thead><tr><th scope=col>id</th></tr></thead>\n",
       "<tbody>\n",
       "\t<tr><td>10.1371/journal.pone.0058099/materials_and_methods</td></tr>\n",
       "\t<tr><td>10.1371/journal.pone.0030394/introduction         </td></tr>\n",
       "</tbody>\n",
       "</table>\n"
      ],
      "text/latex": [
       "\\begin{tabular}{r|l}\n",
       " id\\\\\n",
       "\\hline\n",
       "\t 10.1371/journal.pone.0058099/materials\\_and\\_methods\\\\\n",
       "\t 10.1371/journal.pone.0030394/introduction         \\\\\n",
       "\\end{tabular}\n"
      ],
      "text/markdown": [
       "\n",
       "id | \n",
       "|---|---|\n",
       "| 10.1371/journal.pone.0058099/materials_and_methods | \n",
       "| 10.1371/journal.pone.0030394/introduction          | \n",
       "\n",
       "\n"
      ],
      "text/plain": [
       "  id                                                \n",
       "1 10.1371/journal.pone.0058099/materials_and_methods\n",
       "2 10.1371/journal.pone.0030394/introduction         "
      ]
     },
     "metadata": {},
     "output_type": "display_data"
    }
   ],
   "source": [
    "cli$search(params = list(q='*:*', rows=2, fl='id'))"
   ]
  },
  {
   "cell_type": "code",
   "execution_count": 4,
   "metadata": {},
   "outputs": [
    {
     "data": {
      "text/html": [
       "<table>\n",
       "<thead><tr><th scope=col>groupValue</th><th scope=col>numFound</th><th scope=col>start</th><th scope=col>publication_date</th><th scope=col>score</th></tr></thead>\n",
       "<tbody>\n",
       "\t<tr><td>plos one            </td><td>1800398             </td><td>0                   </td><td>2019-03-27T00:00:00Z</td><td>1                   </td></tr>\n",
       "\t<tr><td>none                </td><td>  66476             </td><td>0                   </td><td>2012-10-23T00:00:00Z</td><td>1                   </td></tr>\n",
       "\t<tr><td>plos genetics       </td><td>  67060             </td><td>0                   </td><td>2019-03-27T00:00:00Z</td><td>1                   </td></tr>\n",
       "\t<tr><td>plos biology        </td><td>  37280             </td><td>0                   </td><td>2019-03-27T00:00:00Z</td><td>1                   </td></tr>\n",
       "\t<tr><td>plos pathogens      </td><td>  60083             </td><td>0                   </td><td>2019-03-26T00:00:00Z</td><td>1                   </td></tr>\n",
       "</tbody>\n",
       "</table>\n"
      ],
      "text/latex": [
       "\\begin{tabular}{r|lllll}\n",
       " groupValue & numFound & start & publication\\_date & score\\\\\n",
       "\\hline\n",
       "\t plos one             & 1800398              & 0                    & 2019-03-27T00:00:00Z & 1                   \\\\\n",
       "\t none                 &   66476              & 0                    & 2012-10-23T00:00:00Z & 1                   \\\\\n",
       "\t plos genetics        &   67060              & 0                    & 2019-03-27T00:00:00Z & 1                   \\\\\n",
       "\t plos biology         &   37280              & 0                    & 2019-03-27T00:00:00Z & 1                   \\\\\n",
       "\t plos pathogens       &   60083              & 0                    & 2019-03-26T00:00:00Z & 1                   \\\\\n",
       "\\end{tabular}\n"
      ],
      "text/markdown": [
       "\n",
       "groupValue | numFound | start | publication_date | score | \n",
       "|---|---|---|---|---|\n",
       "| plos one             | 1800398              | 0                    | 2019-03-27T00:00:00Z | 1                    | \n",
       "| none                 |   66476              | 0                    | 2012-10-23T00:00:00Z | 1                    | \n",
       "| plos genetics        |   67060              | 0                    | 2019-03-27T00:00:00Z | 1                    | \n",
       "| plos biology         |   37280              | 0                    | 2019-03-27T00:00:00Z | 1                    | \n",
       "| plos pathogens       |   60083              | 0                    | 2019-03-26T00:00:00Z | 1                    | \n",
       "\n",
       "\n"
      ],
      "text/plain": [
       "  groupValue     numFound start publication_date     score\n",
       "1 plos one       1800398  0     2019-03-27T00:00:00Z 1    \n",
       "2 none             66476  0     2012-10-23T00:00:00Z 1    \n",
       "3 plos genetics    67060  0     2019-03-27T00:00:00Z 1    \n",
       "4 plos biology     37280  0     2019-03-27T00:00:00Z 1    \n",
       "5 plos pathogens   60083  0     2019-03-26T00:00:00Z 1    "
      ]
     },
     "metadata": {},
     "output_type": "display_data"
    }
   ],
   "source": [
    "cli$group(params = list(q='*:*', group.field='journal', rows=5, group.limit=1,\n",
    "                        group.sort='publication_date desc',\n",
    "                        fl='publication_date, score'))"
   ]
  },
  {
   "cell_type": "code",
   "execution_count": 5,
   "metadata": {},
   "outputs": [
    {
     "data": {
      "text/html": [
       "<table>\n",
       "<thead><tr><th scope=col>groupValue</th><th scope=col>numFound</th><th scope=col>start</th><th scope=col>publication_date</th><th scope=col>score</th></tr></thead>\n",
       "<tbody>\n",
       "\t<tr><td>plos one                        </td><td>1800398                         </td><td>0                               </td><td>2006-12-20T00:00:00Z            </td><td>1                               </td></tr>\n",
       "\t<tr><td>none                            </td><td>  57532                         </td><td>0                               </td><td>2005-08-23T00:00:00Z            </td><td>1                               </td></tr>\n",
       "\t<tr><td>plos genetics                   </td><td>  67060                         </td><td>0                               </td><td>2005-06-17T00:00:00Z            </td><td>1                               </td></tr>\n",
       "\t<tr><td>plos biology                    </td><td>  37280                         </td><td>0                               </td><td>2003-08-18T00:00:00Z            </td><td>1                               </td></tr>\n",
       "\t<tr><td>plos pathogens                  </td><td>  60083                         </td><td>0                               </td><td>2005-07-22T00:00:00Z            </td><td>1                               </td></tr>\n",
       "\t<tr><td>plos computational biology      </td><td>  52792                         </td><td>0                               </td><td>2005-06-24T00:00:00Z            </td><td>1                               </td></tr>\n",
       "\t<tr><td>plos medicine                   </td><td>  26406                         </td><td>0                               </td><td>2004-09-07T00:00:00Z            </td><td>1                               </td></tr>\n",
       "\t<tr><td>plos neglected tropical diseases</td><td>  57268                         </td><td>0                               </td><td>2007-08-30T00:00:00Z            </td><td>1                               </td></tr>\n",
       "\t<tr><td>plos clinical trials            </td><td>    521                         </td><td>0                               </td><td>2006-04-21T00:00:00Z            </td><td>1                               </td></tr>\n",
       "\t<tr><td>plos medicin                    </td><td>      9                         </td><td>0                               </td><td>2012-04-17T00:00:00Z            </td><td>1                               </td></tr>\n",
       "</tbody>\n",
       "</table>\n"
      ],
      "text/latex": [
       "\\begin{tabular}{r|lllll}\n",
       " groupValue & numFound & start & publication\\_date & score\\\\\n",
       "\\hline\n",
       "\t plos one                         & 1800398                          & 0                                & 2006-12-20T00:00:00Z             & 1                               \\\\\n",
       "\t none                             &   57532                          & 0                                & 2005-08-23T00:00:00Z             & 1                               \\\\\n",
       "\t plos genetics                    &   67060                          & 0                                & 2005-06-17T00:00:00Z             & 1                               \\\\\n",
       "\t plos biology                     &   37280                          & 0                                & 2003-08-18T00:00:00Z             & 1                               \\\\\n",
       "\t plos pathogens                   &   60083                          & 0                                & 2005-07-22T00:00:00Z             & 1                               \\\\\n",
       "\t plos computational biology       &   52792                          & 0                                & 2005-06-24T00:00:00Z             & 1                               \\\\\n",
       "\t plos medicine                    &   26406                          & 0                                & 2004-09-07T00:00:00Z             & 1                               \\\\\n",
       "\t plos neglected tropical diseases &   57268                          & 0                                & 2007-08-30T00:00:00Z             & 1                               \\\\\n",
       "\t plos clinical trials             &     521                          & 0                                & 2006-04-21T00:00:00Z             & 1                               \\\\\n",
       "\t plos medicin                     &       9                          & 0                                & 2012-04-17T00:00:00Z             & 1                               \\\\\n",
       "\\end{tabular}\n"
      ],
      "text/markdown": [
       "\n",
       "groupValue | numFound | start | publication_date | score | \n",
       "|---|---|---|---|---|---|---|---|---|---|\n",
       "| plos one                         | 1800398                          | 0                                | 2006-12-20T00:00:00Z             | 1                                | \n",
       "| none                             |   57532                          | 0                                | 2005-08-23T00:00:00Z             | 1                                | \n",
       "| plos genetics                    |   67060                          | 0                                | 2005-06-17T00:00:00Z             | 1                                | \n",
       "| plos biology                     |   37280                          | 0                                | 2003-08-18T00:00:00Z             | 1                                | \n",
       "| plos pathogens                   |   60083                          | 0                                | 2005-07-22T00:00:00Z             | 1                                | \n",
       "| plos computational biology       |   52792                          | 0                                | 2005-06-24T00:00:00Z             | 1                                | \n",
       "| plos medicine                    |   26406                          | 0                                | 2004-09-07T00:00:00Z             | 1                                | \n",
       "| plos neglected tropical diseases |   57268                          | 0                                | 2007-08-30T00:00:00Z             | 1                                | \n",
       "| plos clinical trials             |     521                          | 0                                | 2006-04-21T00:00:00Z             | 1                                | \n",
       "| plos medicin                     |       9                          | 0                                | 2012-04-17T00:00:00Z             | 1                                | \n",
       "\n",
       "\n"
      ],
      "text/plain": [
       "   groupValue                       numFound start publication_date     score\n",
       "1  plos one                         1800398  0     2006-12-20T00:00:00Z 1    \n",
       "2  none                               57532  0     2005-08-23T00:00:00Z 1    \n",
       "3  plos genetics                      67060  0     2005-06-17T00:00:00Z 1    \n",
       "4  plos biology                       37280  0     2003-08-18T00:00:00Z 1    \n",
       "5  plos pathogens                     60083  0     2005-07-22T00:00:00Z 1    \n",
       "6  plos computational biology         52792  0     2005-06-24T00:00:00Z 1    \n",
       "7  plos medicine                      26406  0     2004-09-07T00:00:00Z 1    \n",
       "8  plos neglected tropical diseases   57268  0     2007-08-30T00:00:00Z 1    \n",
       "9  plos clinical trials                 521  0     2006-04-21T00:00:00Z 1    \n",
       "10 plos medicin                           9  0     2012-04-17T00:00:00Z 1    "
      ]
     },
     "metadata": {},
     "output_type": "display_data"
    }
   ],
   "source": [
    "cli$group(params = list(q = '*:*', group.field = 'journal', group.limit = 1,\n",
    "                        group.sort = 'publication_date asc',\n",
    "                        fl = c('publication_date', 'score'),\n",
    "                        fq = \"publication_date:[1900-01-01T00:00:00Z TO *]\"))"
   ]
  },
  {
   "cell_type": "code",
   "execution_count": 6,
   "metadata": {},
   "outputs": [
    {
     "data": {
      "text/html": [
       "<table>\n",
       "<thead><tr><th scope=col>numFound</th><th scope=col>start</th><th scope=col>publication_date</th></tr></thead>\n",
       "<tbody>\n",
       "\t<tr><td>307076              </td><td>0                   </td><td>2013-12-31T00:00:00Z</td></tr>\n",
       "\t<tr><td>307076              </td><td>0                   </td><td>2013-12-31T00:00:00Z</td></tr>\n",
       "\t<tr><td>307076              </td><td>0                   </td><td>2013-12-31T00:00:00Z</td></tr>\n",
       "</tbody>\n",
       "</table>\n"
      ],
      "text/latex": [
       "\\begin{tabular}{r|lll}\n",
       " numFound & start & publication\\_date\\\\\n",
       "\\hline\n",
       "\t 307076               & 0                    & 2013-12-31T00:00:00Z\\\\\n",
       "\t 307076               & 0                    & 2013-12-31T00:00:00Z\\\\\n",
       "\t 307076               & 0                    & 2013-12-31T00:00:00Z\\\\\n",
       "\\end{tabular}\n"
      ],
      "text/markdown": [
       "\n",
       "numFound | start | publication_date | \n",
       "|---|---|---|\n",
       "| 307076               | 0                    | 2013-12-31T00:00:00Z | \n",
       "| 307076               | 0                    | 2013-12-31T00:00:00Z | \n",
       "| 307076               | 0                    | 2013-12-31T00:00:00Z | \n",
       "\n",
       "\n"
      ],
      "text/plain": [
       "  numFound start publication_date    \n",
       "1 307076   0     2013-12-31T00:00:00Z\n",
       "2 307076   0     2013-12-31T00:00:00Z\n",
       "3 307076   0     2013-12-31T00:00:00Z"
      ]
     },
     "metadata": {},
     "output_type": "display_data"
    }
   ],
   "source": [
    "gq <- 'publication_date:[2013-01-01T00:00:00Z TO 2013-12-31T00:00:00Z]'\n",
    "cli$group(\n",
    "  params = list(q='*:*', group.query = gq,\n",
    "                group.limit = 3, group.sort = 'publication_date desc',\n",
    "                fl = 'publication_date'))"
   ]
  },
  {
   "cell_type": "code",
   "execution_count": 7,
   "metadata": {},
   "outputs": [
    {
     "data": {
      "text/html": [
       "<table>\n",
       "<thead><tr><th scope=col>numFound</th><th scope=col>start</th><th scope=col>journal</th><th scope=col>publication_date</th></tr></thead>\n",
       "<tbody>\n",
       "\t<tr><td>2168293             </td><td>0                   </td><td>PLOS ONE            </td><td>2019-03-27T00:00:00Z</td></tr>\n",
       "\t<tr><td>2168293             </td><td>0                   </td><td>PLOS ONE            </td><td>2019-03-27T00:00:00Z</td></tr>\n",
       "\t<tr><td>2168293             </td><td>0                   </td><td>PLOS ONE            </td><td>2019-03-27T00:00:00Z</td></tr>\n",
       "\t<tr><td>2168293             </td><td>0                   </td><td>NA                  </td><td>2012-10-23T00:00:00Z</td></tr>\n",
       "\t<tr><td>2168293             </td><td>0                   </td><td>NA                  </td><td>2012-10-23T00:00:00Z</td></tr>\n",
       "</tbody>\n",
       "</table>\n"
      ],
      "text/latex": [
       "\\begin{tabular}{r|llll}\n",
       " numFound & start & journal & publication\\_date\\\\\n",
       "\\hline\n",
       "\t 2168293              & 0                    & PLOS ONE             & 2019-03-27T00:00:00Z\\\\\n",
       "\t 2168293              & 0                    & PLOS ONE             & 2019-03-27T00:00:00Z\\\\\n",
       "\t 2168293              & 0                    & PLOS ONE             & 2019-03-27T00:00:00Z\\\\\n",
       "\t 2168293              & 0                    & NA                   & 2012-10-23T00:00:00Z\\\\\n",
       "\t 2168293              & 0                    & NA                   & 2012-10-23T00:00:00Z\\\\\n",
       "\\end{tabular}\n"
      ],
      "text/markdown": [
       "\n",
       "numFound | start | journal | publication_date | \n",
       "|---|---|---|---|---|\n",
       "| 2168293              | 0                    | PLOS ONE             | 2019-03-27T00:00:00Z | \n",
       "| 2168293              | 0                    | PLOS ONE             | 2019-03-27T00:00:00Z | \n",
       "| 2168293              | 0                    | PLOS ONE             | 2019-03-27T00:00:00Z | \n",
       "| 2168293              | 0                    | NA                   | 2012-10-23T00:00:00Z | \n",
       "| 2168293              | 0                    | NA                   | 2012-10-23T00:00:00Z | \n",
       "\n",
       "\n"
      ],
      "text/plain": [
       "  numFound start journal  publication_date    \n",
       "1 2168293  0     PLOS ONE 2019-03-27T00:00:00Z\n",
       "2 2168293  0     PLOS ONE 2019-03-27T00:00:00Z\n",
       "3 2168293  0     PLOS ONE 2019-03-27T00:00:00Z\n",
       "4 2168293  0     NA       2012-10-23T00:00:00Z\n",
       "5 2168293  0     NA       2012-10-23T00:00:00Z"
      ]
     },
     "metadata": {},
     "output_type": "display_data"
    }
   ],
   "source": [
    "cli$group(params = list(q='*:*', group.field='journal', rows=5,\n",
    "                        group.limit=3, group.sort='publication_date desc',\n",
    "                        group.format='simple', fl='journal, publication_date'))"
   ]
  },
  {
   "cell_type": "code",
   "execution_count": 8,
   "metadata": {},
   "outputs": [
    {
     "data": {
      "text/html": [
       "<dl>\n",
       "\t<dt>$facet_queries</dt>\n",
       "\t\t<dd><table>\n",
       "<thead><tr><th scope=col>term</th><th scope=col>value</th></tr></thead>\n",
       "<tbody>\n",
       "\t<tr><td>cell  </td><td>175285</td></tr>\n",
       "\t<tr><td>bird  </td><td> 18639</td></tr>\n",
       "</tbody>\n",
       "</table>\n",
       "</dd>\n",
       "\t<dt>$facet_fields</dt>\n",
       "\t\t<dd><strong>$journal</strong> = <table>\n",
       "<thead><tr><th scope=col>term</th><th scope=col>value</th></tr></thead>\n",
       "<tbody>\n",
       "\t<tr><td>plos one                        </td><td>1800398                         </td></tr>\n",
       "\t<tr><td>plos genetics                   </td><td>67060                           </td></tr>\n",
       "\t<tr><td>plos pathogens                  </td><td>60083                           </td></tr>\n",
       "\t<tr><td>plos neglected tropical diseases</td><td>57268                           </td></tr>\n",
       "\t<tr><td>plos computational biology      </td><td>52792                           </td></tr>\n",
       "\t<tr><td>plos biology                    </td><td>37280                           </td></tr>\n",
       "\t<tr><td>plos medicine                   </td><td>26406                           </td></tr>\n",
       "\t<tr><td>plos clinical trials            </td><td>521                             </td></tr>\n",
       "\t<tr><td>plos medicin                    </td><td>9                               </td></tr>\n",
       "</tbody>\n",
       "</table>\n",
       "</dd>\n",
       "\t<dt>$facet_pivot</dt>\n",
       "\t\t<dd>NULL</dd>\n",
       "\t<dt>$facet_dates</dt>\n",
       "\t\t<dd>NULL</dd>\n",
       "\t<dt>$facet_ranges</dt>\n",
       "\t\t<dd>NULL</dd>\n",
       "</dl>\n"
      ],
      "text/latex": [
       "\\begin{description}\n",
       "\\item[\\$facet\\_queries] \\begin{tabular}{r|ll}\n",
       " term & value\\\\\n",
       "\\hline\n",
       "\t cell   & 175285\\\\\n",
       "\t bird   &  18639\\\\\n",
       "\\end{tabular}\n",
       "\n",
       "\\item[\\$facet\\_fields] \\textbf{\\$journal} = \\begin{tabular}{r|ll}\n",
       " term & value\\\\\n",
       "\\hline\n",
       "\t plos one                         & 1800398                         \\\\\n",
       "\t plos genetics                    & 67060                           \\\\\n",
       "\t plos pathogens                   & 60083                           \\\\\n",
       "\t plos neglected tropical diseases & 57268                           \\\\\n",
       "\t plos computational biology       & 52792                           \\\\\n",
       "\t plos biology                     & 37280                           \\\\\n",
       "\t plos medicine                    & 26406                           \\\\\n",
       "\t plos clinical trials             & 521                             \\\\\n",
       "\t plos medicin                     & 9                               \\\\\n",
       "\\end{tabular}\n",
       "\n",
       "\\item[\\$facet\\_pivot] NULL\n",
       "\\item[\\$facet\\_dates] NULL\n",
       "\\item[\\$facet\\_ranges] NULL\n",
       "\\end{description}\n"
      ],
      "text/markdown": [
       "$facet_queries\n",
       ":   \n",
       "term | value | \n",
       "|---|---|\n",
       "| cell   | 175285 | \n",
       "| bird   |  18639 | \n",
       "\n",
       "\n",
       "\n",
       "$facet_fields\n",
       ":   **$journal** = \n",
       "term | value | \n",
       "|---|---|---|---|---|---|---|---|---|\n",
       "| plos one                         | 1800398                          | \n",
       "| plos genetics                    | 67060                            | \n",
       "| plos pathogens                   | 60083                            | \n",
       "| plos neglected tropical diseases | 57268                            | \n",
       "| plos computational biology       | 52792                            | \n",
       "| plos biology                     | 37280                            | \n",
       "| plos medicine                    | 26406                            | \n",
       "| plos clinical trials             | 521                              | \n",
       "| plos medicin                     | 9                                | \n",
       "\n",
       "\n",
       "\n",
       "$facet_pivot\n",
       ":   NULL\n",
       "$facet_dates\n",
       ":   NULL\n",
       "$facet_ranges\n",
       ":   NULL\n",
       "\n",
       "\n"
      ],
      "text/plain": [
       "$facet_queries\n",
       "# A tibble: 2 x 2\n",
       "  term   value\n",
       "  <chr>  <int>\n",
       "1 cell  175285\n",
       "2 bird   18639\n",
       "\n",
       "$facet_fields\n",
       "$facet_fields$journal\n",
       "# A tibble: 9 x 2\n",
       "  term                             value  \n",
       "  <fct>                            <fct>  \n",
       "1 plos one                         1800398\n",
       "2 plos genetics                    67060  \n",
       "3 plos pathogens                   60083  \n",
       "4 plos neglected tropical diseases 57268  \n",
       "5 plos computational biology       52792  \n",
       "6 plos biology                     37280  \n",
       "7 plos medicine                    26406  \n",
       "8 plos clinical trials             521    \n",
       "9 plos medicin                     9      \n",
       "\n",
       "\n",
       "$facet_pivot\n",
       "NULL\n",
       "\n",
       "$facet_dates\n",
       "NULL\n",
       "\n",
       "$facet_ranges\n",
       "NULL\n"
      ]
     },
     "metadata": {},
     "output_type": "display_data"
    }
   ],
   "source": [
    "cli$facet(params = list(q='*:*', facet.field='journal', facet.query=c('cell', 'bird')))"
   ]
  },
  {
   "cell_type": "code",
   "execution_count": 9,
   "metadata": {},
   "outputs": [
    {
     "data": {
      "text/html": [
       "<table>\n",
       "<thead><tr><th scope=col>names</th><th scope=col>abstract</th></tr></thead>\n",
       "<tbody>\n",
       "\t<tr><td>10.1371/journal.pone.0201042                                                                                         </td><td>\n",
       "Acute &lt;em&gt;alcohol&lt;/em&gt; administration can lead to a loss of control over drinking. Several models argue</td></tr>\n",
       "\t<tr><td>10.1371/journal.pone.0185457                                                                                                                                 </td><td><span style=white-space:pre-wrap>Objectives: &lt;em&gt;Alcohol&lt;/em&gt;-related morbidity and mortality are significant public health issues        </span></td></tr>\n",
       "</tbody>\n",
       "</table>\n"
      ],
      "text/latex": [
       "\\begin{tabular}{r|ll}\n",
       " names & abstract\\\\\n",
       "\\hline\n",
       "\t 10.1371/journal.pone.0201042                                                                              & \n",
       "Acute <em>alcohol</em> administration can lead to a loss of control over drinking. Several models argue\\\\\n",
       "\t 10.1371/journal.pone.0185457                                                                              & Objectives: <em>Alcohol</em>-related morbidity and mortality are significant public health issues        \\\\\n",
       "\\end{tabular}\n"
      ],
      "text/markdown": [
       "\n",
       "names | abstract | \n",
       "|---|---|\n",
       "| 10.1371/journal.pone.0201042                                                                              | \n",
       "Acute <em>alcohol</em> administration can lead to a loss of control over drinking. Several models argue | \n",
       "| 10.1371/journal.pone.0185457                                                                              | Objectives: <em>Alcohol</em>-related morbidity and mortality are significant public health issues         | \n",
       "\n",
       "\n"
      ],
      "text/plain": [
       "  names                       \n",
       "1 10.1371/journal.pone.0201042\n",
       "2 10.1371/journal.pone.0185457\n",
       "  abstract                                                                                                 \n",
       "1 \\nAcute <em>alcohol</em> administration can lead to a loss of control over drinking. Several models argue\n",
       "2 Objectives: <em>Alcohol</em>-related morbidity and mortality are significant public health issues        "
      ]
     },
     "metadata": {},
     "output_type": "display_data"
    }
   ],
   "source": [
    "cli$highlight(params = list(q='alcohol', hl.fl = 'abstract', rows=2))"
   ]
  },
  {
   "cell_type": "code",
   "execution_count": 10,
   "metadata": {},
   "outputs": [],
   "source": [
    "out <- cli$stats(params = list(q='ecology', stats.field=c('counter_total_all','alm_twitterCount'), stats.facet='journal'))"
   ]
  },
  {
   "cell_type": "code",
   "execution_count": 11,
   "metadata": {},
   "outputs": [
    {
     "data": {
      "text/html": [
       "<dl>\n",
       "\t<dt>$data</dt>\n",
       "\t\t<dd><table>\n",
       "<thead><tr><th></th><th scope=col>min</th><th scope=col>max</th><th scope=col>count</th><th scope=col>missing</th><th scope=col>sum</th><th scope=col>sumOfSquares</th><th scope=col>mean</th><th scope=col>stddev</th></tr></thead>\n",
       "<tbody>\n",
       "\t<tr><th scope=row>counter_total_all</th><td>0           </td><td>1322780     </td><td>47226       </td><td>0           </td><td>263688870   </td><td>1.119526e+13</td><td>5583.552916 </td><td>14348.70574 </td></tr>\n",
       "\t<tr><th scope=row>alm_twitterCount</th><td>0           </td><td>   3438     </td><td>47226       </td><td>0           </td><td>   304235   </td><td>8.148536e+07</td><td>   6.442108 </td><td>   41.03619 </td></tr>\n",
       "</tbody>\n",
       "</table>\n",
       "</dd>\n",
       "\t<dt>$facet</dt>\n",
       "\t\t<dd><dl>\n",
       "\t<dt>$counter_total_all</dt>\n",
       "\t\t<dd><table>\n",
       "<thead><tr><th scope=col>journal</th><th scope=col>min</th><th scope=col>max</th><th scope=col>count</th><th scope=col>missing</th><th scope=col>sum</th><th scope=col>sumOfSquares</th><th scope=col>mean</th><th scope=col>stddev</th></tr></thead>\n",
       "<tbody>\n",
       "\t<tr><td>1           </td><td>   0        </td><td> 391184     </td><td> 1204       </td><td>0           </td><td> 22011521   </td><td>1.250949e+12</td><td>18281.994   </td><td>26558.397   </td></tr>\n",
       "\t<tr><td>2           </td><td>   0        </td><td> 270034     </td><td>  318       </td><td>0           </td><td>  6608289   </td><td>4.000626e+11</td><td>20780.783   </td><td>28789.304   </td></tr>\n",
       "\t<tr><td>3           </td><td>1354        </td><td> 221758     </td><td> 1249       </td><td>0           </td><td>  9088713   </td><td>2.278149e+11</td><td> 7276.792   </td><td>11381.997   </td></tr>\n",
       "\t<tr><td>4           </td><td>9348        </td><td>  18512     </td><td>    2       </td><td>0           </td><td>    27860   </td><td>4.300792e+08</td><td>13930.000   </td><td> 6479.927   </td></tr>\n",
       "\t<tr><td>5           </td><td>   0        </td><td> 887162     </td><td>39509       </td><td>0           </td><td>187617267   </td><td>6.833412e+12</td><td> 4748.722   </td><td>12264.250   </td></tr>\n",
       "\t<tr><td>6           </td><td>   0        </td><td> 138374     </td><td>  854       </td><td>0           </td><td>  7817990   </td><td>1.450356e+11</td><td> 9154.555   </td><td> 9280.402   </td></tr>\n",
       "\t<tr><td>7           </td><td>   0        </td><td> 153848     </td><td> 1052       </td><td>0           </td><td> 10214011   </td><td>1.993430e+11</td><td> 9709.136   </td><td> 9762.830   </td></tr>\n",
       "\t<tr><td>8           </td><td>   0        </td><td> 323752     </td><td> 2114       </td><td>0           </td><td> 11826819   </td><td>2.438179e+11</td><td> 5594.522   </td><td> 9169.294   </td></tr>\n",
       "\t<tr><td>9           </td><td>   0        </td><td>1322780     </td><td>  924       </td><td>0           </td><td>  8476400   </td><td>1.894391e+12</td><td> 9173.593   </td><td>44364.203   </td></tr>\n",
       "</tbody>\n",
       "</table>\n",
       "</dd>\n",
       "\t<dt>$alm_twitterCount</dt>\n",
       "\t\t<dd><table>\n",
       "<thead><tr><th scope=col>journal</th><th scope=col>min</th><th scope=col>max</th><th scope=col>count</th><th scope=col>missing</th><th scope=col>sum</th><th scope=col>sumOfSquares</th><th scope=col>mean</th><th scope=col>stddev</th></tr></thead>\n",
       "<tbody>\n",
       "\t<tr><td>1        </td><td>0        </td><td>2142     </td><td> 1204    </td><td>0        </td><td> 39045   </td><td>15091795 </td><td>32.429402</td><td>107.20351</td></tr>\n",
       "\t<tr><td>2        </td><td>0        </td><td> 831     </td><td>  318    </td><td>0        </td><td>  5826   </td><td> 1217690 </td><td>18.320755</td><td> 59.19953</td></tr>\n",
       "\t<tr><td>3        </td><td>0        </td><td> 455     </td><td> 1249    </td><td>0        </td><td>  7368   </td><td>  576290 </td><td> 5.899119</td><td> 20.66261</td></tr>\n",
       "\t<tr><td>4        </td><td>0        </td><td>   3     </td><td>    2    </td><td>0        </td><td>     3   </td><td>       9 </td><td> 1.500000</td><td>  2.12132</td></tr>\n",
       "\t<tr><td>5        </td><td>0        </td><td>3438     </td><td>39509    </td><td>0        </td><td>211664   </td><td>60964300 </td><td> 5.357362</td><td> 38.91511</td></tr>\n",
       "\t<tr><td>6        </td><td>0        </td><td> 250     </td><td>  854    </td><td>0        </td><td>  8476   </td><td>  414748 </td><td> 9.925059</td><td> 19.68757</td></tr>\n",
       "\t<tr><td>7        </td><td>0        </td><td> 230     </td><td> 1052    </td><td>0        </td><td>  9237   </td><td>  461117 </td><td> 8.780418</td><td> 19.01505</td></tr>\n",
       "\t<tr><td>8        </td><td>0        </td><td> 968     </td><td> 2114    </td><td>0        </td><td> 11804   </td><td> 1555638 </td><td> 5.583728</td><td> 26.55239</td></tr>\n",
       "\t<tr><td>9        </td><td>0        </td><td> 578     </td><td>  924    </td><td>0        </td><td> 10812   </td><td> 1203770 </td><td>11.701299</td><td> 34.16320</td></tr>\n",
       "</tbody>\n",
       "</table>\n",
       "</dd>\n",
       "</dl>\n",
       "</dd>\n",
       "</dl>\n"
      ],
      "text/latex": [
       "\\begin{description}\n",
       "\\item[\\$data] \\begin{tabular}{r|llllllll}\n",
       "  & min & max & count & missing & sum & sumOfSquares & mean & stddev\\\\\n",
       "\\hline\n",
       "\tcounter\\_total\\_all & 0            & 1322780      & 47226        & 0            & 263688870    & 1.119526e+13 & 5583.552916  & 14348.70574 \\\\\n",
       "\talm\\_twitterCount & 0            &    3438      & 47226        & 0            &    304235    & 8.148536e+07 &    6.442108  &    41.03619 \\\\\n",
       "\\end{tabular}\n",
       "\n",
       "\\item[\\$facet] \\begin{description}\n",
       "\\item[\\$counter\\_total\\_all] \\begin{tabular}{r|lllllllll}\n",
       " journal & min & max & count & missing & sum & sumOfSquares & mean & stddev\\\\\n",
       "\\hline\n",
       "\t 1            &    0         &  391184      &  1204        & 0            &  22011521    & 1.250949e+12 & 18281.994    & 26558.397   \\\\\n",
       "\t 2            &    0         &  270034      &   318        & 0            &   6608289    & 4.000626e+11 & 20780.783    & 28789.304   \\\\\n",
       "\t 3            & 1354         &  221758      &  1249        & 0            &   9088713    & 2.278149e+11 &  7276.792    & 11381.997   \\\\\n",
       "\t 4            & 9348         &   18512      &     2        & 0            &     27860    & 4.300792e+08 & 13930.000    &  6479.927   \\\\\n",
       "\t 5            &    0         &  887162      & 39509        & 0            & 187617267    & 6.833412e+12 &  4748.722    & 12264.250   \\\\\n",
       "\t 6            &    0         &  138374      &   854        & 0            &   7817990    & 1.450356e+11 &  9154.555    &  9280.402   \\\\\n",
       "\t 7            &    0         &  153848      &  1052        & 0            &  10214011    & 1.993430e+11 &  9709.136    &  9762.830   \\\\\n",
       "\t 8            &    0         &  323752      &  2114        & 0            &  11826819    & 2.438179e+11 &  5594.522    &  9169.294   \\\\\n",
       "\t 9            &    0         & 1322780      &   924        & 0            &   8476400    & 1.894391e+12 &  9173.593    & 44364.203   \\\\\n",
       "\\end{tabular}\n",
       "\n",
       "\\item[\\$alm\\_twitterCount] \\begin{tabular}{r|lllllllll}\n",
       " journal & min & max & count & missing & sum & sumOfSquares & mean & stddev\\\\\n",
       "\\hline\n",
       "\t 1         & 0         & 2142      &  1204     & 0         &  39045    & 15091795  & 32.429402 & 107.20351\\\\\n",
       "\t 2         & 0         &  831      &   318     & 0         &   5826    &  1217690  & 18.320755 &  59.19953\\\\\n",
       "\t 3         & 0         &  455      &  1249     & 0         &   7368    &   576290  &  5.899119 &  20.66261\\\\\n",
       "\t 4         & 0         &    3      &     2     & 0         &      3    &        9  &  1.500000 &   2.12132\\\\\n",
       "\t 5         & 0         & 3438      & 39509     & 0         & 211664    & 60964300  &  5.357362 &  38.91511\\\\\n",
       "\t 6         & 0         &  250      &   854     & 0         &   8476    &   414748  &  9.925059 &  19.68757\\\\\n",
       "\t 7         & 0         &  230      &  1052     & 0         &   9237    &   461117  &  8.780418 &  19.01505\\\\\n",
       "\t 8         & 0         &  968      &  2114     & 0         &  11804    &  1555638  &  5.583728 &  26.55239\\\\\n",
       "\t 9         & 0         &  578      &   924     & 0         &  10812    &  1203770  & 11.701299 &  34.16320\\\\\n",
       "\\end{tabular}\n",
       "\n",
       "\\end{description}\n",
       "\n",
       "\\end{description}\n"
      ],
      "text/markdown": [
       "$data\n",
       ":   \n",
       "| <!--/--> | min | max | count | missing | sum | sumOfSquares | mean | stddev | \n",
       "|---|---|\n",
       "| counter_total_all | 0            | 1322780      | 47226        | 0            | 263688870    | 1.119526e+13 | 5583.552916  | 14348.70574  | \n",
       "| alm_twitterCount | 0            |    3438      | 47226        | 0            |    304235    | 8.148536e+07 |    6.442108  |    41.03619  | \n",
       "\n",
       "\n",
       "\n",
       "$facet\n",
       ":   $counter_total_all\n",
       ":   \n",
       "journal | min | max | count | missing | sum | sumOfSquares | mean | stddev | \n",
       "|---|---|---|---|---|---|---|---|---|\n",
       "| 1            |    0         |  391184      |  1204        | 0            |  22011521    | 1.250949e+12 | 18281.994    | 26558.397    | \n",
       "| 2            |    0         |  270034      |   318        | 0            |   6608289    | 4.000626e+11 | 20780.783    | 28789.304    | \n",
       "| 3            | 1354         |  221758      |  1249        | 0            |   9088713    | 2.278149e+11 |  7276.792    | 11381.997    | \n",
       "| 4            | 9348         |   18512      |     2        | 0            |     27860    | 4.300792e+08 | 13930.000    |  6479.927    | \n",
       "| 5            |    0         |  887162      | 39509        | 0            | 187617267    | 6.833412e+12 |  4748.722    | 12264.250    | \n",
       "| 6            |    0         |  138374      |   854        | 0            |   7817990    | 1.450356e+11 |  9154.555    |  9280.402    | \n",
       "| 7            |    0         |  153848      |  1052        | 0            |  10214011    | 1.993430e+11 |  9709.136    |  9762.830    | \n",
       "| 8            |    0         |  323752      |  2114        | 0            |  11826819    | 2.438179e+11 |  5594.522    |  9169.294    | \n",
       "| 9            |    0         | 1322780      |   924        | 0            |   8476400    | 1.894391e+12 |  9173.593    | 44364.203    | \n",
       "\n",
       "\n",
       "\n",
       "$alm_twitterCount\n",
       ":   \n",
       "journal | min | max | count | missing | sum | sumOfSquares | mean | stddev | \n",
       "|---|---|---|---|---|---|---|---|---|\n",
       "| 1         | 0         | 2142      |  1204     | 0         |  39045    | 15091795  | 32.429402 | 107.20351 | \n",
       "| 2         | 0         |  831      |   318     | 0         |   5826    |  1217690  | 18.320755 |  59.19953 | \n",
       "| 3         | 0         |  455      |  1249     | 0         |   7368    |   576290  |  5.899119 |  20.66261 | \n",
       "| 4         | 0         |    3      |     2     | 0         |      3    |        9  |  1.500000 |   2.12132 | \n",
       "| 5         | 0         | 3438      | 39509     | 0         | 211664    | 60964300  |  5.357362 |  38.91511 | \n",
       "| 6         | 0         |  250      |   854     | 0         |   8476    |   414748  |  9.925059 |  19.68757 | \n",
       "| 7         | 0         |  230      |  1052     | 0         |   9237    |   461117  |  8.780418 |  19.01505 | \n",
       "| 8         | 0         |  968      |  2114     | 0         |  11804    |  1555638  |  5.583728 |  26.55239 | \n",
       "| 9         | 0         |  578      |   924     | 0         |  10812    |  1203770  | 11.701299 |  34.16320 | \n",
       "\n",
       "\n",
       "\n",
       "\n",
       "\n",
       "\n",
       "\n",
       "\n"
      ],
      "text/plain": [
       "$data\n",
       "                  min     max count missing       sum sumOfSquares        mean\n",
       "counter_total_all   0 1322780 47226       0 263688870 1.119526e+13 5583.552916\n",
       "alm_twitterCount    0    3438 47226       0    304235 8.148536e+07    6.442108\n",
       "                       stddev\n",
       "counter_total_all 14348.70574\n",
       "alm_twitterCount     41.03619\n",
       "\n",
       "$facet\n",
       "$facet$counter_total_all\n",
       "# A tibble: 9 x 9\n",
       "  journal   min     max count missing       sum  sumOfSquares   mean stddev\n",
       "  <chr>   <dbl>   <dbl> <int>   <int>     <dbl>         <dbl>  <dbl>  <dbl>\n",
       "1 1           0  391184  1204       0  22011521 1250948716861 18282. 26558.\n",
       "2 2           0  270034   318       0   6608289  400062632281 20781. 28789.\n",
       "3 3        1354  221758  1249       0   9088713  227814882055  7277. 11382.\n",
       "4 4        9348   18512     2       0     27860     430079248 13930   6480.\n",
       "5 5           0  887162 39509       0 187617267 6833412438985  4749. 12264.\n",
       "6 6           0  138374   854       0   7817990  145035575114  9155.  9280.\n",
       "7 7           0  153848  1052       0  10214011  199343023389  9709.  9763.\n",
       "8 8           0  323752  2114       0  11826819  243817900319  5595.  9169.\n",
       "9 9           0 1322780   924       0   8476400 1894391472058  9174. 44364.\n",
       "\n",
       "$facet$alm_twitterCount\n",
       "# A tibble: 9 x 9\n",
       "  journal   min   max count missing    sum sumOfSquares  mean stddev\n",
       "  <chr>   <dbl> <dbl> <int>   <int>  <dbl>        <dbl> <dbl>  <dbl>\n",
       "1 1           0  2142  1204       0  39045     15091795 32.4  107.  \n",
       "2 2           0   831   318       0   5826      1217690 18.3   59.2 \n",
       "3 3           0   455  1249       0   7368       576290  5.90  20.7 \n",
       "4 4           0     3     2       0      3            9  1.5    2.12\n",
       "5 5           0  3438 39509       0 211664     60964300  5.36  38.9 \n",
       "6 6           0   250   854       0   8476       414748  9.93  19.7 \n",
       "7 7           0   230  1052       0   9237       461117  8.78  19.0 \n",
       "8 8           0   968  2114       0  11804      1555638  5.58  26.6 \n",
       "9 9           0   578   924       0  10812      1203770 11.7   34.2 \n",
       "\n"
      ]
     },
     "metadata": {},
     "output_type": "display_data"
    }
   ],
   "source": [
    "out"
   ]
  },
  {
   "cell_type": "code",
   "execution_count": 12,
   "metadata": {},
   "outputs": [],
   "source": [
    "out2 <- cli$mlt(params = list(q='title:\"ecology\" AND body:\"cell\"', mlt.fl='title', mlt.mindf=1, mlt.mintf=1, fl='counter_total_all', rows=5))"
   ]
  },
  {
   "cell_type": "code",
   "execution_count": 13,
   "metadata": {},
   "outputs": [
    {
     "data": {
      "text/html": [
       "<dl>\n",
       "\t<dt>$data</dt>\n",
       "\t\t<dd><table>\n",
       "<thead><tr><th></th><th scope=col>min</th><th scope=col>max</th><th scope=col>count</th><th scope=col>missing</th><th scope=col>sum</th><th scope=col>sumOfSquares</th><th scope=col>mean</th><th scope=col>stddev</th></tr></thead>\n",
       "<tbody>\n",
       "\t<tr><th scope=row>counter_total_all</th><td>0           </td><td>1322780     </td><td>47226       </td><td>0           </td><td>263688870   </td><td>1.119526e+13</td><td>5583.552916 </td><td>14348.70574 </td></tr>\n",
       "\t<tr><th scope=row>alm_twitterCount</th><td>0           </td><td>   3438     </td><td>47226       </td><td>0           </td><td>   304235   </td><td>8.148536e+07</td><td>   6.442108 </td><td>   41.03619 </td></tr>\n",
       "</tbody>\n",
       "</table>\n",
       "</dd>\n",
       "\t<dt>$facet</dt>\n",
       "\t\t<dd><dl>\n",
       "\t<dt>$counter_total_all</dt>\n",
       "\t\t<dd><table>\n",
       "<thead><tr><th scope=col>journal</th><th scope=col>min</th><th scope=col>max</th><th scope=col>count</th><th scope=col>missing</th><th scope=col>sum</th><th scope=col>sumOfSquares</th><th scope=col>mean</th><th scope=col>stddev</th></tr></thead>\n",
       "<tbody>\n",
       "\t<tr><td>1           </td><td>   0        </td><td> 391184     </td><td> 1204       </td><td>0           </td><td> 22011521   </td><td>1.250949e+12</td><td>18281.994   </td><td>26558.397   </td></tr>\n",
       "\t<tr><td>2           </td><td>   0        </td><td> 270034     </td><td>  318       </td><td>0           </td><td>  6608289   </td><td>4.000626e+11</td><td>20780.783   </td><td>28789.304   </td></tr>\n",
       "\t<tr><td>3           </td><td>1354        </td><td> 221758     </td><td> 1249       </td><td>0           </td><td>  9088713   </td><td>2.278149e+11</td><td> 7276.792   </td><td>11381.997   </td></tr>\n",
       "\t<tr><td>4           </td><td>9348        </td><td>  18512     </td><td>    2       </td><td>0           </td><td>    27860   </td><td>4.300792e+08</td><td>13930.000   </td><td> 6479.927   </td></tr>\n",
       "\t<tr><td>5           </td><td>   0        </td><td> 887162     </td><td>39509       </td><td>0           </td><td>187617267   </td><td>6.833412e+12</td><td> 4748.722   </td><td>12264.250   </td></tr>\n",
       "\t<tr><td>6           </td><td>   0        </td><td> 138374     </td><td>  854       </td><td>0           </td><td>  7817990   </td><td>1.450356e+11</td><td> 9154.555   </td><td> 9280.402   </td></tr>\n",
       "\t<tr><td>7           </td><td>   0        </td><td> 153848     </td><td> 1052       </td><td>0           </td><td> 10214011   </td><td>1.993430e+11</td><td> 9709.136   </td><td> 9762.830   </td></tr>\n",
       "\t<tr><td>8           </td><td>   0        </td><td> 323752     </td><td> 2114       </td><td>0           </td><td> 11826819   </td><td>2.438179e+11</td><td> 5594.522   </td><td> 9169.294   </td></tr>\n",
       "\t<tr><td>9           </td><td>   0        </td><td>1322780     </td><td>  924       </td><td>0           </td><td>  8476400   </td><td>1.894391e+12</td><td> 9173.593   </td><td>44364.203   </td></tr>\n",
       "</tbody>\n",
       "</table>\n",
       "</dd>\n",
       "\t<dt>$alm_twitterCount</dt>\n",
       "\t\t<dd><table>\n",
       "<thead><tr><th scope=col>journal</th><th scope=col>min</th><th scope=col>max</th><th scope=col>count</th><th scope=col>missing</th><th scope=col>sum</th><th scope=col>sumOfSquares</th><th scope=col>mean</th><th scope=col>stddev</th></tr></thead>\n",
       "<tbody>\n",
       "\t<tr><td>1        </td><td>0        </td><td>2142     </td><td> 1204    </td><td>0        </td><td> 39045   </td><td>15091795 </td><td>32.429402</td><td>107.20351</td></tr>\n",
       "\t<tr><td>2        </td><td>0        </td><td> 831     </td><td>  318    </td><td>0        </td><td>  5826   </td><td> 1217690 </td><td>18.320755</td><td> 59.19953</td></tr>\n",
       "\t<tr><td>3        </td><td>0        </td><td> 455     </td><td> 1249    </td><td>0        </td><td>  7368   </td><td>  576290 </td><td> 5.899119</td><td> 20.66261</td></tr>\n",
       "\t<tr><td>4        </td><td>0        </td><td>   3     </td><td>    2    </td><td>0        </td><td>     3   </td><td>       9 </td><td> 1.500000</td><td>  2.12132</td></tr>\n",
       "\t<tr><td>5        </td><td>0        </td><td>3438     </td><td>39509    </td><td>0        </td><td>211664   </td><td>60964300 </td><td> 5.357362</td><td> 38.91511</td></tr>\n",
       "\t<tr><td>6        </td><td>0        </td><td> 250     </td><td>  854    </td><td>0        </td><td>  8476   </td><td>  414748 </td><td> 9.925059</td><td> 19.68757</td></tr>\n",
       "\t<tr><td>7        </td><td>0        </td><td> 230     </td><td> 1052    </td><td>0        </td><td>  9237   </td><td>  461117 </td><td> 8.780418</td><td> 19.01505</td></tr>\n",
       "\t<tr><td>8        </td><td>0        </td><td> 968     </td><td> 2114    </td><td>0        </td><td> 11804   </td><td> 1555638 </td><td> 5.583728</td><td> 26.55239</td></tr>\n",
       "\t<tr><td>9        </td><td>0        </td><td> 578     </td><td>  924    </td><td>0        </td><td> 10812   </td><td> 1203770 </td><td>11.701299</td><td> 34.16320</td></tr>\n",
       "</tbody>\n",
       "</table>\n",
       "</dd>\n",
       "</dl>\n",
       "</dd>\n",
       "</dl>\n"
      ],
      "text/latex": [
       "\\begin{description}\n",
       "\\item[\\$data] \\begin{tabular}{r|llllllll}\n",
       "  & min & max & count & missing & sum & sumOfSquares & mean & stddev\\\\\n",
       "\\hline\n",
       "\tcounter\\_total\\_all & 0            & 1322780      & 47226        & 0            & 263688870    & 1.119526e+13 & 5583.552916  & 14348.70574 \\\\\n",
       "\talm\\_twitterCount & 0            &    3438      & 47226        & 0            &    304235    & 8.148536e+07 &    6.442108  &    41.03619 \\\\\n",
       "\\end{tabular}\n",
       "\n",
       "\\item[\\$facet] \\begin{description}\n",
       "\\item[\\$counter\\_total\\_all] \\begin{tabular}{r|lllllllll}\n",
       " journal & min & max & count & missing & sum & sumOfSquares & mean & stddev\\\\\n",
       "\\hline\n",
       "\t 1            &    0         &  391184      &  1204        & 0            &  22011521    & 1.250949e+12 & 18281.994    & 26558.397   \\\\\n",
       "\t 2            &    0         &  270034      &   318        & 0            &   6608289    & 4.000626e+11 & 20780.783    & 28789.304   \\\\\n",
       "\t 3            & 1354         &  221758      &  1249        & 0            &   9088713    & 2.278149e+11 &  7276.792    & 11381.997   \\\\\n",
       "\t 4            & 9348         &   18512      &     2        & 0            &     27860    & 4.300792e+08 & 13930.000    &  6479.927   \\\\\n",
       "\t 5            &    0         &  887162      & 39509        & 0            & 187617267    & 6.833412e+12 &  4748.722    & 12264.250   \\\\\n",
       "\t 6            &    0         &  138374      &   854        & 0            &   7817990    & 1.450356e+11 &  9154.555    &  9280.402   \\\\\n",
       "\t 7            &    0         &  153848      &  1052        & 0            &  10214011    & 1.993430e+11 &  9709.136    &  9762.830   \\\\\n",
       "\t 8            &    0         &  323752      &  2114        & 0            &  11826819    & 2.438179e+11 &  5594.522    &  9169.294   \\\\\n",
       "\t 9            &    0         & 1322780      &   924        & 0            &   8476400    & 1.894391e+12 &  9173.593    & 44364.203   \\\\\n",
       "\\end{tabular}\n",
       "\n",
       "\\item[\\$alm\\_twitterCount] \\begin{tabular}{r|lllllllll}\n",
       " journal & min & max & count & missing & sum & sumOfSquares & mean & stddev\\\\\n",
       "\\hline\n",
       "\t 1         & 0         & 2142      &  1204     & 0         &  39045    & 15091795  & 32.429402 & 107.20351\\\\\n",
       "\t 2         & 0         &  831      &   318     & 0         &   5826    &  1217690  & 18.320755 &  59.19953\\\\\n",
       "\t 3         & 0         &  455      &  1249     & 0         &   7368    &   576290  &  5.899119 &  20.66261\\\\\n",
       "\t 4         & 0         &    3      &     2     & 0         &      3    &        9  &  1.500000 &   2.12132\\\\\n",
       "\t 5         & 0         & 3438      & 39509     & 0         & 211664    & 60964300  &  5.357362 &  38.91511\\\\\n",
       "\t 6         & 0         &  250      &   854     & 0         &   8476    &   414748  &  9.925059 &  19.68757\\\\\n",
       "\t 7         & 0         &  230      &  1052     & 0         &   9237    &   461117  &  8.780418 &  19.01505\\\\\n",
       "\t 8         & 0         &  968      &  2114     & 0         &  11804    &  1555638  &  5.583728 &  26.55239\\\\\n",
       "\t 9         & 0         &  578      &   924     & 0         &  10812    &  1203770  & 11.701299 &  34.16320\\\\\n",
       "\\end{tabular}\n",
       "\n",
       "\\end{description}\n",
       "\n",
       "\\end{description}\n"
      ],
      "text/markdown": [
       "$data\n",
       ":   \n",
       "| <!--/--> | min | max | count | missing | sum | sumOfSquares | mean | stddev | \n",
       "|---|---|\n",
       "| counter_total_all | 0            | 1322780      | 47226        | 0            | 263688870    | 1.119526e+13 | 5583.552916  | 14348.70574  | \n",
       "| alm_twitterCount | 0            |    3438      | 47226        | 0            |    304235    | 8.148536e+07 |    6.442108  |    41.03619  | \n",
       "\n",
       "\n",
       "\n",
       "$facet\n",
       ":   $counter_total_all\n",
       ":   \n",
       "journal | min | max | count | missing | sum | sumOfSquares | mean | stddev | \n",
       "|---|---|---|---|---|---|---|---|---|\n",
       "| 1            |    0         |  391184      |  1204        | 0            |  22011521    | 1.250949e+12 | 18281.994    | 26558.397    | \n",
       "| 2            |    0         |  270034      |   318        | 0            |   6608289    | 4.000626e+11 | 20780.783    | 28789.304    | \n",
       "| 3            | 1354         |  221758      |  1249        | 0            |   9088713    | 2.278149e+11 |  7276.792    | 11381.997    | \n",
       "| 4            | 9348         |   18512      |     2        | 0            |     27860    | 4.300792e+08 | 13930.000    |  6479.927    | \n",
       "| 5            |    0         |  887162      | 39509        | 0            | 187617267    | 6.833412e+12 |  4748.722    | 12264.250    | \n",
       "| 6            |    0         |  138374      |   854        | 0            |   7817990    | 1.450356e+11 |  9154.555    |  9280.402    | \n",
       "| 7            |    0         |  153848      |  1052        | 0            |  10214011    | 1.993430e+11 |  9709.136    |  9762.830    | \n",
       "| 8            |    0         |  323752      |  2114        | 0            |  11826819    | 2.438179e+11 |  5594.522    |  9169.294    | \n",
       "| 9            |    0         | 1322780      |   924        | 0            |   8476400    | 1.894391e+12 |  9173.593    | 44364.203    | \n",
       "\n",
       "\n",
       "\n",
       "$alm_twitterCount\n",
       ":   \n",
       "journal | min | max | count | missing | sum | sumOfSquares | mean | stddev | \n",
       "|---|---|---|---|---|---|---|---|---|\n",
       "| 1         | 0         | 2142      |  1204     | 0         |  39045    | 15091795  | 32.429402 | 107.20351 | \n",
       "| 2         | 0         |  831      |   318     | 0         |   5826    |  1217690  | 18.320755 |  59.19953 | \n",
       "| 3         | 0         |  455      |  1249     | 0         |   7368    |   576290  |  5.899119 |  20.66261 | \n",
       "| 4         | 0         |    3      |     2     | 0         |      3    |        9  |  1.500000 |   2.12132 | \n",
       "| 5         | 0         | 3438      | 39509     | 0         | 211664    | 60964300  |  5.357362 |  38.91511 | \n",
       "| 6         | 0         |  250      |   854     | 0         |   8476    |   414748  |  9.925059 |  19.68757 | \n",
       "| 7         | 0         |  230      |  1052     | 0         |   9237    |   461117  |  8.780418 |  19.01505 | \n",
       "| 8         | 0         |  968      |  2114     | 0         |  11804    |  1555638  |  5.583728 |  26.55239 | \n",
       "| 9         | 0         |  578      |   924     | 0         |  10812    |  1203770  | 11.701299 |  34.16320 | \n",
       "\n",
       "\n",
       "\n",
       "\n",
       "\n",
       "\n",
       "\n",
       "\n"
      ],
      "text/plain": [
       "$data\n",
       "                  min     max count missing       sum sumOfSquares        mean\n",
       "counter_total_all   0 1322780 47226       0 263688870 1.119526e+13 5583.552916\n",
       "alm_twitterCount    0    3438 47226       0    304235 8.148536e+07    6.442108\n",
       "                       stddev\n",
       "counter_total_all 14348.70574\n",
       "alm_twitterCount     41.03619\n",
       "\n",
       "$facet\n",
       "$facet$counter_total_all\n",
       "# A tibble: 9 x 9\n",
       "  journal   min     max count missing       sum  sumOfSquares   mean stddev\n",
       "  <chr>   <dbl>   <dbl> <int>   <int>     <dbl>         <dbl>  <dbl>  <dbl>\n",
       "1 1           0  391184  1204       0  22011521 1250948716861 18282. 26558.\n",
       "2 2           0  270034   318       0   6608289  400062632281 20781. 28789.\n",
       "3 3        1354  221758  1249       0   9088713  227814882055  7277. 11382.\n",
       "4 4        9348   18512     2       0     27860     430079248 13930   6480.\n",
       "5 5           0  887162 39509       0 187617267 6833412438985  4749. 12264.\n",
       "6 6           0  138374   854       0   7817990  145035575114  9155.  9280.\n",
       "7 7           0  153848  1052       0  10214011  199343023389  9709.  9763.\n",
       "8 8           0  323752  2114       0  11826819  243817900319  5595.  9169.\n",
       "9 9           0 1322780   924       0   8476400 1894391472058  9174. 44364.\n",
       "\n",
       "$facet$alm_twitterCount\n",
       "# A tibble: 9 x 9\n",
       "  journal   min   max count missing    sum sumOfSquares  mean stddev\n",
       "  <chr>   <dbl> <dbl> <int>   <int>  <dbl>        <dbl> <dbl>  <dbl>\n",
       "1 1           0  2142  1204       0  39045     15091795 32.4  107.  \n",
       "2 2           0   831   318       0   5826      1217690 18.3   59.2 \n",
       "3 3           0   455  1249       0   7368       576290  5.90  20.7 \n",
       "4 4           0     3     2       0      3            9  1.5    2.12\n",
       "5 5           0  3438 39509       0 211664     60964300  5.36  38.9 \n",
       "6 6           0   250   854       0   8476       414748  9.93  19.7 \n",
       "7 7           0   230  1052       0   9237       461117  8.78  19.0 \n",
       "8 8           0   968  2114       0  11804      1555638  5.58  26.6 \n",
       "9 9           0   578   924       0  10812      1203770 11.7   34.2 \n",
       "\n"
      ]
     },
     "metadata": {},
     "output_type": "display_data"
    }
   ],
   "source": [
    "out"
   ]
  },
  {
   "cell_type": "code",
   "execution_count": 16,
   "metadata": {},
   "outputs": [
    {
     "data": {
      "text/html": [
       "<table>\n",
       "<thead><tr><th scope=col>names</th><th scope=col>abstract</th></tr></thead>\n",
       "<tbody>\n",
       "\t<tr><td>10.1371/journal.pone.0201042                                                                                         </td><td>\n",
       "Acute &lt;em&gt;alcohol&lt;/em&gt; administration can lead to a loss of control over drinking. Several models argue</td></tr>\n",
       "\t<tr><td>10.1371/journal.pone.0185457                                                                                                                                 </td><td><span style=white-space:pre-wrap>Objectives: &lt;em&gt;Alcohol&lt;/em&gt;-related morbidity and mortality are significant public health issues        </span></td></tr>\n",
       "</tbody>\n",
       "</table>\n"
      ],
      "text/latex": [
       "\\begin{tabular}{r|ll}\n",
       " names & abstract\\\\\n",
       "\\hline\n",
       "\t 10.1371/journal.pone.0201042                                                                              & \n",
       "Acute <em>alcohol</em> administration can lead to a loss of control over drinking. Several models argue\\\\\n",
       "\t 10.1371/journal.pone.0185457                                                                              & Objectives: <em>Alcohol</em>-related morbidity and mortality are significant public health issues        \\\\\n",
       "\\end{tabular}\n"
      ],
      "text/markdown": [
       "\n",
       "names | abstract | \n",
       "|---|---|\n",
       "| 10.1371/journal.pone.0201042                                                                              | \n",
       "Acute <em>alcohol</em> administration can lead to a loss of control over drinking. Several models argue | \n",
       "| 10.1371/journal.pone.0185457                                                                              | Objectives: <em>Alcohol</em>-related morbidity and mortality are significant public health issues         | \n",
       "\n",
       "\n"
      ],
      "text/plain": [
       "  names                       \n",
       "1 10.1371/journal.pone.0201042\n",
       "2 10.1371/journal.pone.0185457\n",
       "  abstract                                                                                                 \n",
       "1 \\nAcute <em>alcohol</em> administration can lead to a loss of control over drinking. Several models argue\n",
       "2 Objectives: <em>Alcohol</em>-related morbidity and mortality are significant public health issues        "
      ]
     },
     "metadata": {},
     "output_type": "display_data"
    }
   ],
   "source": [
    "out <- cli$highlight(params = list(q='alcohol', hl.fl = 'abstract', rows=2))\n",
    "out"
   ]
  },
  {
   "cell_type": "code",
   "execution_count": 36,
   "metadata": {},
   "outputs": [
    {
     "data": {
      "text/html": [
       "<table>\n",
       "<thead><tr><th scope=col>id</th><th scope=col>title</th></tr></thead>\n",
       "<tbody>\n",
       "\t<tr><td>10.1371/journal.pmed.0020124                                                                                          </td><td>Why Most Published Research Findings Are False                                                                        </td></tr>\n",
       "\t<tr><td>10.1371/journal.pone.0141854                                                                                          </td><td>A Multi-Level Bayesian Analysis of Racial Bias in Police Shootings at the County-Level in the United States, 2011–2014</td></tr>\n",
       "\t<tr><td>10.1371/journal.pcbi.1005619                                                                                          </td><td>Ten simple rules for structuring papers                                                                               </td></tr>\n",
       "\t<tr><td>10.1371/journal.pone.0016885                                                                                          </td><td>Long-Term Follow-Up of Transsexual Persons Undergoing Sex Reassignment Surgery: Cohort Study in Sweden                </td></tr>\n",
       "\t<tr><td>10.1371/journal.pone.0185809                                                                                          </td><td>More than 75 percent decline over 27 years in total flying insect biomass in protected areas                          </td></tr>\n",
       "</tbody>\n",
       "</table>\n"
      ],
      "text/latex": [
       "\\begin{tabular}{r|ll}\n",
       " id & title\\\\\n",
       "\\hline\n",
       "\t 10.1371/journal.pmed.0020124                                                                                           & Why Most Published Research Findings Are False                                                                        \\\\\n",
       "\t 10.1371/journal.pone.0141854                                                                                           & A Multi-Level Bayesian Analysis of Racial Bias in Police Shootings at the County-Level in the United States, 2011–2014\\\\\n",
       "\t 10.1371/journal.pcbi.1005619                                                                                           & Ten simple rules for structuring papers                                                                               \\\\\n",
       "\t 10.1371/journal.pone.0016885                                                                                           & Long-Term Follow-Up of Transsexual Persons Undergoing Sex Reassignment Surgery: Cohort Study in Sweden                \\\\\n",
       "\t 10.1371/journal.pone.0185809                                                                                           & More than 75 percent decline over 27 years in total flying insect biomass in protected areas                          \\\\\n",
       "\\end{tabular}\n"
      ],
      "text/markdown": [
       "\n",
       "id | title | \n",
       "|---|---|---|---|---|\n",
       "| 10.1371/journal.pmed.0020124                                                                                           | Why Most Published Research Findings Are False                                                                         | \n",
       "| 10.1371/journal.pone.0141854                                                                                           | A Multi-Level Bayesian Analysis of Racial Bias in Police Shootings at the County-Level in the United States, 2011–2014 | \n",
       "| 10.1371/journal.pcbi.1005619                                                                                           | Ten simple rules for structuring papers                                                                                | \n",
       "| 10.1371/journal.pone.0016885                                                                                           | Long-Term Follow-Up of Transsexual Persons Undergoing Sex Reassignment Surgery: Cohort Study in Sweden                 | \n",
       "| 10.1371/journal.pone.0185809                                                                                           | More than 75 percent decline over 27 years in total flying insect biomass in protected areas                           | \n",
       "\n",
       "\n"
      ],
      "text/plain": [
       "  id                          \n",
       "1 10.1371/journal.pmed.0020124\n",
       "2 10.1371/journal.pone.0141854\n",
       "3 10.1371/journal.pcbi.1005619\n",
       "4 10.1371/journal.pone.0016885\n",
       "5 10.1371/journal.pone.0185809\n",
       "  title                                                                                                                 \n",
       "1 Why Most Published Research Findings Are False                                                                        \n",
       "2 A Multi-Level Bayesian Analysis of Racial Bias in Police Shootings at the County-Level in the United States, 2011–2014\n",
       "3 Ten simple rules for structuring papers                                                                               \n",
       "4 Long-Term Follow-Up of Transsexual Persons Undergoing Sex Reassignment Surgery: Cohort Study in Sweden                \n",
       "5 More than 75 percent decline over 27 years in total flying insect biomass in protected areas                          "
      ]
     },
     "metadata": {},
     "output_type": "display_data"
    }
   ],
   "source": [
    "cli$search(params = list(q='_val_:\"product(counter_total_all,alm_twitterCount)\"',\n",
    "  rows=5, fl='id,title', fq='doc_type:full'))"
   ]
  },
  {
   "cell_type": "code",
   "execution_count": 37,
   "metadata": {},
   "outputs": [
    {
     "data": {
      "text/html": [
       "<table>\n",
       "<thead><tr><th scope=col>id</th><th scope=col>counter_total_all</th></tr></thead>\n",
       "<tbody>\n",
       "\t<tr><td>10.1371/journal.pmed.0020124                           </td><td>2728832                                                </td></tr>\n",
       "\t<tr><td>10.1371/journal.pcbi.1003149                           </td><td>1322780                                                </td></tr>\n",
       "\t<tr><td>10.1371/annotation/80bd7285-9d2d-403a-8e6f-9c375bf977ca</td><td>1235195                                                </td></tr>\n",
       "\t<tr><td>10.1371/journal.pone.0141854                           </td><td> 887162                                                </td></tr>\n",
       "\t<tr><td>10.1371/journal.pcbi.0030102                           </td><td> 872604                                                </td></tr>\n",
       "</tbody>\n",
       "</table>\n"
      ],
      "text/latex": [
       "\\begin{tabular}{r|ll}\n",
       " id & counter\\_total\\_all\\\\\n",
       "\\hline\n",
       "\t 10.1371/journal.pmed.0020124                            & 2728832                                                \\\\\n",
       "\t 10.1371/journal.pcbi.1003149                            & 1322780                                                \\\\\n",
       "\t 10.1371/annotation/80bd7285-9d2d-403a-8e6f-9c375bf977ca & 1235195                                                \\\\\n",
       "\t 10.1371/journal.pone.0141854                            &  887162                                                \\\\\n",
       "\t 10.1371/journal.pcbi.0030102                            &  872604                                                \\\\\n",
       "\\end{tabular}\n"
      ],
      "text/markdown": [
       "\n",
       "id | counter_total_all | \n",
       "|---|---|---|---|---|\n",
       "| 10.1371/journal.pmed.0020124                            | 2728832                                                 | \n",
       "| 10.1371/journal.pcbi.1003149                            | 1322780                                                 | \n",
       "| 10.1371/annotation/80bd7285-9d2d-403a-8e6f-9c375bf977ca | 1235195                                                 | \n",
       "| 10.1371/journal.pone.0141854                            |  887162                                                 | \n",
       "| 10.1371/journal.pcbi.0030102                            |  872604                                                 | \n",
       "\n",
       "\n"
      ],
      "text/plain": [
       "  id                                                      counter_total_all\n",
       "1 10.1371/journal.pmed.0020124                            2728832          \n",
       "2 10.1371/journal.pcbi.1003149                            1322780          \n",
       "3 10.1371/annotation/80bd7285-9d2d-403a-8e6f-9c375bf977ca 1235195          \n",
       "4 10.1371/journal.pone.0141854                             887162          \n",
       "5 10.1371/journal.pcbi.0030102                             872604          "
      ]
     },
     "metadata": {},
     "output_type": "display_data"
    }
   ],
   "source": [
    "cli$search(params = list(q='_val_:\"max(counter_total_all)\"',\n",
    "    rows=5, fl='id,counter_total_all', fq='doc_type:full'))"
   ]
  },
  {
   "cell_type": "code",
   "execution_count": 38,
   "metadata": {},
   "outputs": [
    {
     "data": {
      "text/html": [
       "<table>\n",
       "<thead><tr><th scope=col>decimalLongitude</th><th scope=col>scientificName</th><th scope=col>decimalLatitude</th></tr></thead>\n",
       "<tbody>\n",
       "\t<tr><td>-75.41667                  </td><td>Setophaga coronata coronata</td><td>37.91667                   </td></tr>\n",
       "\t<tr><td>-75.41667                  </td><td>Setophaga coronata coronata</td><td>37.91667                   </td></tr>\n",
       "</tbody>\n",
       "</table>\n"
      ],
      "text/latex": [
       "\\begin{tabular}{r|lll}\n",
       " decimalLongitude & scientificName & decimalLatitude\\\\\n",
       "\\hline\n",
       "\t -75.41667                   & Setophaga coronata coronata & 37.91667                   \\\\\n",
       "\t -75.41667                   & Setophaga coronata coronata & 37.91667                   \\\\\n",
       "\\end{tabular}\n"
      ],
      "text/markdown": [
       "\n",
       "decimalLongitude | scientificName | decimalLatitude | \n",
       "|---|---|\n",
       "| -75.41667                   | Setophaga coronata coronata | 37.91667                    | \n",
       "| -75.41667                   | Setophaga coronata coronata | 37.91667                    | \n",
       "\n",
       "\n"
      ],
      "text/plain": [
       "  decimalLongitude scientificName              decimalLatitude\n",
       "1 -75.41667        Setophaga coronata coronata 37.91667       \n",
       "2 -75.41667        Setophaga coronata coronata 37.91667       "
      ]
     },
     "metadata": {},
     "output_type": "display_data"
    }
   ],
   "source": [
    "conn <- SolrClient$new(scheme = \"https\", host = \"bison.usgs.gov\", path = \"solr/occurrences/select\", port = NULL)\n",
    "conn$search(params = list(q = '*:*', fl = c('decimalLatitude','decimalLongitude','scientificName'), rows = 2))\n"
   ]
  },
  {
   "cell_type": "code",
   "execution_count": 39,
   "metadata": {},
   "outputs": [
    {
     "data": {
      "text/html": [
       "<table>\n",
       "<thead><tr><th scope=col>scientificName</th><th scope=col>_version_</th></tr></thead>\n",
       "<tbody>\n",
       "\t<tr><td>Dictyopteris polypodioides</td><td>1.565325e+18              </td></tr>\n",
       "\t<tr><td>Lonicera iberica          </td><td>1.565325e+18              </td></tr>\n",
       "\t<tr><td>Epuraea ambigua           </td><td>1.565325e+18              </td></tr>\n",
       "\t<tr><td>Pseudopomala brachyptera  </td><td>1.565325e+18              </td></tr>\n",
       "\t<tr><td>Didymosphaeria populina   </td><td>1.565325e+18              </td></tr>\n",
       "\t<tr><td>Sanoarca                  </td><td>1.565325e+18              </td></tr>\n",
       "\t<tr><td>Celleporina ventricosa    </td><td>1.565325e+18              </td></tr>\n",
       "\t<tr><td>Trigonurus crotchi        </td><td>1.565325e+18              </td></tr>\n",
       "\t<tr><td>Ceraticelus laticeps      </td><td>1.565325e+18              </td></tr>\n",
       "\t<tr><td>Micraster acutus          </td><td>1.565325e+18              </td></tr>\n",
       "</tbody>\n",
       "</table>\n"
      ],
      "text/latex": [
       "\\begin{tabular}{r|ll}\n",
       " scientificName & \\_version\\_\\\\\n",
       "\\hline\n",
       "\t Dictyopteris polypodioides & 1.565325e+18              \\\\\n",
       "\t Lonicera iberica           & 1.565325e+18              \\\\\n",
       "\t Epuraea ambigua            & 1.565325e+18              \\\\\n",
       "\t Pseudopomala brachyptera   & 1.565325e+18              \\\\\n",
       "\t Didymosphaeria populina    & 1.565325e+18              \\\\\n",
       "\t Sanoarca                   & 1.565325e+18              \\\\\n",
       "\t Celleporina ventricosa     & 1.565325e+18              \\\\\n",
       "\t Trigonurus crotchi         & 1.565325e+18              \\\\\n",
       "\t Ceraticelus laticeps       & 1.565325e+18              \\\\\n",
       "\t Micraster acutus           & 1.565325e+18              \\\\\n",
       "\\end{tabular}\n"
      ],
      "text/markdown": [
       "\n",
       "scientificName | _version_ | \n",
       "|---|---|---|---|---|---|---|---|---|---|\n",
       "| Dictyopteris polypodioides | 1.565325e+18               | \n",
       "| Lonicera iberica           | 1.565325e+18               | \n",
       "| Epuraea ambigua            | 1.565325e+18               | \n",
       "| Pseudopomala brachyptera   | 1.565325e+18               | \n",
       "| Didymosphaeria populina    | 1.565325e+18               | \n",
       "| Sanoarca                   | 1.565325e+18               | \n",
       "| Celleporina ventricosa     | 1.565325e+18               | \n",
       "| Trigonurus crotchi         | 1.565325e+18               | \n",
       "| Ceraticelus laticeps       | 1.565325e+18               | \n",
       "| Micraster acutus           | 1.565325e+18               | \n",
       "\n",
       "\n"
      ],
      "text/plain": [
       "   scientificName             _version_   \n",
       "1  Dictyopteris polypodioides 1.565325e+18\n",
       "2  Lonicera iberica           1.565325e+18\n",
       "3  Epuraea ambigua            1.565325e+18\n",
       "4  Pseudopomala brachyptera   1.565325e+18\n",
       "5  Didymosphaeria populina    1.565325e+18\n",
       "6  Sanoarca                   1.565325e+18\n",
       "7  Celleporina ventricosa     1.565325e+18\n",
       "8  Trigonurus crotchi         1.565325e+18\n",
       "9  Ceraticelus laticeps       1.565325e+18\n",
       "10 Micraster acutus           1.565325e+18"
      ]
     },
     "metadata": {},
     "output_type": "display_data"
    }
   ],
   "source": [
    "conn <- SolrClient$new(scheme = \"https\", host = \"bison.usgs.gov\", path = \"solr/scientificName/select\", port = NULL)\n",
    "conn$search(params = list(q = '*:*'))"
   ]
  },
  {
   "cell_type": "code",
   "execution_count": null,
   "metadata": {},
   "outputs": [],
   "source": []
  }
 ],
 "metadata": {
  "kernelspec": {
   "display_name": "R",
   "language": "R",
   "name": "ir"
  },
  "language_info": {
   "codemirror_mode": "r",
   "file_extension": ".r",
   "mimetype": "text/x-r-source",
   "name": "R",
   "pygments_lexer": "r",
   "version": "3.5.1"
  },
  "toc": {
   "base_numbering": 1,
   "nav_menu": {},
   "number_sections": true,
   "sideBar": true,
   "skip_h1_title": false,
   "title_cell": "Table of Contents",
   "title_sidebar": "Contents",
   "toc_cell": false,
   "toc_position": {},
   "toc_section_display": true,
   "toc_window_display": false
  }
 },
 "nbformat": 4,
 "nbformat_minor": 2
}
