{
 "cells": [
  {
   "cell_type": "code",
   "execution_count": 24,
   "metadata": {},
   "outputs": [],
   "source": [
    "library(\"solrium\")"
   ]
  },
  {
   "cell_type": "code",
   "execution_count": 25,
   "metadata": {},
   "outputs": [
    {
     "data": {
      "text/plain": [
       "<Solr Client>\n",
       "  host: localhost\n",
       "  path: search\n",
       "  port: 8984\n",
       "  scheme: http\n",
       "  errors: complete\n",
       "  proxy:"
      ]
     },
     "metadata": {},
     "output_type": "display_data"
    }
   ],
   "source": [
    "(cli <- SolrClient$new(host = \"localhost\", path = \"search\", port = 8984 , errors = \"complete\"))\n"
   ]
  },
  {
   "cell_type": "code",
   "execution_count": 26,
   "metadata": {},
   "outputs": [],
   "source": [
    "if (!collection_exists(cli, \"books\")) {\n",
    "    collection_create(cli, name = \"books\", numShards = 0)\n",
    "}"
   ]
  },
  {
   "cell_type": "code",
   "execution_count": 27,
   "metadata": {},
   "outputs": [],
   "source": [
    "ss <- list(list(id = 1, price = 100), list(id = 2, price = 500))"
   ]
  },
  {
   "cell_type": "code",
   "execution_count": 28,
   "metadata": {},
   "outputs": [
    {
     "ename": "ERROR",
     "evalue": "Error: lexical error: invalid char in json text.\n                                       <html> <head> <meta http-equiv=\n                     (right here) ------^\n\n",
     "execution_count": 28,
     "output_type": "error",
     "traceback": [
      "Error: lexical error: invalid char in json text.\n                                       <html> <head> <meta http-equiv=\n                     (right here) ------^\n\nTraceback:\n",
      "1. add(ss, cli, name = \"books\")",
      "2. add.list(ss, cli, name = \"books\")",
      "3. conn$add(x, name, commit, commit_within, overwrite, boost, wt, \n .     raw, ...)",
      "4. obj_proc(self$make_url(), sprintf(\"solr/%s/update/json/docs\", \n .     name), x, args, raw, self$proxy, ...)",
      "5. structure(obj_POST(base, path, body, args, proxy, ...), class = \"update\", \n .     wt = args$wt)",
      "6. obj_POST(base, path, body, args, proxy, ...)",
      "7. get_response(tt)",
      "8. jsonlite::fromJSON(x$parse(\"UTF-8\"))",
      "9. fromJSON_string(txt = txt, simplifyVector = simplifyVector, simplifyDataFrame = simplifyDataFrame, \n .     simplifyMatrix = simplifyMatrix, flatten = flatten, ...)",
      "10. parseJSON(txt, bigint_as_char)",
      "11. parse_string(txt, bigint_as_char)"
     ]
    }
   ],
   "source": [
    "add(ss, cli, name = \"books\")"
   ]
  },
  {
   "cell_type": "code",
   "execution_count": 7,
   "metadata": {},
   "outputs": [
    {
     "data": {
      "text/html": [
       "'addrep_shard1_replica_n1'"
      ],
      "text/latex": [
       "'addrep\\_shard1\\_replica\\_n1'"
      ],
      "text/markdown": [
       "'addrep_shard1_replica_n1'"
      ],
      "text/plain": [
       "[1] \"addrep_shard1_replica_n1\""
      ]
     },
     "metadata": {},
     "output_type": "display_data"
    }
   ],
   "source": [
    "cores(conn)\n"
   ]
  },
  {
   "cell_type": "code",
   "execution_count": 8,
   "metadata": {},
   "outputs": [],
   "source": [
    "# create collection\n",
    "if (!conn$collection_exists(\"addrep\")) {\n",
    "conn$collection_create(name = \"addrep\", numShards = 1)\n",
    "# OR bin/solr create -c addrep\n",
    "}"
   ]
  },
  {
   "cell_type": "code",
   "execution_count": 9,
   "metadata": {},
   "outputs": [
    {
     "data": {
      "text/html": [
       "<strong>$shard1</strong> = <dl>\n",
       "\t<dt>$range</dt>\n",
       "\t\t<dd>'80000000-7fffffff'</dd>\n",
       "\t<dt>$state</dt>\n",
       "\t\t<dd>'active'</dd>\n",
       "\t<dt>$replicas</dt>\n",
       "\t\t<dd><strong>$core_node2</strong> = <dl>\n",
       "\t<dt>$core</dt>\n",
       "\t\t<dd>'addrep_shard1_replica_n1'</dd>\n",
       "\t<dt>$base_url</dt>\n",
       "\t\t<dd>'http://127.0.1.1:8984/solr'</dd>\n",
       "\t<dt>$node_name</dt>\n",
       "\t\t<dd>'127.0.1.1:8984_solr'</dd>\n",
       "\t<dt>$state</dt>\n",
       "\t\t<dd>'active'</dd>\n",
       "\t<dt>$type</dt>\n",
       "\t\t<dd>'NRT'</dd>\n",
       "\t<dt>$force_set_state</dt>\n",
       "\t\t<dd>'false'</dd>\n",
       "\t<dt>$leader</dt>\n",
       "\t\t<dd>'true'</dd>\n",
       "</dl>\n",
       "</dd>\n",
       "</dl>\n"
      ],
      "text/latex": [
       "\\textbf{\\$shard1} = \\begin{description}\n",
       "\\item[\\$range] '80000000-7fffffff'\n",
       "\\item[\\$state] 'active'\n",
       "\\item[\\$replicas] \\textbf{\\$core\\_node2} = \\begin{description}\n",
       "\\item[\\$core] 'addrep\\_shard1\\_replica\\_n1'\n",
       "\\item[\\$base\\_url] 'http://127.0.1.1:8984/solr'\n",
       "\\item[\\$node\\_name] '127.0.1.1:8984\\_solr'\n",
       "\\item[\\$state] 'active'\n",
       "\\item[\\$type] 'NRT'\n",
       "\\item[\\$force\\_set\\_state] 'false'\n",
       "\\item[\\$leader] 'true'\n",
       "\\end{description}\n",
       "\n",
       "\\end{description}\n"
      ],
      "text/markdown": [
       "**$shard1** = $range\n",
       ":   '80000000-7fffffff'\n",
       "$state\n",
       ":   'active'\n",
       "$replicas\n",
       ":   **$core_node2** = $core\n",
       ":   'addrep_shard1_replica_n1'\n",
       "$base_url\n",
       ":   'http://127.0.1.1:8984/solr'\n",
       "$node_name\n",
       ":   '127.0.1.1:8984_solr'\n",
       "$state\n",
       ":   'active'\n",
       "$type\n",
       ":   'NRT'\n",
       "$force_set_state\n",
       ":   'false'\n",
       "$leader\n",
       ":   'true'\n",
       "\n",
       "\n",
       "\n",
       "\n",
       "\n"
      ],
      "text/plain": [
       "$shard1\n",
       "$shard1$range\n",
       "[1] \"80000000-7fffffff\"\n",
       "\n",
       "$shard1$state\n",
       "[1] \"active\"\n",
       "\n",
       "$shard1$replicas\n",
       "$shard1$replicas$core_node2\n",
       "$shard1$replicas$core_node2$core\n",
       "[1] \"addrep_shard1_replica_n1\"\n",
       "\n",
       "$shard1$replicas$core_node2$base_url\n",
       "[1] \"http://127.0.1.1:8984/solr\"\n",
       "\n",
       "$shard1$replicas$core_node2$node_name\n",
       "[1] \"127.0.1.1:8984_solr\"\n",
       "\n",
       "$shard1$replicas$core_node2$state\n",
       "[1] \"active\"\n",
       "\n",
       "$shard1$replicas$core_node2$type\n",
       "[1] \"NRT\"\n",
       "\n",
       "$shard1$replicas$core_node2$force_set_state\n",
       "[1] \"false\"\n",
       "\n",
       "$shard1$replicas$core_node2$leader\n",
       "[1] \"true\"\n",
       "\n",
       "\n",
       "\n"
      ]
     },
     "metadata": {},
     "output_type": "display_data"
    }
   ],
   "source": [
    "conn$collection_clusterstatus()$cluster$collections$addrep$shards"
   ]
  },
  {
   "cell_type": "code",
   "execution_count": 29,
   "metadata": {},
   "outputs": [
    {
     "data": {
      "text/html": [
       "<strong>$responseHeader</strong> = <dl>\n",
       "\t<dt>$status</dt>\n",
       "\t\t<dd>0</dd>\n",
       "\t<dt>$QTime</dt>\n",
       "\t\t<dd>21</dd>\n",
       "</dl>\n"
      ],
      "text/latex": [
       "\\textbf{\\$responseHeader} = \\begin{description}\n",
       "\\item[\\$status] 0\n",
       "\\item[\\$QTime] 21\n",
       "\\end{description}\n"
      ],
      "text/markdown": [
       "**$responseHeader** = $status\n",
       ":   0\n",
       "$QTime\n",
       ":   21\n",
       "\n",
       "\n"
      ],
      "text/plain": [
       "$responseHeader\n",
       "$responseHeader$status\n",
       "[1] 0\n",
       "\n",
       "$responseHeader$QTime\n",
       "[1] 21\n",
       "\n"
      ]
     },
     "metadata": {},
     "output_type": "display_data"
    }
   ],
   "source": [
    "# add the value world to the property hello\n",
    "conn$collection_addreplicaprop(name = \"addrep\", shard = \"shard1\",\n",
    "replica = \"core_node1\", property = \"hello\", property.value = \"world\")"
   ]
  },
  {
   "cell_type": "code",
   "execution_count": 30,
   "metadata": {},
   "outputs": [
    {
     "data": {
      "text/html": [
       "<strong>$shard1</strong> = <dl>\n",
       "\t<dt>$range</dt>\n",
       "\t\t<dd>'80000000-7fffffff'</dd>\n",
       "\t<dt>$state</dt>\n",
       "\t\t<dd>'active'</dd>\n",
       "\t<dt>$replicas</dt>\n",
       "\t\t<dd><strong>$core_node2</strong> = <dl>\n",
       "\t<dt>$core</dt>\n",
       "\t\t<dd>'addrep_shard1_replica_n1'</dd>\n",
       "\t<dt>$base_url</dt>\n",
       "\t\t<dd>'http://127.0.1.1:8984/solr'</dd>\n",
       "\t<dt>$node_name</dt>\n",
       "\t\t<dd>'127.0.1.1:8984_solr'</dd>\n",
       "\t<dt>$state</dt>\n",
       "\t\t<dd>'active'</dd>\n",
       "\t<dt>$type</dt>\n",
       "\t\t<dd>'NRT'</dd>\n",
       "\t<dt>$force_set_state</dt>\n",
       "\t\t<dd>'false'</dd>\n",
       "\t<dt>$leader</dt>\n",
       "\t\t<dd>'true'</dd>\n",
       "</dl>\n",
       "</dd>\n",
       "</dl>\n"
      ],
      "text/latex": [
       "\\textbf{\\$shard1} = \\begin{description}\n",
       "\\item[\\$range] '80000000-7fffffff'\n",
       "\\item[\\$state] 'active'\n",
       "\\item[\\$replicas] \\textbf{\\$core\\_node2} = \\begin{description}\n",
       "\\item[\\$core] 'addrep\\_shard1\\_replica\\_n1'\n",
       "\\item[\\$base\\_url] 'http://127.0.1.1:8984/solr'\n",
       "\\item[\\$node\\_name] '127.0.1.1:8984\\_solr'\n",
       "\\item[\\$state] 'active'\n",
       "\\item[\\$type] 'NRT'\n",
       "\\item[\\$force\\_set\\_state] 'false'\n",
       "\\item[\\$leader] 'true'\n",
       "\\end{description}\n",
       "\n",
       "\\end{description}\n"
      ],
      "text/markdown": [
       "**$shard1** = $range\n",
       ":   '80000000-7fffffff'\n",
       "$state\n",
       ":   'active'\n",
       "$replicas\n",
       ":   **$core_node2** = $core\n",
       ":   'addrep_shard1_replica_n1'\n",
       "$base_url\n",
       ":   'http://127.0.1.1:8984/solr'\n",
       "$node_name\n",
       ":   '127.0.1.1:8984_solr'\n",
       "$state\n",
       ":   'active'\n",
       "$type\n",
       ":   'NRT'\n",
       "$force_set_state\n",
       ":   'false'\n",
       "$leader\n",
       ":   'true'\n",
       "\n",
       "\n",
       "\n",
       "\n",
       "\n"
      ],
      "text/plain": [
       "$shard1\n",
       "$shard1$range\n",
       "[1] \"80000000-7fffffff\"\n",
       "\n",
       "$shard1$state\n",
       "[1] \"active\"\n",
       "\n",
       "$shard1$replicas\n",
       "$shard1$replicas$core_node2\n",
       "$shard1$replicas$core_node2$core\n",
       "[1] \"addrep_shard1_replica_n1\"\n",
       "\n",
       "$shard1$replicas$core_node2$base_url\n",
       "[1] \"http://127.0.1.1:8984/solr\"\n",
       "\n",
       "$shard1$replicas$core_node2$node_name\n",
       "[1] \"127.0.1.1:8984_solr\"\n",
       "\n",
       "$shard1$replicas$core_node2$state\n",
       "[1] \"active\"\n",
       "\n",
       "$shard1$replicas$core_node2$type\n",
       "[1] \"NRT\"\n",
       "\n",
       "$shard1$replicas$core_node2$force_set_state\n",
       "[1] \"false\"\n",
       "\n",
       "$shard1$replicas$core_node2$leader\n",
       "[1] \"true\"\n",
       "\n",
       "\n",
       "\n"
      ]
     },
     "metadata": {},
     "output_type": "display_data"
    },
    {
     "data": {
      "text/plain": [
       "NULL"
      ]
     },
     "metadata": {},
     "output_type": "display_data"
    }
   ],
   "source": [
    "# check status\n",
    "conn$collection_clusterstatus()$cluster$collections$addrep$shards\n",
    "conn$collection_clusterstatus()$cluster$collections$addrep$shards$shard1$replicas$core_node1"
   ]
  },
  {
   "cell_type": "code",
   "execution_count": 31,
   "metadata": {},
   "outputs": [
    {
     "data": {
      "text/html": [
       "<strong>$responseHeader</strong> = <dl>\n",
       "\t<dt>$status</dt>\n",
       "\t\t<dd>0</dd>\n",
       "\t<dt>$QTime</dt>\n",
       "\t\t<dd>16</dd>\n",
       "</dl>\n"
      ],
      "text/latex": [
       "\\textbf{\\$responseHeader} = \\begin{description}\n",
       "\\item[\\$status] 0\n",
       "\\item[\\$QTime] 16\n",
       "\\end{description}\n"
      ],
      "text/markdown": [
       "**$responseHeader** = $status\n",
       ":   0\n",
       "$QTime\n",
       ":   16\n",
       "\n",
       "\n"
      ],
      "text/plain": [
       "$responseHeader\n",
       "$responseHeader$status\n",
       "[1] 0\n",
       "\n",
       "$responseHeader$QTime\n",
       "[1] 16\n",
       "\n"
      ]
     },
     "metadata": {},
     "output_type": "display_data"
    }
   ],
   "source": [
    "nodes <- conn$collection_clusterstatus()$cluster$live_nodes\n",
    "collection_addrole(conn, node = nodes[1])"
   ]
  },
  {
   "cell_type": "code",
   "execution_count": 32,
   "metadata": {},
   "outputs": [
    {
     "data": {
      "text/html": [
       "<strong>$responseHeader</strong> = <dl>\n",
       "\t<dt>$status</dt>\n",
       "\t\t<dd>0</dd>\n",
       "\t<dt>$QTime</dt>\n",
       "\t\t<dd>0</dd>\n",
       "</dl>\n"
      ],
      "text/latex": [
       "\\textbf{\\$responseHeader} = \\begin{description}\n",
       "\\item[\\$status] 0\n",
       "\\item[\\$QTime] 0\n",
       "\\end{description}\n"
      ],
      "text/markdown": [
       "**$responseHeader** = $status\n",
       ":   0\n",
       "$QTime\n",
       ":   0\n",
       "\n",
       "\n"
      ],
      "text/plain": [
       "$responseHeader\n",
       "$responseHeader$status\n",
       "[1] 0\n",
       "\n",
       "$responseHeader$QTime\n",
       "[1] 0\n",
       "\n"
      ]
     },
     "metadata": {},
     "output_type": "display_data"
    }
   ],
   "source": [
    "collection_clusterprop(conn, name = \"urlScheme\", val = \"https\")"
   ]
  },
  {
   "cell_type": "code",
   "execution_count": 33,
   "metadata": {},
   "outputs": [
    {
     "data": {
      "text/html": [
       "<dl>\n",
       "\t<dt>$responseHeader</dt>\n",
       "\t\t<dd><dl>\n",
       "\t<dt>$status</dt>\n",
       "\t\t<dd>0</dd>\n",
       "\t<dt>$QTime</dt>\n",
       "\t\t<dd>31084</dd>\n",
       "</dl>\n",
       "</dd>\n",
       "\t<dt>$failure</dt>\n",
       "\t\t<dd><strong>$`127.0.1.1:8984_solr`</strong> = 'org.apache.solr.client.solrj.SolrServerException:IOException occured when talking to server at: https://127.0.1.1:8984/solr'</dd>\n",
       "</dl>\n"
      ],
      "text/latex": [
       "\\begin{description}\n",
       "\\item[\\$responseHeader] \\begin{description}\n",
       "\\item[\\$status] 0\n",
       "\\item[\\$QTime] 31084\n",
       "\\end{description}\n",
       "\n",
       "\\item[\\$failure] \\textbf{\\$`127.0.1.1:8984\\_solr`} = 'org.apache.solr.client.solrj.SolrServerException:IOException occured when talking to server at: https://127.0.1.1:8984/solr'\n",
       "\\end{description}\n"
      ],
      "text/markdown": [
       "$responseHeader\n",
       ":   $status\n",
       ":   0\n",
       "$QTime\n",
       ":   31084\n",
       "\n",
       "\n",
       "\n",
       "$failure\n",
       ":   **$`127.0.1.1:8984_solr`** = 'org.apache.solr.client.solrj.SolrServerException:IOException occured when talking to server at: https://127.0.1.1:8984/solr'\n",
       "\n",
       "\n"
      ],
      "text/plain": [
       "$responseHeader\n",
       "$responseHeader$status\n",
       "[1] 0\n",
       "\n",
       "$responseHeader$QTime\n",
       "[1] 31084\n",
       "\n",
       "\n",
       "$failure\n",
       "$failure$`127.0.1.1:8984_solr`\n",
       "[1] \"org.apache.solr.client.solrj.SolrServerException:IOException occured when talking to server at: https://127.0.1.1:8984/solr\"\n",
       "\n"
      ]
     },
     "metadata": {},
     "output_type": "display_data"
    },
    {
     "data": {
      "text/html": [
       "<dl>\n",
       "\t<dt>$responseHeader</dt>\n",
       "\t\t<dd><dl>\n",
       "\t<dt>$status</dt>\n",
       "\t\t<dd>0</dd>\n",
       "\t<dt>$QTime</dt>\n",
       "\t\t<dd>31088</dd>\n",
       "</dl>\n",
       "</dd>\n",
       "\t<dt>$failure</dt>\n",
       "\t\t<dd><strong>$`127.0.1.1:8984_solr`</strong> = 'org.apache.solr.client.solrj.SolrServerException:IOException occured when talking to server at: https://127.0.1.1:8984/solr'</dd>\n",
       "</dl>\n"
      ],
      "text/latex": [
       "\\begin{description}\n",
       "\\item[\\$responseHeader] \\begin{description}\n",
       "\\item[\\$status] 0\n",
       "\\item[\\$QTime] 31088\n",
       "\\end{description}\n",
       "\n",
       "\\item[\\$failure] \\textbf{\\$`127.0.1.1:8984\\_solr`} = 'org.apache.solr.client.solrj.SolrServerException:IOException occured when talking to server at: https://127.0.1.1:8984/solr'\n",
       "\\end{description}\n"
      ],
      "text/markdown": [
       "$responseHeader\n",
       ":   $status\n",
       ":   0\n",
       "$QTime\n",
       ":   31088\n",
       "\n",
       "\n",
       "\n",
       "$failure\n",
       ":   **$`127.0.1.1:8984_solr`** = 'org.apache.solr.client.solrj.SolrServerException:IOException occured when talking to server at: https://127.0.1.1:8984/solr'\n",
       "\n",
       "\n"
      ],
      "text/plain": [
       "$responseHeader\n",
       "$responseHeader$status\n",
       "[1] 0\n",
       "\n",
       "$responseHeader$QTime\n",
       "[1] 31088\n",
       "\n",
       "\n",
       "$failure\n",
       "$failure$`127.0.1.1:8984_solr`\n",
       "[1] \"org.apache.solr.client.solrj.SolrServerException:IOException occured when talking to server at: https://127.0.1.1:8984/solr\"\n",
       "\n"
      ]
     },
     "metadata": {},
     "output_type": "display_data"
    }
   ],
   "source": [
    "if (!conn$collection_exists(\"helloWorld\")) {\n",
    "    conn$collection_create(name = \"helloWorld\")\n",
    "}\n",
    "if (!conn$collection_exists(\"tablesChairs\")) {\n",
    "    conn$collection_create(name = \"tablesChairs\")\n",
    "}"
   ]
  },
  {
   "cell_type": "code",
   "execution_count": 39,
   "metadata": {},
   "outputs": [
    {
     "ename": "ERROR",
     "evalue": "Error: lexical error: invalid char in json text.\n                                       <html> <head> <meta http-equiv=\n                     (right here) ------^\n\n",
     "execution_count": 39,
     "output_type": "error",
     "traceback": [
      "Error: lexical error: invalid char in json text.\n                                       <html> <head> <meta http-equiv=\n                     (right here) ------^\n\nTraceback:\n",
      "1. conn$update_csv(\"exemplocompraver.csv\", \"foobar\", verbose = TRUE)",
      "2. docreate(self$make_url(), sprintf(\"solr/%s/update/csv\", name), \n .     crul::upload(files), args, ctype_csv(), raw, self$proxy, \n .     ...)",
      "3. structure(solr_POST(base, path, files, args, ctype, proxy, ...), \n .     class = \"update\", wt = args$wt)",
      "4. solr_POST(base, path, files, args, ctype, proxy, ...)",
      "5. get_response(tt)",
      "6. jsonlite::fromJSON(x$parse(\"UTF-8\"))",
      "7. fromJSON_string(txt = txt, simplifyVector = simplifyVector, simplifyDataFrame = simplifyDataFrame, \n .     simplifyMatrix = simplifyMatrix, flatten = flatten, ...)",
      "8. parseJSON(txt, bigint_as_char)",
      "9. parse_string(txt, bigint_as_char)"
     ]
    }
   ],
   "source": [
    "conn$update_csv(\"exemplocompraver.csv\", \"foobar\", verbose = TRUE)"
   ]
  },
  {
   "cell_type": "code",
   "execution_count": 40,
   "metadata": {},
   "outputs": [
    {
     "name": "stderr",
     "output_type": "stream",
     "text": [
      "also installing the dependencies ‘sys’, ‘ps’, ‘askpass’, ‘backports’, ‘ini’, ‘processx’, ‘openssl’, ‘desc’, ‘prettyunits’, ‘rprojroot’, ‘xopen’, ‘clipr’, ‘clisymbols’, ‘fs’, ‘gh’, ‘whisker’, ‘callr’, ‘git2r’, ‘httr’, ‘memoise’, ‘pkgbuild’, ‘pkgload’, ‘rcmdcheck’, ‘remotes’, ‘rstudioapi’, ‘sessioninfo’, ‘usethis’, ‘withr’\n",
      "\n",
      "Updating HTML index of packages in '.Library'\n",
      "Making 'packages.html' ... done\n"
     ]
    }
   ],
   "source": [
    "install.packages(\"devtools\")"
   ]
  },
  {
   "cell_type": "code",
   "execution_count": null,
   "metadata": {},
   "outputs": [],
   "source": []
  }
 ],
 "metadata": {
  "kernelspec": {
   "display_name": "R",
   "language": "R",
   "name": "ir"
  },
  "language_info": {
   "codemirror_mode": "r",
   "file_extension": ".r",
   "mimetype": "text/x-r-source",
   "name": "R",
   "pygments_lexer": "r",
   "version": "3.5.1"
  }
 },
 "nbformat": 4,
 "nbformat_minor": 2
}
