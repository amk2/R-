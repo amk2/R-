{
 "cells": [
  {
   "cell_type": "code",
   "execution_count": 2,
   "metadata": {},
   "outputs": [],
   "source": [
    "library(\"solrium\")"
   ]
  },
  {
   "cell_type": "code",
   "execution_count": 3,
   "metadata": {},
   "outputs": [
    {
     "data": {
      "text/plain": [
       "<Solr Client>\n",
       "  host: localhost\n",
       "  path: search\n",
       "  port: 8984\n",
       "  scheme: http\n",
       "  errors: simple\n",
       "  proxy:"
      ]
     },
     "metadata": {},
     "output_type": "display_data"
    }
   ],
   "source": [
    "(conn <- SolrClient$new(host = \"localhost\", path = \"search\", port = 8984))\n"
   ]
  },
  {
   "cell_type": "code",
   "execution_count": 4,
   "metadata": {},
   "outputs": [
    {
     "data": {
      "text/html": [
       "<dl>\n",
       "\t<dt>$responseHeader</dt>\n",
       "\t\t<dd><dl>\n",
       "\t<dt>$status</dt>\n",
       "\t\t<dd>0</dd>\n",
       "\t<dt>$QTime</dt>\n",
       "\t\t<dd>0</dd>\n",
       "</dl>\n",
       "</dd>\n",
       "\t<dt>$collections</dt>\n",
       "\t\t<dd><ol class=list-inline>\n",
       "\t<li>'addrep'</li>\n",
       "\t<li>'foobar'</li>\n",
       "</ol>\n",
       "</dd>\n",
       "</dl>\n"
      ],
      "text/latex": [
       "\\begin{description}\n",
       "\\item[\\$responseHeader] \\begin{description}\n",
       "\\item[\\$status] 0\n",
       "\\item[\\$QTime] 0\n",
       "\\end{description}\n",
       "\n",
       "\\item[\\$collections] \\begin{enumerate*}\n",
       "\\item 'addrep'\n",
       "\\item 'foobar'\n",
       "\\end{enumerate*}\n",
       "\n",
       "\\end{description}\n"
      ],
      "text/markdown": [
       "$responseHeader\n",
       ":   $status\n",
       ":   0\n",
       "$QTime\n",
       ":   0\n",
       "\n",
       "\n",
       "\n",
       "$collections\n",
       ":   1. 'addrep'\n",
       "2. 'foobar'\n",
       "\n",
       "\n",
       "\n",
       "\n",
       "\n"
      ],
      "text/plain": [
       "$responseHeader\n",
       "$responseHeader$status\n",
       "[1] 0\n",
       "\n",
       "$responseHeader$QTime\n",
       "[1] 0\n",
       "\n",
       "\n",
       "$collections\n",
       "[1] \"addrep\" \"foobar\"\n"
      ]
     },
     "metadata": {},
     "output_type": "display_data"
    }
   ],
   "source": [
    "conn$collection_list()\n"
   ]
  },
  {
   "cell_type": "code",
   "execution_count": 5,
   "metadata": {},
   "outputs": [
    {
     "data": {
      "text/html": [
       "<ol class=list-inline>\n",
       "\t<li>'addrep'</li>\n",
       "\t<li>'foobar'</li>\n",
       "</ol>\n"
      ],
      "text/latex": [
       "\\begin{enumerate*}\n",
       "\\item 'addrep'\n",
       "\\item 'foobar'\n",
       "\\end{enumerate*}\n"
      ],
      "text/markdown": [
       "1. 'addrep'\n",
       "2. 'foobar'\n",
       "\n",
       "\n"
      ],
      "text/plain": [
       "[1] \"addrep\" \"foobar\""
      ]
     },
     "metadata": {},
     "output_type": "display_data"
    }
   ],
   "source": [
    "collections(conn)\n"
   ]
  },
  {
   "cell_type": "code",
   "execution_count": 6,
   "metadata": {},
   "outputs": [
    {
     "data": {
      "text/html": [
       "<dl>\n",
       "\t<dt>$responseHeader</dt>\n",
       "\t\t<dd><dl>\n",
       "\t<dt>$status</dt>\n",
       "\t\t<dd>0</dd>\n",
       "\t<dt>$QTime</dt>\n",
       "\t\t<dd>0</dd>\n",
       "</dl>\n",
       "</dd>\n",
       "\t<dt>$initFailures</dt>\n",
       "\t\t<dd><strong>$gettingstarted</strong> = 'org.apache.solr.common.SolrException:org.apache.solr.common.SolrException: '</dd>\n",
       "\t<dt>$status</dt>\n",
       "\t\t<dd><strong>$addrep_shard1_replica_n1</strong> = <dl>\n",
       "\t<dt>$name</dt>\n",
       "\t\t<dd>'addrep_shard1_replica_n1'</dd>\n",
       "\t<dt>$instanceDir</dt>\n",
       "\t\t<dd>'/var/solr/data/addrep_shard1_replica_n1'</dd>\n",
       "\t<dt>$dataDir</dt>\n",
       "\t\t<dd>'/var/solr/data/addrep_shard1_replica_n1/data/'</dd>\n",
       "\t<dt>$config</dt>\n",
       "\t\t<dd>'solrconfig.xml'</dd>\n",
       "\t<dt>$schema</dt>\n",
       "\t\t<dd>'managed-schema'</dd>\n",
       "\t<dt>$startTime</dt>\n",
       "\t\t<dd>'2019-03-29T11:57:58.256Z'</dd>\n",
       "\t<dt>$uptime</dt>\n",
       "\t\t<dd>352447698</dd>\n",
       "\t<dt>$lastPublished</dt>\n",
       "\t\t<dd>'active'</dd>\n",
       "\t<dt>$configVersion</dt>\n",
       "\t\t<dd>0</dd>\n",
       "\t<dt>$cloud</dt>\n",
       "\t\t<dd><dl>\n",
       "\t<dt>$collection</dt>\n",
       "\t\t<dd>'addrep'</dd>\n",
       "\t<dt>$shard</dt>\n",
       "\t\t<dd>'shard1'</dd>\n",
       "\t<dt>$replica</dt>\n",
       "\t\t<dd>'core_node2'</dd>\n",
       "</dl>\n",
       "</dd>\n",
       "\t<dt>$index</dt>\n",
       "\t\t<dd><dl>\n",
       "\t<dt>$numDocs</dt>\n",
       "\t\t<dd>0</dd>\n",
       "\t<dt>$maxDoc</dt>\n",
       "\t\t<dd>0</dd>\n",
       "\t<dt>$deletedDocs</dt>\n",
       "\t\t<dd>0</dd>\n",
       "\t<dt>$indexHeapUsageBytes</dt>\n",
       "\t\t<dd>0</dd>\n",
       "\t<dt>$version</dt>\n",
       "\t\t<dd>2</dd>\n",
       "\t<dt>$segmentCount</dt>\n",
       "\t\t<dd>0</dd>\n",
       "\t<dt>$current</dt>\n",
       "\t\t<dd>TRUE</dd>\n",
       "\t<dt>$hasDeletions</dt>\n",
       "\t\t<dd>FALSE</dd>\n",
       "\t<dt>$directory</dt>\n",
       "\t\t<dd>'org.apache.lucene.store.NRTCachingDirectory:NRTCachingDirectory(MMapDirectory@/var/solr/data/addrep_shard1_replica_n1/data/index lockFactory=org.apache.lucene.store.NativeFSLockFactory@12740df7; maxCacheMB=48.0 maxMergeSizeMB=4.0)'</dd>\n",
       "\t<dt>$segmentsFile</dt>\n",
       "\t\t<dd>'segments_1'</dd>\n",
       "\t<dt>$segmentsFileSizeInBytes</dt>\n",
       "\t\t<dd>69</dd>\n",
       "\t<dt>$userData</dt>\n",
       "\t\t<dd><dl>\n",
       "</dl>\n",
       "</dd>\n",
       "\t<dt>$sizeInBytes</dt>\n",
       "\t\t<dd>69</dd>\n",
       "\t<dt>$size</dt>\n",
       "\t\t<dd>'69 bytes'</dd>\n",
       "</dl>\n",
       "</dd>\n",
       "</dl>\n",
       "</dd>\n",
       "</dl>\n"
      ],
      "text/latex": [
       "\\begin{description}\n",
       "\\item[\\$responseHeader] \\begin{description}\n",
       "\\item[\\$status] 0\n",
       "\\item[\\$QTime] 0\n",
       "\\end{description}\n",
       "\n",
       "\\item[\\$initFailures] \\textbf{\\$gettingstarted} = 'org.apache.solr.common.SolrException:org.apache.solr.common.SolrException: '\n",
       "\\item[\\$status] \\textbf{\\$addrep\\_shard1\\_replica\\_n1} = \\begin{description}\n",
       "\\item[\\$name] 'addrep\\_shard1\\_replica\\_n1'\n",
       "\\item[\\$instanceDir] '/var/solr/data/addrep\\_shard1\\_replica\\_n1'\n",
       "\\item[\\$dataDir] '/var/solr/data/addrep\\_shard1\\_replica\\_n1/data/'\n",
       "\\item[\\$config] 'solrconfig.xml'\n",
       "\\item[\\$schema] 'managed-schema'\n",
       "\\item[\\$startTime] '2019-03-29T11:57:58.256Z'\n",
       "\\item[\\$uptime] 352447698\n",
       "\\item[\\$lastPublished] 'active'\n",
       "\\item[\\$configVersion] 0\n",
       "\\item[\\$cloud] \\begin{description}\n",
       "\\item[\\$collection] 'addrep'\n",
       "\\item[\\$shard] 'shard1'\n",
       "\\item[\\$replica] 'core\\_node2'\n",
       "\\end{description}\n",
       "\n",
       "\\item[\\$index] \\begin{description}\n",
       "\\item[\\$numDocs] 0\n",
       "\\item[\\$maxDoc] 0\n",
       "\\item[\\$deletedDocs] 0\n",
       "\\item[\\$indexHeapUsageBytes] 0\n",
       "\\item[\\$version] 2\n",
       "\\item[\\$segmentCount] 0\n",
       "\\item[\\$current] TRUE\n",
       "\\item[\\$hasDeletions] FALSE\n",
       "\\item[\\$directory] 'org.apache.lucene.store.NRTCachingDirectory:NRTCachingDirectory(MMapDirectory@/var/solr/data/addrep\\_shard1\\_replica\\_n1/data/index lockFactory=org.apache.lucene.store.NativeFSLockFactory@12740df7; maxCacheMB=48.0 maxMergeSizeMB=4.0)'\n",
       "\\item[\\$segmentsFile] 'segments\\_1'\n",
       "\\item[\\$segmentsFileSizeInBytes] 69\n",
       "\\item[\\$userData] \\begin{description}\n",
       "\\end{description}\n",
       "\n",
       "\\item[\\$sizeInBytes] 69\n",
       "\\item[\\$size] '69 bytes'\n",
       "\\end{description}\n",
       "\n",
       "\\end{description}\n",
       "\n",
       "\\end{description}\n"
      ],
      "text/markdown": [
       "$responseHeader\n",
       ":   $status\n",
       ":   0\n",
       "$QTime\n",
       ":   0\n",
       "\n",
       "\n",
       "\n",
       "$initFailures\n",
       ":   **$gettingstarted** = 'org.apache.solr.common.SolrException:org.apache.solr.common.SolrException: '\n",
       "$status\n",
       ":   **$addrep_shard1_replica_n1** = $name\n",
       ":   'addrep_shard1_replica_n1'\n",
       "$instanceDir\n",
       ":   '/var/solr/data/addrep_shard1_replica_n1'\n",
       "$dataDir\n",
       ":   '/var/solr/data/addrep_shard1_replica_n1/data/'\n",
       "$config\n",
       ":   'solrconfig.xml'\n",
       "$schema\n",
       ":   'managed-schema'\n",
       "$startTime\n",
       ":   '2019-03-29T11:57:58.256Z'\n",
       "$uptime\n",
       ":   352447698\n",
       "$lastPublished\n",
       ":   'active'\n",
       "$configVersion\n",
       ":   0\n",
       "$cloud\n",
       ":   $collection\n",
       ":   'addrep'\n",
       "$shard\n",
       ":   'shard1'\n",
       "$replica\n",
       ":   'core_node2'\n",
       "\n",
       "\n",
       "\n",
       "$index\n",
       ":   $numDocs\n",
       ":   0\n",
       "$maxDoc\n",
       ":   0\n",
       "$deletedDocs\n",
       ":   0\n",
       "$indexHeapUsageBytes\n",
       ":   0\n",
       "$version\n",
       ":   2\n",
       "$segmentCount\n",
       ":   0\n",
       "$current\n",
       ":   TRUE\n",
       "$hasDeletions\n",
       ":   FALSE\n",
       "$directory\n",
       ":   'org.apache.lucene.store.NRTCachingDirectory:NRTCachingDirectory(MMapDirectory@/var/solr/data/addrep_shard1_replica_n1/data/index lockFactory=org.apache.lucene.store.NativeFSLockFactory@12740df7; maxCacheMB=48.0 maxMergeSizeMB=4.0)'\n",
       "$segmentsFile\n",
       ":   'segments_1'\n",
       "$segmentsFileSizeInBytes\n",
       ":   69\n",
       "$userData\n",
       ":   \n",
       "\n",
       "\n",
       "$sizeInBytes\n",
       ":   69\n",
       "$size\n",
       ":   '69 bytes'\n",
       "\n",
       "\n",
       "\n",
       "\n",
       "\n",
       "\n",
       "\n",
       "\n"
      ],
      "text/plain": [
       "$responseHeader\n",
       "$responseHeader$status\n",
       "[1] 0\n",
       "\n",
       "$responseHeader$QTime\n",
       "[1] 0\n",
       "\n",
       "\n",
       "$initFailures\n",
       "$initFailures$gettingstarted\n",
       "[1] \"org.apache.solr.common.SolrException:org.apache.solr.common.SolrException: \"\n",
       "\n",
       "\n",
       "$status\n",
       "$status$addrep_shard1_replica_n1\n",
       "$status$addrep_shard1_replica_n1$name\n",
       "[1] \"addrep_shard1_replica_n1\"\n",
       "\n",
       "$status$addrep_shard1_replica_n1$instanceDir\n",
       "[1] \"/var/solr/data/addrep_shard1_replica_n1\"\n",
       "\n",
       "$status$addrep_shard1_replica_n1$dataDir\n",
       "[1] \"/var/solr/data/addrep_shard1_replica_n1/data/\"\n",
       "\n",
       "$status$addrep_shard1_replica_n1$config\n",
       "[1] \"solrconfig.xml\"\n",
       "\n",
       "$status$addrep_shard1_replica_n1$schema\n",
       "[1] \"managed-schema\"\n",
       "\n",
       "$status$addrep_shard1_replica_n1$startTime\n",
       "[1] \"2019-03-29T11:57:58.256Z\"\n",
       "\n",
       "$status$addrep_shard1_replica_n1$uptime\n",
       "[1] 352447698\n",
       "\n",
       "$status$addrep_shard1_replica_n1$lastPublished\n",
       "[1] \"active\"\n",
       "\n",
       "$status$addrep_shard1_replica_n1$configVersion\n",
       "[1] 0\n",
       "\n",
       "$status$addrep_shard1_replica_n1$cloud\n",
       "$status$addrep_shard1_replica_n1$cloud$collection\n",
       "[1] \"addrep\"\n",
       "\n",
       "$status$addrep_shard1_replica_n1$cloud$shard\n",
       "[1] \"shard1\"\n",
       "\n",
       "$status$addrep_shard1_replica_n1$cloud$replica\n",
       "[1] \"core_node2\"\n",
       "\n",
       "\n",
       "$status$addrep_shard1_replica_n1$index\n",
       "$status$addrep_shard1_replica_n1$index$numDocs\n",
       "[1] 0\n",
       "\n",
       "$status$addrep_shard1_replica_n1$index$maxDoc\n",
       "[1] 0\n",
       "\n",
       "$status$addrep_shard1_replica_n1$index$deletedDocs\n",
       "[1] 0\n",
       "\n",
       "$status$addrep_shard1_replica_n1$index$indexHeapUsageBytes\n",
       "[1] 0\n",
       "\n",
       "$status$addrep_shard1_replica_n1$index$version\n",
       "[1] 2\n",
       "\n",
       "$status$addrep_shard1_replica_n1$index$segmentCount\n",
       "[1] 0\n",
       "\n",
       "$status$addrep_shard1_replica_n1$index$current\n",
       "[1] TRUE\n",
       "\n",
       "$status$addrep_shard1_replica_n1$index$hasDeletions\n",
       "[1] FALSE\n",
       "\n",
       "$status$addrep_shard1_replica_n1$index$directory\n",
       "[1] \"org.apache.lucene.store.NRTCachingDirectory:NRTCachingDirectory(MMapDirectory@/var/solr/data/addrep_shard1_replica_n1/data/index lockFactory=org.apache.lucene.store.NativeFSLockFactory@12740df7; maxCacheMB=48.0 maxMergeSizeMB=4.0)\"\n",
       "\n",
       "$status$addrep_shard1_replica_n1$index$segmentsFile\n",
       "[1] \"segments_1\"\n",
       "\n",
       "$status$addrep_shard1_replica_n1$index$segmentsFileSizeInBytes\n",
       "[1] 69\n",
       "\n",
       "$status$addrep_shard1_replica_n1$index$userData\n",
       "named list()\n",
       "\n",
       "$status$addrep_shard1_replica_n1$index$sizeInBytes\n",
       "[1] 69\n",
       "\n",
       "$status$addrep_shard1_replica_n1$index$size\n",
       "[1] \"69 bytes\"\n",
       "\n",
       "\n",
       "\n"
      ]
     },
     "metadata": {},
     "output_type": "display_data"
    }
   ],
   "source": [
    "conn$core_status()\n"
   ]
  },
  {
   "cell_type": "code",
   "execution_count": 7,
   "metadata": {},
   "outputs": [
    {
     "data": {
      "text/html": [
       "'addrep_shard1_replica_n1'"
      ],
      "text/latex": [
       "'addrep\\_shard1\\_replica\\_n1'"
      ],
      "text/markdown": [
       "'addrep_shard1_replica_n1'"
      ],
      "text/plain": [
       "[1] \"addrep_shard1_replica_n1\""
      ]
     },
     "metadata": {},
     "output_type": "display_data"
    }
   ],
   "source": [
    "cores(conn)\n"
   ]
  },
  {
   "cell_type": "code",
   "execution_count": 8,
   "metadata": {},
   "outputs": [],
   "source": [
    "# create collection\n",
    "if (!conn$collection_exists(\"addrep\")) {\n",
    "conn$collection_create(name = \"addrep\", numShards = 1)\n",
    "# OR bin/solr create -c addrep\n",
    "}"
   ]
  },
  {
   "cell_type": "code",
   "execution_count": 9,
   "metadata": {},
   "outputs": [
    {
     "data": {
      "text/html": [
       "<strong>$shard1</strong> = <dl>\n",
       "\t<dt>$range</dt>\n",
       "\t\t<dd>'80000000-7fffffff'</dd>\n",
       "\t<dt>$state</dt>\n",
       "\t\t<dd>'active'</dd>\n",
       "\t<dt>$replicas</dt>\n",
       "\t\t<dd><strong>$core_node2</strong> = <dl>\n",
       "\t<dt>$core</dt>\n",
       "\t\t<dd>'addrep_shard1_replica_n1'</dd>\n",
       "\t<dt>$base_url</dt>\n",
       "\t\t<dd>'http://127.0.1.1:8984/solr'</dd>\n",
       "\t<dt>$node_name</dt>\n",
       "\t\t<dd>'127.0.1.1:8984_solr'</dd>\n",
       "\t<dt>$state</dt>\n",
       "\t\t<dd>'active'</dd>\n",
       "\t<dt>$type</dt>\n",
       "\t\t<dd>'NRT'</dd>\n",
       "\t<dt>$force_set_state</dt>\n",
       "\t\t<dd>'false'</dd>\n",
       "\t<dt>$leader</dt>\n",
       "\t\t<dd>'true'</dd>\n",
       "</dl>\n",
       "</dd>\n",
       "</dl>\n"
      ],
      "text/latex": [
       "\\textbf{\\$shard1} = \\begin{description}\n",
       "\\item[\\$range] '80000000-7fffffff'\n",
       "\\item[\\$state] 'active'\n",
       "\\item[\\$replicas] \\textbf{\\$core\\_node2} = \\begin{description}\n",
       "\\item[\\$core] 'addrep\\_shard1\\_replica\\_n1'\n",
       "\\item[\\$base\\_url] 'http://127.0.1.1:8984/solr'\n",
       "\\item[\\$node\\_name] '127.0.1.1:8984\\_solr'\n",
       "\\item[\\$state] 'active'\n",
       "\\item[\\$type] 'NRT'\n",
       "\\item[\\$force\\_set\\_state] 'false'\n",
       "\\item[\\$leader] 'true'\n",
       "\\end{description}\n",
       "\n",
       "\\end{description}\n"
      ],
      "text/markdown": [
       "**$shard1** = $range\n",
       ":   '80000000-7fffffff'\n",
       "$state\n",
       ":   'active'\n",
       "$replicas\n",
       ":   **$core_node2** = $core\n",
       ":   'addrep_shard1_replica_n1'\n",
       "$base_url\n",
       ":   'http://127.0.1.1:8984/solr'\n",
       "$node_name\n",
       ":   '127.0.1.1:8984_solr'\n",
       "$state\n",
       ":   'active'\n",
       "$type\n",
       ":   'NRT'\n",
       "$force_set_state\n",
       ":   'false'\n",
       "$leader\n",
       ":   'true'\n",
       "\n",
       "\n",
       "\n",
       "\n",
       "\n"
      ],
      "text/plain": [
       "$shard1\n",
       "$shard1$range\n",
       "[1] \"80000000-7fffffff\"\n",
       "\n",
       "$shard1$state\n",
       "[1] \"active\"\n",
       "\n",
       "$shard1$replicas\n",
       "$shard1$replicas$core_node2\n",
       "$shard1$replicas$core_node2$core\n",
       "[1] \"addrep_shard1_replica_n1\"\n",
       "\n",
       "$shard1$replicas$core_node2$base_url\n",
       "[1] \"http://127.0.1.1:8984/solr\"\n",
       "\n",
       "$shard1$replicas$core_node2$node_name\n",
       "[1] \"127.0.1.1:8984_solr\"\n",
       "\n",
       "$shard1$replicas$core_node2$state\n",
       "[1] \"active\"\n",
       "\n",
       "$shard1$replicas$core_node2$type\n",
       "[1] \"NRT\"\n",
       "\n",
       "$shard1$replicas$core_node2$force_set_state\n",
       "[1] \"false\"\n",
       "\n",
       "$shard1$replicas$core_node2$leader\n",
       "[1] \"true\"\n",
       "\n",
       "\n",
       "\n"
      ]
     },
     "metadata": {},
     "output_type": "display_data"
    }
   ],
   "source": [
    "conn$collection_clusterstatus()$cluster$collections$addrep$shards"
   ]
  },
  {
   "cell_type": "code",
   "execution_count": 29,
   "metadata": {},
   "outputs": [
    {
     "data": {
      "text/html": [
       "<strong>$responseHeader</strong> = <dl>\n",
       "\t<dt>$status</dt>\n",
       "\t\t<dd>0</dd>\n",
       "\t<dt>$QTime</dt>\n",
       "\t\t<dd>21</dd>\n",
       "</dl>\n"
      ],
      "text/latex": [
       "\\textbf{\\$responseHeader} = \\begin{description}\n",
       "\\item[\\$status] 0\n",
       "\\item[\\$QTime] 21\n",
       "\\end{description}\n"
      ],
      "text/markdown": [
       "**$responseHeader** = $status\n",
       ":   0\n",
       "$QTime\n",
       ":   21\n",
       "\n",
       "\n"
      ],
      "text/plain": [
       "$responseHeader\n",
       "$responseHeader$status\n",
       "[1] 0\n",
       "\n",
       "$responseHeader$QTime\n",
       "[1] 21\n",
       "\n"
      ]
     },
     "metadata": {},
     "output_type": "display_data"
    }
   ],
   "source": [
    "# add the value world to the property hello\n",
    "conn$collection_addreplicaprop(name = \"addrep\", shard = \"shard1\",\n",
    "replica = \"core_node1\", property = \"hello\", property.value = \"world\")"
   ]
  },
  {
   "cell_type": "code",
   "execution_count": 30,
   "metadata": {},
   "outputs": [
    {
     "data": {
      "text/html": [
       "<strong>$shard1</strong> = <dl>\n",
       "\t<dt>$range</dt>\n",
       "\t\t<dd>'80000000-7fffffff'</dd>\n",
       "\t<dt>$state</dt>\n",
       "\t\t<dd>'active'</dd>\n",
       "\t<dt>$replicas</dt>\n",
       "\t\t<dd><strong>$core_node2</strong> = <dl>\n",
       "\t<dt>$core</dt>\n",
       "\t\t<dd>'addrep_shard1_replica_n1'</dd>\n",
       "\t<dt>$base_url</dt>\n",
       "\t\t<dd>'http://127.0.1.1:8984/solr'</dd>\n",
       "\t<dt>$node_name</dt>\n",
       "\t\t<dd>'127.0.1.1:8984_solr'</dd>\n",
       "\t<dt>$state</dt>\n",
       "\t\t<dd>'active'</dd>\n",
       "\t<dt>$type</dt>\n",
       "\t\t<dd>'NRT'</dd>\n",
       "\t<dt>$force_set_state</dt>\n",
       "\t\t<dd>'false'</dd>\n",
       "\t<dt>$leader</dt>\n",
       "\t\t<dd>'true'</dd>\n",
       "</dl>\n",
       "</dd>\n",
       "</dl>\n"
      ],
      "text/latex": [
       "\\textbf{\\$shard1} = \\begin{description}\n",
       "\\item[\\$range] '80000000-7fffffff'\n",
       "\\item[\\$state] 'active'\n",
       "\\item[\\$replicas] \\textbf{\\$core\\_node2} = \\begin{description}\n",
       "\\item[\\$core] 'addrep\\_shard1\\_replica\\_n1'\n",
       "\\item[\\$base\\_url] 'http://127.0.1.1:8984/solr'\n",
       "\\item[\\$node\\_name] '127.0.1.1:8984\\_solr'\n",
       "\\item[\\$state] 'active'\n",
       "\\item[\\$type] 'NRT'\n",
       "\\item[\\$force\\_set\\_state] 'false'\n",
       "\\item[\\$leader] 'true'\n",
       "\\end{description}\n",
       "\n",
       "\\end{description}\n"
      ],
      "text/markdown": [
       "**$shard1** = $range\n",
       ":   '80000000-7fffffff'\n",
       "$state\n",
       ":   'active'\n",
       "$replicas\n",
       ":   **$core_node2** = $core\n",
       ":   'addrep_shard1_replica_n1'\n",
       "$base_url\n",
       ":   'http://127.0.1.1:8984/solr'\n",
       "$node_name\n",
       ":   '127.0.1.1:8984_solr'\n",
       "$state\n",
       ":   'active'\n",
       "$type\n",
       ":   'NRT'\n",
       "$force_set_state\n",
       ":   'false'\n",
       "$leader\n",
       ":   'true'\n",
       "\n",
       "\n",
       "\n",
       "\n",
       "\n"
      ],
      "text/plain": [
       "$shard1\n",
       "$shard1$range\n",
       "[1] \"80000000-7fffffff\"\n",
       "\n",
       "$shard1$state\n",
       "[1] \"active\"\n",
       "\n",
       "$shard1$replicas\n",
       "$shard1$replicas$core_node2\n",
       "$shard1$replicas$core_node2$core\n",
       "[1] \"addrep_shard1_replica_n1\"\n",
       "\n",
       "$shard1$replicas$core_node2$base_url\n",
       "[1] \"http://127.0.1.1:8984/solr\"\n",
       "\n",
       "$shard1$replicas$core_node2$node_name\n",
       "[1] \"127.0.1.1:8984_solr\"\n",
       "\n",
       "$shard1$replicas$core_node2$state\n",
       "[1] \"active\"\n",
       "\n",
       "$shard1$replicas$core_node2$type\n",
       "[1] \"NRT\"\n",
       "\n",
       "$shard1$replicas$core_node2$force_set_state\n",
       "[1] \"false\"\n",
       "\n",
       "$shard1$replicas$core_node2$leader\n",
       "[1] \"true\"\n",
       "\n",
       "\n",
       "\n"
      ]
     },
     "metadata": {},
     "output_type": "display_data"
    },
    {
     "data": {
      "text/plain": [
       "NULL"
      ]
     },
     "metadata": {},
     "output_type": "display_data"
    }
   ],
   "source": [
    "# check status\n",
    "conn$collection_clusterstatus()$cluster$collections$addrep$shards\n",
    "conn$collection_clusterstatus()$cluster$collections$addrep$shards$shard1$replicas$core_node1"
   ]
  },
  {
   "cell_type": "code",
   "execution_count": 31,
   "metadata": {},
   "outputs": [
    {
     "data": {
      "text/html": [
       "<strong>$responseHeader</strong> = <dl>\n",
       "\t<dt>$status</dt>\n",
       "\t\t<dd>0</dd>\n",
       "\t<dt>$QTime</dt>\n",
       "\t\t<dd>16</dd>\n",
       "</dl>\n"
      ],
      "text/latex": [
       "\\textbf{\\$responseHeader} = \\begin{description}\n",
       "\\item[\\$status] 0\n",
       "\\item[\\$QTime] 16\n",
       "\\end{description}\n"
      ],
      "text/markdown": [
       "**$responseHeader** = $status\n",
       ":   0\n",
       "$QTime\n",
       ":   16\n",
       "\n",
       "\n"
      ],
      "text/plain": [
       "$responseHeader\n",
       "$responseHeader$status\n",
       "[1] 0\n",
       "\n",
       "$responseHeader$QTime\n",
       "[1] 16\n",
       "\n"
      ]
     },
     "metadata": {},
     "output_type": "display_data"
    }
   ],
   "source": [
    "nodes <- conn$collection_clusterstatus()$cluster$live_nodes\n",
    "collection_addrole(conn, node = nodes[1])"
   ]
  },
  {
   "cell_type": "code",
   "execution_count": 32,
   "metadata": {},
   "outputs": [
    {
     "data": {
      "text/html": [
       "<strong>$responseHeader</strong> = <dl>\n",
       "\t<dt>$status</dt>\n",
       "\t\t<dd>0</dd>\n",
       "\t<dt>$QTime</dt>\n",
       "\t\t<dd>0</dd>\n",
       "</dl>\n"
      ],
      "text/latex": [
       "\\textbf{\\$responseHeader} = \\begin{description}\n",
       "\\item[\\$status] 0\n",
       "\\item[\\$QTime] 0\n",
       "\\end{description}\n"
      ],
      "text/markdown": [
       "**$responseHeader** = $status\n",
       ":   0\n",
       "$QTime\n",
       ":   0\n",
       "\n",
       "\n"
      ],
      "text/plain": [
       "$responseHeader\n",
       "$responseHeader$status\n",
       "[1] 0\n",
       "\n",
       "$responseHeader$QTime\n",
       "[1] 0\n",
       "\n"
      ]
     },
     "metadata": {},
     "output_type": "display_data"
    }
   ],
   "source": [
    "collection_clusterprop(conn, name = \"urlScheme\", val = \"https\")"
   ]
  },
  {
   "cell_type": "code",
   "execution_count": 33,
   "metadata": {},
   "outputs": [
    {
     "data": {
      "text/html": [
       "<dl>\n",
       "\t<dt>$responseHeader</dt>\n",
       "\t\t<dd><dl>\n",
       "\t<dt>$status</dt>\n",
       "\t\t<dd>0</dd>\n",
       "\t<dt>$QTime</dt>\n",
       "\t\t<dd>31084</dd>\n",
       "</dl>\n",
       "</dd>\n",
       "\t<dt>$failure</dt>\n",
       "\t\t<dd><strong>$`127.0.1.1:8984_solr`</strong> = 'org.apache.solr.client.solrj.SolrServerException:IOException occured when talking to server at: https://127.0.1.1:8984/solr'</dd>\n",
       "</dl>\n"
      ],
      "text/latex": [
       "\\begin{description}\n",
       "\\item[\\$responseHeader] \\begin{description}\n",
       "\\item[\\$status] 0\n",
       "\\item[\\$QTime] 31084\n",
       "\\end{description}\n",
       "\n",
       "\\item[\\$failure] \\textbf{\\$`127.0.1.1:8984\\_solr`} = 'org.apache.solr.client.solrj.SolrServerException:IOException occured when talking to server at: https://127.0.1.1:8984/solr'\n",
       "\\end{description}\n"
      ],
      "text/markdown": [
       "$responseHeader\n",
       ":   $status\n",
       ":   0\n",
       "$QTime\n",
       ":   31084\n",
       "\n",
       "\n",
       "\n",
       "$failure\n",
       ":   **$`127.0.1.1:8984_solr`** = 'org.apache.solr.client.solrj.SolrServerException:IOException occured when talking to server at: https://127.0.1.1:8984/solr'\n",
       "\n",
       "\n"
      ],
      "text/plain": [
       "$responseHeader\n",
       "$responseHeader$status\n",
       "[1] 0\n",
       "\n",
       "$responseHeader$QTime\n",
       "[1] 31084\n",
       "\n",
       "\n",
       "$failure\n",
       "$failure$`127.0.1.1:8984_solr`\n",
       "[1] \"org.apache.solr.client.solrj.SolrServerException:IOException occured when talking to server at: https://127.0.1.1:8984/solr\"\n",
       "\n"
      ]
     },
     "metadata": {},
     "output_type": "display_data"
    },
    {
     "data": {
      "text/html": [
       "<dl>\n",
       "\t<dt>$responseHeader</dt>\n",
       "\t\t<dd><dl>\n",
       "\t<dt>$status</dt>\n",
       "\t\t<dd>0</dd>\n",
       "\t<dt>$QTime</dt>\n",
       "\t\t<dd>31088</dd>\n",
       "</dl>\n",
       "</dd>\n",
       "\t<dt>$failure</dt>\n",
       "\t\t<dd><strong>$`127.0.1.1:8984_solr`</strong> = 'org.apache.solr.client.solrj.SolrServerException:IOException occured when talking to server at: https://127.0.1.1:8984/solr'</dd>\n",
       "</dl>\n"
      ],
      "text/latex": [
       "\\begin{description}\n",
       "\\item[\\$responseHeader] \\begin{description}\n",
       "\\item[\\$status] 0\n",
       "\\item[\\$QTime] 31088\n",
       "\\end{description}\n",
       "\n",
       "\\item[\\$failure] \\textbf{\\$`127.0.1.1:8984\\_solr`} = 'org.apache.solr.client.solrj.SolrServerException:IOException occured when talking to server at: https://127.0.1.1:8984/solr'\n",
       "\\end{description}\n"
      ],
      "text/markdown": [
       "$responseHeader\n",
       ":   $status\n",
       ":   0\n",
       "$QTime\n",
       ":   31088\n",
       "\n",
       "\n",
       "\n",
       "$failure\n",
       ":   **$`127.0.1.1:8984_solr`** = 'org.apache.solr.client.solrj.SolrServerException:IOException occured when talking to server at: https://127.0.1.1:8984/solr'\n",
       "\n",
       "\n"
      ],
      "text/plain": [
       "$responseHeader\n",
       "$responseHeader$status\n",
       "[1] 0\n",
       "\n",
       "$responseHeader$QTime\n",
       "[1] 31088\n",
       "\n",
       "\n",
       "$failure\n",
       "$failure$`127.0.1.1:8984_solr`\n",
       "[1] \"org.apache.solr.client.solrj.SolrServerException:IOException occured when talking to server at: https://127.0.1.1:8984/solr\"\n",
       "\n"
      ]
     },
     "metadata": {},
     "output_type": "display_data"
    }
   ],
   "source": [
    "if (!conn$collection_exists(\"helloWorld\")) {\n",
    "    conn$collection_create(name = \"helloWorld\")\n",
    "}\n",
    "if (!conn$collection_exists(\"tablesChairs\")) {\n",
    "    conn$collection_create(name = \"tablesChairs\")\n",
    "}"
   ]
  },
  {
   "cell_type": "code",
   "execution_count": 39,
   "metadata": {},
   "outputs": [
    {
     "ename": "ERROR",
     "evalue": "Error: lexical error: invalid char in json text.\n                                       <html> <head> <meta http-equiv=\n                     (right here) ------^\n\n",
     "execution_count": 39,
     "output_type": "error",
     "traceback": [
      "Error: lexical error: invalid char in json text.\n                                       <html> <head> <meta http-equiv=\n                     (right here) ------^\n\nTraceback:\n",
      "1. conn$update_csv(\"exemplocompraver.csv\", \"foobar\", verbose = TRUE)",
      "2. docreate(self$make_url(), sprintf(\"solr/%s/update/csv\", name), \n .     crul::upload(files), args, ctype_csv(), raw, self$proxy, \n .     ...)",
      "3. structure(solr_POST(base, path, files, args, ctype, proxy, ...), \n .     class = \"update\", wt = args$wt)",
      "4. solr_POST(base, path, files, args, ctype, proxy, ...)",
      "5. get_response(tt)",
      "6. jsonlite::fromJSON(x$parse(\"UTF-8\"))",
      "7. fromJSON_string(txt = txt, simplifyVector = simplifyVector, simplifyDataFrame = simplifyDataFrame, \n .     simplifyMatrix = simplifyMatrix, flatten = flatten, ...)",
      "8. parseJSON(txt, bigint_as_char)",
      "9. parse_string(txt, bigint_as_char)"
     ]
    }
   ],
   "source": [
    "conn$update_csv(\"exemplocompraver.csv\", \"foobar\", verbose = TRUE)"
   ]
  },
  {
   "cell_type": "code",
   "execution_count": 40,
   "metadata": {},
   "outputs": [
    {
     "name": "stderr",
     "output_type": "stream",
     "text": [
      "also installing the dependencies ‘sys’, ‘ps’, ‘askpass’, ‘backports’, ‘ini’, ‘processx’, ‘openssl’, ‘desc’, ‘prettyunits’, ‘rprojroot’, ‘xopen’, ‘clipr’, ‘clisymbols’, ‘fs’, ‘gh’, ‘whisker’, ‘callr’, ‘git2r’, ‘httr’, ‘memoise’, ‘pkgbuild’, ‘pkgload’, ‘rcmdcheck’, ‘remotes’, ‘rstudioapi’, ‘sessioninfo’, ‘usethis’, ‘withr’\n",
      "\n",
      "Updating HTML index of packages in '.Library'\n",
      "Making 'packages.html' ... done\n"
     ]
    }
   ],
   "source": [
    "install.packages(\"devtools\")"
   ]
  },
  {
   "cell_type": "code",
   "execution_count": 1,
   "metadata": {},
   "outputs": [
    {
     "data": {
      "text/plain": [
       "  Sepal.Length    Sepal.Width     Petal.Length    Petal.Width   \n",
       " Min.   :4.300   Min.   :2.000   Min.   :1.000   Min.   :0.100  \n",
       " 1st Qu.:5.100   1st Qu.:2.800   1st Qu.:1.600   1st Qu.:0.300  \n",
       " Median :5.800   Median :3.000   Median :4.350   Median :1.300  \n",
       " Mean   :5.843   Mean   :3.057   Mean   :3.758   Mean   :1.199  \n",
       " 3rd Qu.:6.400   3rd Qu.:3.300   3rd Qu.:5.100   3rd Qu.:1.800  \n",
       " Max.   :7.900   Max.   :4.400   Max.   :6.900   Max.   :2.500  \n",
       "       Species  \n",
       " setosa    :50  \n",
       " versicolor:50  \n",
       " virginica :50  \n",
       "                \n",
       "                \n",
       "                "
      ]
     },
     "metadata": {},
     "output_type": "display_data"
    }
   ],
   "source": [
    "summary(iris)"
   ]
  },
  {
   "cell_type": "code",
   "execution_count": null,
   "metadata": {},
   "outputs": [],
   "source": []
  }
 ],
 "metadata": {
  "kernelspec": {
   "display_name": "R",
   "language": "R",
   "name": "ir"
  },
  "language_info": {
   "codemirror_mode": "r",
   "file_extension": ".r",
   "mimetype": "text/x-r-source",
   "name": "R",
   "pygments_lexer": "r",
   "version": "3.5.1"
  }
 },
 "nbformat": 4,
 "nbformat_minor": 2
}
